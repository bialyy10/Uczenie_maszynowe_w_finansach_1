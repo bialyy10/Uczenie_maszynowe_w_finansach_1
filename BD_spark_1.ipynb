{
  "cells": [
    {
      "cell_type": "markdown",
      "metadata": {
        "id": "view-in-github",
        "colab_type": "text"
      },
      "source": [
        "<a href=\"https://colab.research.google.com/github/bialyy10/Uczenie_maszynowe_w_finansach_1/blob/main/BD_spark_1.ipynb\" target=\"_parent\"><img src=\"https://colab.research.google.com/assets/colab-badge.svg\" alt=\"Open In Colab\"/></a>"
      ]
    },
    {
      "cell_type": "markdown",
      "metadata": {
        "id": "7x5P9dAoSFpP"
      },
      "source": [
        "# Big Data\n",
        "\n",
        "### Prowadzący, modyfikacje i aktualizacja: dr Marcin Szmydt\n",
        "\n",
        "Opracowanie pierwotne: mgr inż. Dominik Filipiak\n",
        "Notebook do zdalnej pracy ze Sparkiem."
      ]
    },
    {
      "cell_type": "markdown",
      "metadata": {
        "id": "j8kb9zJ-S3vq"
      },
      "source": [
        "### Przygotowanie sparka do pracy z colabem\n",
        "\n",
        "Przed przystąpieniem do pracy musimy uruchomić poniższe komórki.\n",
        "W razie kłopotów sprawdźcie czy nie zmieniła się wersja tutaj: http://www.apache.org/dist/spark/. W razie czego trzeba pozmieniać numerki wszędzie (np. 3.4.1 na 3.5.1)."
      ]
    },
    {
      "cell_type": "markdown",
      "metadata": {
        "id": "voo4f_tVS_Gf"
      },
      "source": [
        "Tu ściągamy Javę oraz Sparka razem z Hadoopem, a także instalujemy pakiet findspark w pythonie. Pewnie już się domyślacie, że przez wykrzyknik można wywołać linuksowe polecenia w Colabie.\n",
        "\n"
      ]
    },
    {
      "cell_type": "code",
      "execution_count": 1,
      "metadata": {
        "id": "QCDxQmckSdjt"
      },
      "outputs": [],
      "source": [
        "!apt-get install openjdk-8-jdk-headless -qq > /dev/null\n",
        "!wget -q http://www.apache.org/dist/spark/spark-3.5.1/spark-3.5.1-bin-hadoop3.tgz\n",
        "!tar xf spark-3.5.1-bin-hadoop3.tgz\n",
        "!pip install -q findspark==1.3.0"
      ]
    },
    {
      "cell_type": "markdown",
      "metadata": {
        "id": "HYD8k9vQTK_g"
      },
      "source": [
        "Instalujemy pyspark w Pythonie"
      ]
    },
    {
      "cell_type": "code",
      "execution_count": 2,
      "metadata": {
        "id": "RM8cD2ieTLW8",
        "colab": {
          "base_uri": "https://localhost:8080/"
        },
        "outputId": "30eefb24-a1ef-410d-a2b7-312e2cbf7b11"
      },
      "outputs": [
        {
          "output_type": "stream",
          "name": "stdout",
          "text": [
            "\u001b[2K     \u001b[90m━━━━━━━━━━━━━━━━━━━━━━━━━━━━━━━━━━━━━━━━\u001b[0m \u001b[32m317.0/317.0 MB\u001b[0m \u001b[31m2.4 MB/s\u001b[0m eta \u001b[36m0:00:00\u001b[0m\n",
            "\u001b[?25h  Preparing metadata (setup.py) ... \u001b[?25l\u001b[?25hdone\n",
            "  Building wheel for pyspark (setup.py) ... \u001b[?25l\u001b[?25hdone\n"
          ]
        }
      ],
      "source": [
        "!pip install -q pyspark==3.5.1"
      ]
    },
    {
      "cell_type": "markdown",
      "metadata": {
        "id": "szctXV_6TTsb"
      },
      "source": [
        "Tu ustalamy zmienne środowiskowe."
      ]
    },
    {
      "cell_type": "code",
      "execution_count": 3,
      "metadata": {
        "id": "npdmo_U-TT-v"
      },
      "outputs": [],
      "source": [
        "import os\n",
        "os.environ[\"JAVA_HOME\"] = \"/usr/lib/jvm/java-8-openjdk-amd64\"\n",
        "os.environ[\"SPARK_HOME\"] = \"/content/spark-3.5.1-bin-hadoop3\""
      ]
    },
    {
      "cell_type": "markdown",
      "metadata": {
        "id": "RL047t4xTxdf"
      },
      "source": [
        "Jesteśmy gotowi do odpalenia Sparka - tworzymy sesję i kontekst."
      ]
    },
    {
      "cell_type": "code",
      "execution_count": 4,
      "metadata": {
        "id": "l8MeA3KpTxwY"
      },
      "outputs": [],
      "source": [
        "import findspark\n",
        "import pyspark\n",
        "from pyspark.sql import SparkSession\n",
        "from pyspark import SparkContext\n",
        "\n",
        "findspark.init(\"spark-3.5.1-bin-hadoop3\")\n",
        "sc = pyspark.SparkContext('local[*]') #gwiazka oznacza że wykorzystujemy wszystkie rdzenie na wszystkich maszynach do obliczeń\n",
        "spark = SparkSession.builder.appName('abc').getOrCreate()"
      ]
    },
    {
      "cell_type": "code",
      "execution_count": null,
      "metadata": {
        "id": "iPdb4uIcUA1a",
        "colab": {
          "base_uri": "https://localhost:8080/"
        },
        "outputId": "96ddc7e8-ac9b-417f-f60e-9a8346f60fed"
      },
      "outputs": [
        {
          "output_type": "stream",
          "name": "stdout",
          "text": [
            "               total        used        free      shared  buff/cache   available\n",
            "Mem:            12Gi       981Mi       2.0Gi       1.0Mi       9.7Gi        11Gi\n",
            "Swap:             0B          0B          0B\n"
          ]
        }
      ],
      "source": [
        "!free -mh # Komenda na sprawdzenie dostępnej pamięci RAM"
      ]
    },
    {
      "cell_type": "markdown",
      "metadata": {
        "id": "CQCXxzEwUG8s"
      },
      "source": [
        "# Możemy przystąpić do pracy!"
      ]
    },
    {
      "cell_type": "code",
      "execution_count": null,
      "metadata": {
        "id": "QI9ZgD9OUHib",
        "colab": {
          "base_uri": "https://localhost:8080/"
        },
        "outputId": "ba2f895b-13d4-4f68-ec4c-a23d5207f863"
      },
      "outputs": [
        {
          "output_type": "execute_result",
          "data": {
            "text/plain": [
              "[2, 3, 4]"
            ]
          },
          "metadata": {},
          "execution_count": 5
        }
      ],
      "source": [
        "sc.parallelize([1,2,3]).map(lambda x: x + 1).collect()"
      ]
    },
    {
      "cell_type": "markdown",
      "metadata": {
        "id": "WxVUvE9pUUW-"
      },
      "source": [
        "# Zajęcia 25.03.2024"
      ]
    },
    {
      "cell_type": "code",
      "execution_count": null,
      "metadata": {
        "id": "80gA-9PTiCUK",
        "colab": {
          "base_uri": "https://localhost:8080/",
          "height": 196
        },
        "outputId": "b95c59ba-e1b4-461a-a09b-ff0cc810a2a0"
      },
      "outputs": [
        {
          "output_type": "execute_result",
          "data": {
            "text/plain": [
              "<SparkContext master=local[*] appName=pyspark-shell>"
            ],
            "text/html": [
              "\n",
              "        <div>\n",
              "            <p><b>SparkContext</b></p>\n",
              "\n",
              "            <p><a href=\"http://b48e0705e56c:4040\">Spark UI</a></p>\n",
              "\n",
              "            <dl>\n",
              "              <dt>Version</dt>\n",
              "                <dd><code>v3.5.1</code></dd>\n",
              "              <dt>Master</dt>\n",
              "                <dd><code>local[*]</code></dd>\n",
              "              <dt>AppName</dt>\n",
              "                <dd><code>pyspark-shell</code></dd>\n",
              "            </dl>\n",
              "        </div>\n",
              "        "
            ]
          },
          "metadata": {},
          "execution_count": 7
        }
      ],
      "source": [
        "sc"
      ]
    },
    {
      "cell_type": "markdown",
      "source": [
        "###Przechodzenie między środowiskiem lokalnym (Python) a środowiskiem rozproszonym (Spark)"
      ],
      "metadata": {
        "id": "3eFby4E_Mgtz"
      }
    },
    {
      "cell_type": "code",
      "source": [
        "lista = [1, 2, 3]"
      ],
      "metadata": {
        "id": "BSZr0RupJhd4"
      },
      "execution_count": null,
      "outputs": []
    },
    {
      "cell_type": "code",
      "source": [
        "type(lista)"
      ],
      "metadata": {
        "id": "8ZdztFl9MXh5",
        "colab": {
          "base_uri": "https://localhost:8080/"
        },
        "outputId": "d048dd76-3b61-4d30-b7e0-e113ef8fec14"
      },
      "execution_count": null,
      "outputs": [
        {
          "output_type": "execute_result",
          "data": {
            "text/plain": [
              "list"
            ]
          },
          "metadata": {},
          "execution_count": 9
        }
      ]
    },
    {
      "cell_type": "code",
      "source": [
        "distributed_list = sc.parallelize(lista) #przenoszenie do świata rozproszonego (przechodzi z lokalnego phtyona do rdd z klastra)"
      ],
      "metadata": {
        "id": "EjSwnSIvLB_k"
      },
      "execution_count": null,
      "outputs": []
    },
    {
      "cell_type": "code",
      "source": [
        "type(distributed_list)"
      ],
      "metadata": {
        "id": "6RR-o7dxLCo6",
        "colab": {
          "base_uri": "https://localhost:8080/",
          "height": 174
        },
        "outputId": "71b8101e-f3f8-49fa-bb4f-5483e937ae14"
      },
      "execution_count": null,
      "outputs": [
        {
          "output_type": "execute_result",
          "data": {
            "text/plain": [
              "pyspark.rdd.RDD"
            ],
            "text/html": [
              "<div style=\"max-width:800px; border: 1px solid var(--colab-border-color);\"><style>\n",
              "      pre.function-repr-contents {\n",
              "        overflow-x: auto;\n",
              "        padding: 8px 12px;\n",
              "        max-height: 500px;\n",
              "      }\n",
              "\n",
              "      pre.function-repr-contents.function-repr-contents-collapsed {\n",
              "        cursor: pointer;\n",
              "        max-height: 100px;\n",
              "      }\n",
              "    </style>\n",
              "    <pre style=\"white-space: initial; background:\n",
              "         var(--colab-secondary-surface-color); padding: 8px 12px;\n",
              "         border-bottom: 1px solid var(--colab-border-color);\"><b>pyspark.rdd.RDD</b><br/>def __init__(jrdd: &#x27;JavaObject&#x27;, ctx: &#x27;SparkContext&#x27;, jrdd_deserializer: Serializer=AutoBatchedSerializer(CPickleSerializer()))</pre><pre class=\"function-repr-contents function-repr-contents-collapsed\" style=\"\"><a class=\"filepath\" style=\"display:none\" href=\"#\">/usr/local/lib/python3.10/dist-packages/pyspark/rdd.py</a>A Resilient Distributed Dataset (RDD), the basic abstraction in Spark.\n",
              "Represents an immutable, partitioned collection of elements that can be\n",
              "operated on in parallel.</pre>\n",
              "      <script>\n",
              "      if (google.colab.kernel.accessAllowed && google.colab.files && google.colab.files.view) {\n",
              "        for (const element of document.querySelectorAll('.filepath')) {\n",
              "          element.style.display = 'block'\n",
              "          element.onclick = (event) => {\n",
              "            event.preventDefault();\n",
              "            event.stopPropagation();\n",
              "            google.colab.files.view(element.textContent, 336);\n",
              "          };\n",
              "        }\n",
              "      }\n",
              "      for (const element of document.querySelectorAll('.function-repr-contents')) {\n",
              "        element.onclick = (event) => {\n",
              "          event.preventDefault();\n",
              "          event.stopPropagation();\n",
              "          element.classList.toggle('function-repr-contents-collapsed');\n",
              "        };\n",
              "      }\n",
              "      </script>\n",
              "      </div>"
            ]
          },
          "metadata": {},
          "execution_count": 11
        }
      ]
    },
    {
      "cell_type": "code",
      "source": [
        "distributed_list.take(10) # wywołanie x elementów"
      ],
      "metadata": {
        "id": "_iJFHyqKMs4-",
        "colab": {
          "base_uri": "https://localhost:8080/"
        },
        "outputId": "82c35b5e-b851-4f03-d8b7-42e0fe8c8101"
      },
      "execution_count": null,
      "outputs": [
        {
          "output_type": "execute_result",
          "data": {
            "text/plain": [
              "[1, 2, 3]"
            ]
          },
          "metadata": {},
          "execution_count": 12
        }
      ]
    },
    {
      "cell_type": "code",
      "source": [
        "listapython = distributed_list.map(lambda x: x + 1).collect() #przenoszenie z świata(maszyny) rozproszonego do lokalnego phytona"
      ],
      "metadata": {
        "id": "waOAUUKbLD9h"
      },
      "execution_count": null,
      "outputs": []
    },
    {
      "cell_type": "code",
      "source": [
        "#lampda x: x+1 inny sposób definiowania funkcji zamiast def funk.. używamy wtedy kiedy dana funkcja jest wykorzystywana tylko raz\n",
        "#np lampda x: x*10 mnożenie każdego elementu przez 10"
      ],
      "metadata": {
        "id": "Y8psN_ROwN7O"
      },
      "execution_count": null,
      "outputs": []
    },
    {
      "cell_type": "code",
      "source": [
        "listapython"
      ],
      "metadata": {
        "id": "jJ8tRQzGLhzv",
        "colab": {
          "base_uri": "https://localhost:8080/"
        },
        "outputId": "36e753b6-cc1f-4032-b57c-71b3fdfcd5bc"
      },
      "execution_count": null,
      "outputs": [
        {
          "output_type": "execute_result",
          "data": {
            "text/plain": [
              "[2, 3, 4]"
            ]
          },
          "metadata": {},
          "execution_count": 15
        }
      ]
    },
    {
      "cell_type": "code",
      "source": [
        "type(listapython)"
      ],
      "metadata": {
        "id": "LGiKV6RCMr-x",
        "colab": {
          "base_uri": "https://localhost:8080/"
        },
        "outputId": "8e2f8d69-d426-476c-c3d3-92f06f03009e"
      },
      "execution_count": null,
      "outputs": [
        {
          "output_type": "execute_result",
          "data": {
            "text/plain": [
              "list"
            ]
          },
          "metadata": {},
          "execution_count": 16
        }
      ]
    },
    {
      "cell_type": "markdown",
      "source": [
        "###RDD -Wczytywanie plików, podstawowe operacje (take, map, filter)"
      ],
      "metadata": {
        "id": "xLTHRN96NM2N"
      }
    },
    {
      "cell_type": "code",
      "source": [
        "!head -5 baby.csv"
      ],
      "metadata": {
        "id": "RbAJCphEM27C",
        "colab": {
          "base_uri": "https://localhost:8080/"
        },
        "outputId": "84025a9e-13c3-43bd-9d2e-2deef942d85e"
      },
      "execution_count": null,
      "outputs": [
        {
          "output_type": "stream",
          "name": "stdout",
          "text": [
            "Year,First Name,County,Sex,Count\n",
            "2013,DAVID,KINGS,M,272\n",
            "2013,JAYDEN,KINGS,M,268\n",
            "2013,JAYDEN,QUEENS,M,219\n",
            "2013,MOSHE,KINGS,M,219\n"
          ]
        }
      ]
    },
    {
      "cell_type": "code",
      "source": [
        "baby_names = sc.textFile('baby.csv') #ładowanie rdd"
      ],
      "metadata": {
        "id": "Fs56v7FRPZzC"
      },
      "execution_count": null,
      "outputs": []
    },
    {
      "cell_type": "code",
      "source": [
        "baby_names.take(10)"
      ],
      "metadata": {
        "id": "MCtV0f5xPfLC",
        "colab": {
          "base_uri": "https://localhost:8080/"
        },
        "outputId": "399027ca-0819-4a32-cb64-63ad26926990"
      },
      "execution_count": null,
      "outputs": [
        {
          "output_type": "execute_result",
          "data": {
            "text/plain": [
              "['Year,First Name,County,Sex,Count',\n",
              " '2013,DAVID,KINGS,M,272',\n",
              " '2013,JAYDEN,KINGS,M,268',\n",
              " '2013,JAYDEN,QUEENS,M,219',\n",
              " '2013,MOSHE,KINGS,M,219',\n",
              " '2013,ETHAN,QUEENS,M,216',\n",
              " '2013,SOPHIA,QUEENS,F,204',\n",
              " '2013,DANIEL,QUEENS,M,203',\n",
              " '2013,JACOB,KINGS,M,202',\n",
              " '2013,ESTHER,KINGS,F,196']"
            ]
          },
          "metadata": {},
          "execution_count": 20
        }
      ]
    },
    {
      "cell_type": "code",
      "source": [
        "rows = baby_names.map(lambda x: x.split(','))"
      ],
      "metadata": {
        "id": "zCnM_KWLPhVk"
      },
      "execution_count": null,
      "outputs": []
    },
    {
      "cell_type": "code",
      "source": [
        "rows.take(3)"
      ],
      "metadata": {
        "id": "vfDfJOJZPo6z",
        "colab": {
          "base_uri": "https://localhost:8080/"
        },
        "outputId": "44cd1269-d88e-4a44-8433-c40ae856eb0b"
      },
      "execution_count": null,
      "outputs": [
        {
          "output_type": "execute_result",
          "data": {
            "text/plain": [
              "[['Year', 'First Name', 'County', 'Sex', 'Count'],\n",
              " ['2013', 'DAVID', 'KINGS', 'M', '272'],\n",
              " ['2013', 'JAYDEN', 'KINGS', 'M', '268']]"
            ]
          },
          "metadata": {},
          "execution_count": 22
        }
      ]
    },
    {
      "cell_type": "code",
      "source": [
        "rows.filter(lambda x: 'Year' not in x).take(5)"
      ],
      "metadata": {
        "id": "5oxYETl2RiWZ",
        "colab": {
          "base_uri": "https://localhost:8080/"
        },
        "outputId": "fa85ec8f-a4e9-436a-9270-3db9b5eeda28"
      },
      "execution_count": null,
      "outputs": [
        {
          "output_type": "execute_result",
          "data": {
            "text/plain": [
              "[['2013', 'DAVID', 'KINGS', 'M', '272'],\n",
              " ['2013', 'JAYDEN', 'KINGS', 'M', '268'],\n",
              " ['2013', 'JAYDEN', 'QUEENS', 'M', '219'],\n",
              " ['2013', 'MOSHE', 'KINGS', 'M', '219'],\n",
              " ['2013', 'ETHAN', 'QUEENS', 'M', '216']]"
            ]
          },
          "metadata": {},
          "execution_count": 23
        }
      ]
    },
    {
      "cell_type": "code",
      "source": [
        "rows_filter = rows.filter(lambda x: 'Year' not in x)"
      ],
      "metadata": {
        "id": "-YPwQXuByQP0"
      },
      "execution_count": null,
      "outputs": []
    },
    {
      "cell_type": "code",
      "source": [
        "rows_filter.take(5)"
      ],
      "metadata": {
        "colab": {
          "base_uri": "https://localhost:8080/"
        },
        "id": "8K3NFKcjyVTI",
        "outputId": "e585fd1f-aa27-4ae2-eb47-f3e9105b0f28"
      },
      "execution_count": null,
      "outputs": [
        {
          "output_type": "execute_result",
          "data": {
            "text/plain": [
              "[['2013', 'DAVID', 'KINGS', 'M', '272'],\n",
              " ['2013', 'JAYDEN', 'KINGS', 'M', '268'],\n",
              " ['2013', 'JAYDEN', 'QUEENS', 'M', '219'],\n",
              " ['2013', 'MOSHE', 'KINGS', 'M', '219'],\n",
              " ['2013', 'ETHAN', 'QUEENS', 'M', '216']]"
            ]
          },
          "metadata": {},
          "execution_count": 25
        }
      ]
    },
    {
      "cell_type": "markdown",
      "source": [
        "###Zadanie 1 - Jak odfiltrować z RDD imiona które które mają mniej niż 250 wystąpień (count)"
      ],
      "metadata": {
        "id": "qDZvixFmR5Zi"
      }
    },
    {
      "cell_type": "code",
      "source": [
        "#kod"
      ],
      "metadata": {
        "id": "kzrjfyetSV78"
      },
      "execution_count": null,
      "outputs": []
    },
    {
      "cell_type": "code",
      "source": [
        "rows.take(5)"
      ],
      "metadata": {
        "colab": {
          "base_uri": "https://localhost:8080/"
        },
        "id": "kc6BsC5lyghB",
        "outputId": "30c8c5f2-7e97-42fd-f24a-77defd1920bb"
      },
      "execution_count": null,
      "outputs": [
        {
          "output_type": "execute_result",
          "data": {
            "text/plain": [
              "[['Year', 'First Name', 'County', 'Sex', 'Count'],\n",
              " ['2013', 'DAVID', 'KINGS', 'M', '272'],\n",
              " ['2013', 'JAYDEN', 'KINGS', 'M', '268'],\n",
              " ['2013', 'JAYDEN', 'QUEENS', 'M', '219'],\n",
              " ['2013', 'MOSHE', 'KINGS', 'M', '219']]"
            ]
          },
          "metadata": {},
          "execution_count": 27
        }
      ]
    },
    {
      "cell_type": "code",
      "source": [],
      "metadata": {
        "id": "oHKdHKvi18ia"
      },
      "execution_count": null,
      "outputs": []
    },
    {
      "cell_type": "code",
      "source": [
        "(rows.filter(lambda x: 'Year' not in x)\n",
        "     .filter(lambda x: int(x[4])<250).take(10))\n"
      ],
      "metadata": {
        "colab": {
          "base_uri": "https://localhost:8080/"
        },
        "id": "sWtYnnviy4B6",
        "outputId": "5b294b0a-1e18-4e20-a824-d08f37553cca"
      },
      "execution_count": null,
      "outputs": [
        {
          "output_type": "execute_result",
          "data": {
            "text/plain": [
              "[['2013', 'JAYDEN', 'QUEENS', 'M', '219'],\n",
              " ['2013', 'MOSHE', 'KINGS', 'M', '219'],\n",
              " ['2013', 'ETHAN', 'QUEENS', 'M', '216'],\n",
              " ['2013', 'SOPHIA', 'QUEENS', 'F', '204'],\n",
              " ['2013', 'DANIEL', 'QUEENS', 'M', '203'],\n",
              " ['2013', 'JACOB', 'KINGS', 'M', '202'],\n",
              " ['2013', 'ESTHER', 'KINGS', 'F', '196'],\n",
              " ['2013', 'ETHAN', 'KINGS', 'M', '196'],\n",
              " ['2013', 'ISABELLA', 'QUEENS', 'F', '192'],\n",
              " ['2013', 'DANIEL', 'KINGS', 'M', '188']]"
            ]
          },
          "metadata": {},
          "execution_count": 28
        }
      ]
    },
    {
      "cell_type": "markdown",
      "source": [
        "###Cache (i wpływ na czas przetarzania)"
      ],
      "metadata": {
        "id": "but39hi4UZaR"
      }
    },
    {
      "cell_type": "code",
      "source": [
        "nums = sc.parallelize(range(1, 1000001))"
      ],
      "metadata": {
        "id": "YxXxbTyfUar7"
      },
      "execution_count": null,
      "outputs": []
    },
    {
      "cell_type": "code",
      "source": [
        "nums.count()"
      ],
      "metadata": {
        "id": "7IxuAIJCUk39",
        "colab": {
          "base_uri": "https://localhost:8080/"
        },
        "outputId": "b6de95b6-6583-474d-cecb-ba84f735001a"
      },
      "execution_count": null,
      "outputs": [
        {
          "output_type": "execute_result",
          "data": {
            "text/plain": [
              "1000000"
            ]
          },
          "metadata": {},
          "execution_count": 30
        }
      ]
    },
    {
      "cell_type": "code",
      "source": [
        "def isPrime(n) :\n",
        "\n",
        "    # Corner cases\n",
        "    if (n <= 1) :\n",
        "        return False\n",
        "    if (n <= 3) :\n",
        "        return True\n",
        "\n",
        "    # This is checked so that we can skip\n",
        "    # middle five numbers in below loop\n",
        "    if (n % 2 == 0 or n % 3 == 0) :\n",
        "        return False\n",
        "\n",
        "    i = 5\n",
        "    while(i * i <= n) :\n",
        "        if (n % i == 0 or n % (i + 2) == 0) :\n",
        "            return False\n",
        "        i = i + 6\n",
        "\n",
        "    return True"
      ],
      "metadata": {
        "id": "tY8IyBlXUqON"
      },
      "execution_count": null,
      "outputs": []
    },
    {
      "cell_type": "code",
      "source": [
        "isPrime(13)"
      ],
      "metadata": {
        "id": "Hro7LCEcUyEU",
        "colab": {
          "base_uri": "https://localhost:8080/"
        },
        "outputId": "44ea00f6-d2ef-40e2-9ab1-4f1877dab916"
      },
      "execution_count": null,
      "outputs": [
        {
          "output_type": "execute_result",
          "data": {
            "text/plain": [
              "True"
            ]
          },
          "metadata": {},
          "execution_count": 34
        }
      ]
    },
    {
      "cell_type": "code",
      "source": [
        "primes = nums.filter(isPrime)"
      ],
      "metadata": {
        "id": "VWKbbyfWU4IB"
      },
      "execution_count": null,
      "outputs": []
    },
    {
      "cell_type": "code",
      "source": [
        "primes.count()"
      ],
      "metadata": {
        "id": "OxOIOpEgU8Q7",
        "colab": {
          "base_uri": "https://localhost:8080/"
        },
        "outputId": "1e612d85-c8dd-4941-e8b2-99050be1c8ad"
      },
      "execution_count": null,
      "outputs": [
        {
          "output_type": "execute_result",
          "data": {
            "text/plain": [
              "78498"
            ]
          },
          "metadata": {},
          "execution_count": 36
        }
      ]
    },
    {
      "cell_type": "code",
      "source": [
        "import time"
      ],
      "metadata": {
        "id": "GlCqcniOVApP"
      },
      "execution_count": null,
      "outputs": []
    },
    {
      "cell_type": "code",
      "source": [
        "start = time.time()\n",
        "print(f'Jest {primes.count()} liczb pierwszych w milionie')\n",
        "end = time.time()\n",
        "print(f'Upłynęło {end-start} sekund')"
      ],
      "metadata": {
        "id": "Av1Tab3PVFjY",
        "colab": {
          "base_uri": "https://localhost:8080/"
        },
        "outputId": "997effba-3a5f-4680-fd0d-56933d5d6036"
      },
      "execution_count": null,
      "outputs": [
        {
          "output_type": "stream",
          "name": "stdout",
          "text": [
            "Jest 78498 liczb pierwszych w milionie\n",
            "Upłynęło 3.2738828659057617 sekund\n"
          ]
        }
      ]
    },
    {
      "cell_type": "code",
      "source": [
        "primes.cache() #to tez jest transformacja"
      ],
      "metadata": {
        "id": "mWwzS95IVL_7",
        "colab": {
          "base_uri": "https://localhost:8080/"
        },
        "outputId": "acb2bc9d-8ba6-4cd5-cf81-8e4e43bb5643"
      },
      "execution_count": null,
      "outputs": [
        {
          "output_type": "execute_result",
          "data": {
            "text/plain": [
              "PythonRDD[19] at RDD at PythonRDD.scala:53"
            ]
          },
          "metadata": {},
          "execution_count": 39
        }
      ]
    },
    {
      "cell_type": "code",
      "source": [
        "start = time.time()\n",
        "print(f'Jest {primes.count()} liczb pierwszych w milionie') #wykonanie akcji, dlatego trwa dłużej\n",
        "end = time.time()\n",
        "print(f'Upłynęło {end-start} sekund')"
      ],
      "metadata": {
        "id": "ko1qlUY8VPBE",
        "colab": {
          "base_uri": "https://localhost:8080/"
        },
        "outputId": "ba68cfcd-ac3e-4248-a1ab-1fd5470c38ba"
      },
      "execution_count": null,
      "outputs": [
        {
          "output_type": "stream",
          "name": "stdout",
          "text": [
            "Jest 78498 liczb pierwszych w milionie\n",
            "Upłynęło 5.451779365539551 sekund\n"
          ]
        }
      ]
    },
    {
      "cell_type": "code",
      "source": [
        "start = time.time()\n",
        "print(f'Jest {primes.count()} liczb pierwszych w milionie') #uzyte 2 raz, wynik szybszy bo zaoamiętał w cashe operacje\n",
        "end = time.time()\n",
        "print(f'Upłynęło {end-start} sekund')"
      ],
      "metadata": {
        "id": "Qs9PzewYVR3P",
        "colab": {
          "base_uri": "https://localhost:8080/"
        },
        "outputId": "a25c55db-ea5d-4fde-adc4-3e32dcc36875"
      },
      "execution_count": null,
      "outputs": [
        {
          "output_type": "stream",
          "name": "stdout",
          "text": [
            "Jest 78498 liczb pierwszych w milionie\n",
            "Upłynęło 0.6099245548248291 sekund\n"
          ]
        }
      ]
    },
    {
      "cell_type": "code",
      "source": [
        "start = time.time()\n",
        "print(f'Jest {primes.count()} liczb pierwszych w milionie')\n",
        "end = time.time()\n",
        "print(f'Upłynęło {end-start} sekund')"
      ],
      "metadata": {
        "id": "SPrPfsG1VU2P",
        "colab": {
          "base_uri": "https://localhost:8080/"
        },
        "outputId": "a69a0ec0-fac6-4926-f351-39a24570c417"
      },
      "execution_count": null,
      "outputs": [
        {
          "output_type": "stream",
          "name": "stdout",
          "text": [
            "Jest 78498 liczb pierwszych w milionie\n",
            "Upłynęło 0.3792726993560791 sekund\n"
          ]
        }
      ]
    },
    {
      "cell_type": "code",
      "source": [
        "primes.unpersist()"
      ],
      "metadata": {
        "id": "LpY3_AOMVYfw",
        "colab": {
          "base_uri": "https://localhost:8080/"
        },
        "outputId": "1d40e5a9-c48e-4321-ffdf-2a690f423eaa"
      },
      "execution_count": null,
      "outputs": [
        {
          "output_type": "execute_result",
          "data": {
            "text/plain": [
              "PythonRDD[19] at RDD at PythonRDD.scala:53"
            ]
          },
          "metadata": {},
          "execution_count": 43
        }
      ]
    },
    {
      "cell_type": "code",
      "source": [
        "start = time.time()\n",
        "print(f'Jest {primes.count()} liczb pierwszych w milionie')\n",
        "end = time.time()\n",
        "print(f'Upłynęło {end-start} sekund')"
      ],
      "metadata": {
        "id": "xiivxisaVbdm",
        "colab": {
          "base_uri": "https://localhost:8080/"
        },
        "outputId": "4414567f-51be-4142-e328-9efa564a430d"
      },
      "execution_count": null,
      "outputs": [
        {
          "output_type": "stream",
          "name": "stdout",
          "text": [
            "Jest 78498 liczb pierwszych w milionie\n",
            "Upłynęło 4.069396257400513 sekund\n"
          ]
        }
      ]
    },
    {
      "cell_type": "markdown",
      "source": [
        "###Sampling"
      ],
      "metadata": {
        "id": "cDcAYQCeW4Hw"
      }
    },
    {
      "cell_type": "code",
      "source": [
        "one_to_ten = range(1,11)\n",
        "parallel = sc.parallelize(one_to_ten)"
      ],
      "metadata": {
        "id": "eZibao4jW7q5"
      },
      "execution_count": null,
      "outputs": []
    },
    {
      "cell_type": "code",
      "source": [
        "parallel.take(100)"
      ],
      "metadata": {
        "id": "84CCkG0WW5au",
        "colab": {
          "base_uri": "https://localhost:8080/"
        },
        "outputId": "d9de13fd-0869-4255-8cfe-6374221fd610"
      },
      "execution_count": null,
      "outputs": [
        {
          "output_type": "execute_result",
          "data": {
            "text/plain": [
              "[1, 2, 3, 4, 5, 6, 7, 8, 9, 10]"
            ]
          },
          "metadata": {},
          "execution_count": 46
        }
      ]
    },
    {
      "cell_type": "code",
      "source": [
        "?parallel.sample"
      ],
      "metadata": {
        "id": "7RX_cOcPjsuy"
      },
      "execution_count": null,
      "outputs": []
    },
    {
      "cell_type": "code",
      "source": [
        "parallel.sample(True, .2).take(5)"
      ],
      "metadata": {
        "id": "lam9E0lZW6qM",
        "colab": {
          "base_uri": "https://localhost:8080/"
        },
        "outputId": "3743badb-7cfe-434c-c846-e340a5379810"
      },
      "execution_count": null,
      "outputs": [
        {
          "output_type": "execute_result",
          "data": {
            "text/plain": [
              "[1, 3, 8, 9]"
            ]
          },
          "metadata": {},
          "execution_count": 56
        }
      ]
    },
    {
      "cell_type": "code",
      "source": [
        "parallel.takeSample(True, 2)"
      ],
      "metadata": {
        "id": "wl1W_ya9mlys",
        "colab": {
          "base_uri": "https://localhost:8080/"
        },
        "outputId": "baae6677-d792-44e8-c9a2-2579c552d312"
      },
      "execution_count": null,
      "outputs": [
        {
          "output_type": "execute_result",
          "data": {
            "text/plain": [
              "[9, 9]"
            ]
          },
          "metadata": {},
          "execution_count": 71
        }
      ]
    },
    {
      "cell_type": "code",
      "source": [
        "parallel_big = sc.parallelize(range(1,100001))"
      ],
      "metadata": {
        "id": "_g0Rzs49W-er"
      },
      "execution_count": null,
      "outputs": []
    },
    {
      "cell_type": "code",
      "source": [
        "parallel_big.sample(True, .2).count()"
      ],
      "metadata": {
        "id": "HkGoevDLXlaD",
        "colab": {
          "base_uri": "https://localhost:8080/"
        },
        "outputId": "9a0ee7d1-972d-4b3e-cc8d-c61c1e865a5b"
      },
      "execution_count": null,
      "outputs": [
        {
          "output_type": "execute_result",
          "data": {
            "text/plain": [
              "20092"
            ]
          },
          "metadata": {},
          "execution_count": 75
        }
      ]
    },
    {
      "cell_type": "code",
      "source": [
        "parallel_big.sample(True, .2, 2137).take(5)"
      ],
      "metadata": {
        "id": "VkB-2KTuXmv2",
        "colab": {
          "base_uri": "https://localhost:8080/"
        },
        "outputId": "f02f696d-27dd-406a-9b40-2d73cf130ff5"
      },
      "execution_count": null,
      "outputs": [
        {
          "output_type": "execute_result",
          "data": {
            "text/plain": [
              "[7, 8, 24, 24, 28]"
            ]
          },
          "metadata": {},
          "execution_count": 85
        }
      ]
    },
    {
      "cell_type": "markdown",
      "source": [
        "###Intersection, Union, Joins"
      ],
      "metadata": {
        "id": "lhxK6dPpgPH-"
      }
    },
    {
      "cell_type": "code",
      "source": [
        "one = sc.parallelize(range(1,10))\n",
        "two = sc.parallelize(range(5,15))"
      ],
      "metadata": {
        "id": "WYRgVA33gPjv"
      },
      "execution_count": null,
      "outputs": []
    },
    {
      "cell_type": "code",
      "source": [
        "one.collect()"
      ],
      "metadata": {
        "id": "3Gd_aQABgt7d",
        "colab": {
          "base_uri": "https://localhost:8080/"
        },
        "outputId": "07679650-73cc-4b17-8063-59f658b5de05"
      },
      "execution_count": null,
      "outputs": [
        {
          "output_type": "execute_result",
          "data": {
            "text/plain": [
              "[1, 2, 3, 4, 5, 6, 7, 8, 9]"
            ]
          },
          "metadata": {},
          "execution_count": 87
        }
      ]
    },
    {
      "cell_type": "code",
      "source": [
        "two.collect()"
      ],
      "metadata": {
        "id": "9exnVWQkgvQG",
        "colab": {
          "base_uri": "https://localhost:8080/"
        },
        "outputId": "48cbfcfb-39ac-44a7-f74b-ca6a6c905172"
      },
      "execution_count": null,
      "outputs": [
        {
          "output_type": "execute_result",
          "data": {
            "text/plain": [
              "[5, 6, 7, 8, 9, 10, 11, 12, 13, 14]"
            ]
          },
          "metadata": {},
          "execution_count": 88
        }
      ]
    },
    {
      "cell_type": "code",
      "source": [
        "one.intersection(two).collect()"
      ],
      "metadata": {
        "id": "fnLXe3zigT-h",
        "colab": {
          "base_uri": "https://localhost:8080/"
        },
        "outputId": "1269de0a-a87e-4153-d3e4-df36f1c1d83b"
      },
      "execution_count": null,
      "outputs": [
        {
          "output_type": "execute_result",
          "data": {
            "text/plain": [
              "[8, 5, 9, 6, 7]"
            ]
          },
          "metadata": {},
          "execution_count": 89
        }
      ]
    },
    {
      "cell_type": "code",
      "source": [
        "one.union(two).collect()"
      ],
      "metadata": {
        "id": "GAWjg059gqGv",
        "colab": {
          "base_uri": "https://localhost:8080/"
        },
        "outputId": "47fc9ec5-dcb6-4f18-9b10-9f7fa9a0e476"
      },
      "execution_count": null,
      "outputs": [
        {
          "output_type": "execute_result",
          "data": {
            "text/plain": [
              "[1, 2, 3, 4, 5, 6, 7, 8, 9, 5, 6, 7, 8, 9, 10, 11, 12, 13, 14]"
            ]
          },
          "metadata": {},
          "execution_count": 90
        }
      ]
    },
    {
      "cell_type": "code",
      "source": [
        "one.union(two).distinct().collect()"
      ],
      "metadata": {
        "id": "gtszt0ZVgx2E",
        "colab": {
          "base_uri": "https://localhost:8080/"
        },
        "outputId": "aca9a079-64dd-4194-edf6-f8cc96acc310"
      },
      "execution_count": null,
      "outputs": [
        {
          "output_type": "execute_result",
          "data": {
            "text/plain": [
              "[4, 8, 12, 1, 5, 9, 13, 2, 6, 10, 14, 3, 7, 11]"
            ]
          },
          "metadata": {},
          "execution_count": 91
        }
      ]
    },
    {
      "cell_type": "code",
      "source": [
        "names1 = sc.parallelize(('abe', 'abby', 'apple')).map(lambda x: (x, 1))\n",
        "names2 = sc.parallelize(('apple', 'beatty', 'beatrice')).map(lambda x: (x, 5))\n",
        "print(f'names1: {names1.collect()}')\n",
        "print(f'names2: {names2.collect()}')"
      ],
      "metadata": {
        "id": "XWpWJ96dg6wn",
        "colab": {
          "base_uri": "https://localhost:8080/"
        },
        "outputId": "42e1a6bb-4931-434f-c537-edb3eb29a85e"
      },
      "execution_count": null,
      "outputs": [
        {
          "output_type": "stream",
          "name": "stdout",
          "text": [
            "names1: [('abe', 1), ('abby', 1), ('apple', 1)]\n",
            "names2: [('apple', 5), ('beatty', 5), ('beatrice', 5)]\n"
          ]
        }
      ]
    },
    {
      "cell_type": "code",
      "source": [
        "names1.join(names2).collect()"
      ],
      "metadata": {
        "id": "pr8tUgGehBbO",
        "colab": {
          "base_uri": "https://localhost:8080/"
        },
        "outputId": "bb15e533-1c35-4092-abdc-6cd72b613b58"
      },
      "execution_count": null,
      "outputs": [
        {
          "output_type": "execute_result",
          "data": {
            "text/plain": [
              "[('apple', (1, 5))]"
            ]
          },
          "metadata": {},
          "execution_count": 93
        }
      ]
    },
    {
      "cell_type": "code",
      "source": [
        "names1.leftOuterJoin(names2).collect()"
      ],
      "metadata": {
        "id": "mNlNAJRbhYBC",
        "colab": {
          "base_uri": "https://localhost:8080/"
        },
        "outputId": "c0338bf1-434e-4312-d00c-79b5bbc3fc39"
      },
      "execution_count": null,
      "outputs": [
        {
          "output_type": "execute_result",
          "data": {
            "text/plain": [
              "[('abby', (1, None)), ('abe', (1, None)), ('apple', (1, 5))]"
            ]
          },
          "metadata": {},
          "execution_count": 94
        }
      ]
    },
    {
      "cell_type": "code",
      "source": [
        "names1.rightOuterJoin(names2).collect()"
      ],
      "metadata": {
        "id": "q2LhVi5LhZaJ",
        "colab": {
          "base_uri": "https://localhost:8080/"
        },
        "outputId": "24f13033-6962-4888-818a-03d03a0be7a6"
      },
      "execution_count": null,
      "outputs": [
        {
          "output_type": "execute_result",
          "data": {
            "text/plain": [
              "[('beatty', (None, 5)), ('beatrice', (None, 5)), ('apple', (1, 5))]"
            ]
          },
          "metadata": {},
          "execution_count": 95
        }
      ]
    },
    {
      "cell_type": "code",
      "source": [
        "names1.cartesian(names2).collect()"
      ],
      "metadata": {
        "id": "5hPv2I6Hhbcg",
        "colab": {
          "base_uri": "https://localhost:8080/"
        },
        "outputId": "83af5bea-945e-4960-8d7e-d3a2a24d1f7e"
      },
      "execution_count": null,
      "outputs": [
        {
          "output_type": "execute_result",
          "data": {
            "text/plain": [
              "[(('abe', 1), ('apple', 5)),\n",
              " (('abe', 1), ('beatty', 5)),\n",
              " (('abe', 1), ('beatrice', 5)),\n",
              " (('abby', 1), ('apple', 5)),\n",
              " (('apple', 1), ('apple', 5)),\n",
              " (('abby', 1), ('beatty', 5)),\n",
              " (('abby', 1), ('beatrice', 5)),\n",
              " (('apple', 1), ('beatty', 5)),\n",
              " (('apple', 1), ('beatrice', 5))]"
            ]
          },
          "metadata": {},
          "execution_count": 96
        }
      ]
    },
    {
      "cell_type": "markdown",
      "source": [
        "###Zapis do jednego pliku (użycie coalesce)"
      ],
      "metadata": {
        "id": "UR-tc7e4hv1z"
      }
    },
    {
      "cell_type": "code",
      "source": [
        "wynik = names1.cartesian(names2)"
      ],
      "metadata": {
        "id": "uflCBhCKhxDf"
      },
      "execution_count": null,
      "outputs": []
    },
    {
      "cell_type": "code",
      "source": [
        "type(wynik)"
      ],
      "metadata": {
        "id": "quQhlyKLiRiO",
        "colab": {
          "base_uri": "https://localhost:8080/",
          "height": 174
        },
        "outputId": "c20c117c-cd81-4377-faa5-3019562da792"
      },
      "execution_count": null,
      "outputs": [
        {
          "output_type": "execute_result",
          "data": {
            "text/plain": [
              "pyspark.rdd.RDD"
            ],
            "text/html": [
              "<div style=\"max-width:800px; border: 1px solid var(--colab-border-color);\"><style>\n",
              "      pre.function-repr-contents {\n",
              "        overflow-x: auto;\n",
              "        padding: 8px 12px;\n",
              "        max-height: 500px;\n",
              "      }\n",
              "\n",
              "      pre.function-repr-contents.function-repr-contents-collapsed {\n",
              "        cursor: pointer;\n",
              "        max-height: 100px;\n",
              "      }\n",
              "    </style>\n",
              "    <pre style=\"white-space: initial; background:\n",
              "         var(--colab-secondary-surface-color); padding: 8px 12px;\n",
              "         border-bottom: 1px solid var(--colab-border-color);\"><b>pyspark.rdd.RDD</b><br/>def __init__(jrdd: &#x27;JavaObject&#x27;, ctx: &#x27;SparkContext&#x27;, jrdd_deserializer: Serializer=AutoBatchedSerializer(CPickleSerializer()))</pre><pre class=\"function-repr-contents function-repr-contents-collapsed\" style=\"\"><a class=\"filepath\" style=\"display:none\" href=\"#\">/usr/local/lib/python3.10/dist-packages/pyspark/rdd.py</a>A Resilient Distributed Dataset (RDD), the basic abstraction in Spark.\n",
              "Represents an immutable, partitioned collection of elements that can be\n",
              "operated on in parallel.</pre>\n",
              "      <script>\n",
              "      if (google.colab.kernel.accessAllowed && google.colab.files && google.colab.files.view) {\n",
              "        for (const element of document.querySelectorAll('.filepath')) {\n",
              "          element.style.display = 'block'\n",
              "          element.onclick = (event) => {\n",
              "            event.preventDefault();\n",
              "            event.stopPropagation();\n",
              "            google.colab.files.view(element.textContent, 336);\n",
              "          };\n",
              "        }\n",
              "      }\n",
              "      for (const element of document.querySelectorAll('.function-repr-contents')) {\n",
              "        element.onclick = (event) => {\n",
              "          event.preventDefault();\n",
              "          event.stopPropagation();\n",
              "          element.classList.toggle('function-repr-contents-collapsed');\n",
              "        };\n",
              "      }\n",
              "      </script>\n",
              "      </div>"
            ]
          },
          "metadata": {},
          "execution_count": 98
        }
      ]
    },
    {
      "cell_type": "code",
      "source": [
        "wynik.saveAsTextFile('wynik.txt') #wynik rozproszony na 4 pliki, ponieważ maszyna posiada 4 rdzenie"
      ],
      "metadata": {
        "id": "uW29x06GiSr0"
      },
      "execution_count": null,
      "outputs": []
    },
    {
      "cell_type": "code",
      "source": [
        "!cat wynik.txt/part-00000"
      ],
      "metadata": {
        "id": "j_j0ZUaFiX_Q",
        "colab": {
          "base_uri": "https://localhost:8080/"
        },
        "outputId": "d7063105-90ee-43aa-e8c1-ad2e09081abe"
      },
      "execution_count": null,
      "outputs": [
        {
          "output_type": "stream",
          "name": "stdout",
          "text": [
            "(('abe', 1), ('apple', 5))\n"
          ]
        }
      ]
    },
    {
      "cell_type": "code",
      "source": [
        "wynik.coalesce(1).saveAsTextFile('wynik_one_partition.txt') #wywołanie do określonej liczby plików wyniku"
      ],
      "metadata": {
        "id": "1tWRo2tZii7N"
      },
      "execution_count": null,
      "outputs": []
    },
    {
      "cell_type": "code",
      "source": [
        "!cat wynik_one_partition.txt/part-00000"
      ],
      "metadata": {
        "id": "cnozON85irqS",
        "colab": {
          "base_uri": "https://localhost:8080/"
        },
        "outputId": "b08471e5-2e89-467e-9a72-09e01fb77175"
      },
      "execution_count": null,
      "outputs": [
        {
          "output_type": "stream",
          "name": "stdout",
          "text": [
            "(('abe', 1), ('apple', 5))\n",
            "(('abe', 1), ('beatty', 5))\n",
            "(('abe', 1), ('beatrice', 5))\n",
            "(('abby', 1), ('apple', 5))\n",
            "(('apple', 1), ('apple', 5))\n",
            "(('abby', 1), ('beatty', 5))\n",
            "(('abby', 1), ('beatrice', 5))\n",
            "(('apple', 1), ('beatty', 5))\n",
            "(('apple', 1), ('beatrice', 5))\n"
          ]
        }
      ]
    },
    {
      "cell_type": "markdown",
      "source": [
        "###Zadanie 2\n",
        "1. Stwórz zmienną w rozproszonym środowisku Sparka (RDD), która zawiera liczby od jeden do miliona\n",
        "2. Usuń z tej zmiennej liczby, które mają resztę z dzielenia przez 5 mniejszą niż 2\n",
        "3. Wylosuj 1% rekordów z uzyskanego RDD bez zwracania z ziarnem losowości 12345\n",
        "4. Zapisz na lokalnym systemie plików do jednego pliku tekstowego\n",
        "5. Odczytaj pierwsze 3 liczby z zapisanego pliku"
      ],
      "metadata": {
        "id": "-AyBZ3_0j2e-"
      }
    },
    {
      "cell_type": "code",
      "source": [
        "#kod\n",
        "milion = sc.parallelize(range(1,1000001))\n"
      ],
      "metadata": {
        "id": "qCf3wajA17xB"
      },
      "execution_count": null,
      "outputs": []
    },
    {
      "cell_type": "code",
      "source": [
        "def dzielenie(n):\n",
        "  return n % 5 >= 2\n"
      ],
      "metadata": {
        "id": "yRhXfrlXoPCG"
      },
      "execution_count": null,
      "outputs": []
    },
    {
      "cell_type": "code",
      "source": [
        "zad = milion.filter(dzielenie)\n"
      ],
      "metadata": {
        "id": "_VBIPGqkp0OG"
      },
      "execution_count": null,
      "outputs": []
    },
    {
      "cell_type": "code",
      "source": [
        "losowanie = zad.sample(False, .01, 12345)\n"
      ],
      "metadata": {
        "id": "30cG6TjdrDNY"
      },
      "execution_count": null,
      "outputs": []
    },
    {
      "cell_type": "code",
      "source": [
        "losowanie.coalesce(1).saveAsTextFile('losowanie6.txt')"
      ],
      "metadata": {
        "id": "EqpLaNAnrcbH"
      },
      "execution_count": null,
      "outputs": []
    },
    {
      "cell_type": "code",
      "source": [
        "!head -3 /content/losowanie6.txt/part-00000"
      ],
      "metadata": {
        "colab": {
          "base_uri": "https://localhost:8080/"
        },
        "id": "yEizeP2Drkoy",
        "outputId": "7294d85a-d220-418a-fc74-7181f4b910ca"
      },
      "execution_count": null,
      "outputs": [
        {
          "output_type": "stream",
          "name": "stdout",
          "text": [
            "34\n",
            "79\n",
            "233\n"
          ]
        }
      ]
    },
    {
      "cell_type": "markdown",
      "source": [
        "###groupByKey"
      ],
      "metadata": {
        "id": "vFEB6z1zqt6V"
      }
    },
    {
      "cell_type": "code",
      "source": [
        "!head -5 baby.csv"
      ],
      "metadata": {
        "id": "tP6HlQnIrAsK",
        "colab": {
          "base_uri": "https://localhost:8080/"
        },
        "outputId": "073f6cc8-8080-4f69-cce8-c4395073ac0b"
      },
      "execution_count": null,
      "outputs": [
        {
          "output_type": "stream",
          "name": "stdout",
          "text": [
            "Year,First Name,County,Sex,Count\n",
            "2013,DAVID,KINGS,M,272\n",
            "2013,JAYDEN,KINGS,M,268\n",
            "2013,JAYDEN,QUEENS,M,219\n",
            "2013,MOSHE,KINGS,M,219\n"
          ]
        }
      ]
    },
    {
      "cell_type": "code",
      "source": [
        "baby_names = sc.textFile('baby.csv')"
      ],
      "metadata": {
        "id": "tpmMZ-P6rCUg"
      },
      "execution_count": null,
      "outputs": []
    },
    {
      "cell_type": "code",
      "source": [
        "baby_names_no_header = baby_names.filter(lambda x: x!='Year,First Name,County,Sex,Count')"
      ],
      "metadata": {
        "id": "HitD8EsHrhJe"
      },
      "execution_count": null,
      "outputs": []
    },
    {
      "cell_type": "code",
      "source": [
        "baby_names_no_header.take(10)"
      ],
      "metadata": {
        "id": "ICpX7K-Kr6y_",
        "colab": {
          "base_uri": "https://localhost:8080/"
        },
        "outputId": "28e029bd-1deb-4e7a-bd7e-6ba605df058b"
      },
      "execution_count": null,
      "outputs": [
        {
          "output_type": "execute_result",
          "data": {
            "text/plain": [
              "['2013,DAVID,KINGS,M,272',\n",
              " '2013,JAYDEN,KINGS,M,268',\n",
              " '2013,JAYDEN,QUEENS,M,219',\n",
              " '2013,MOSHE,KINGS,M,219',\n",
              " '2013,ETHAN,QUEENS,M,216',\n",
              " '2013,SOPHIA,QUEENS,F,204',\n",
              " '2013,DANIEL,QUEENS,M,203',\n",
              " '2013,JACOB,KINGS,M,202',\n",
              " '2013,ESTHER,KINGS,F,196',\n",
              " '2013,ETHAN,KINGS,M,196']"
            ]
          },
          "metadata": {},
          "execution_count": 146
        }
      ]
    },
    {
      "cell_type": "code",
      "source": [
        "rows = baby_names_no_header.map(lambda x: x.split(','))"
      ],
      "metadata": {
        "id": "BntNmKDfrDlH"
      },
      "execution_count": null,
      "outputs": []
    },
    {
      "cell_type": "code",
      "source": [
        "rows.take(10)"
      ],
      "metadata": {
        "id": "XGo0iPO6rGvp",
        "colab": {
          "base_uri": "https://localhost:8080/"
        },
        "outputId": "06f5341e-56fb-49b0-e490-1455346c0c70"
      },
      "execution_count": null,
      "outputs": [
        {
          "output_type": "execute_result",
          "data": {
            "text/plain": [
              "[['2013', 'DAVID', 'KINGS', 'M', '272'],\n",
              " ['2013', 'JAYDEN', 'KINGS', 'M', '268'],\n",
              " ['2013', 'JAYDEN', 'QUEENS', 'M', '219'],\n",
              " ['2013', 'MOSHE', 'KINGS', 'M', '219'],\n",
              " ['2013', 'ETHAN', 'QUEENS', 'M', '216'],\n",
              " ['2013', 'SOPHIA', 'QUEENS', 'F', '204'],\n",
              " ['2013', 'DANIEL', 'QUEENS', 'M', '203'],\n",
              " ['2013', 'JACOB', 'KINGS', 'M', '202'],\n",
              " ['2013', 'ESTHER', 'KINGS', 'F', '196'],\n",
              " ['2013', 'ETHAN', 'KINGS', 'M', '196']]"
            ]
          },
          "metadata": {},
          "execution_count": 148
        }
      ]
    },
    {
      "cell_type": "code",
      "source": [
        "#W jakich hrabstwach występuje dane imię"
      ],
      "metadata": {
        "id": "Dw6itfSIqvHN"
      },
      "execution_count": null,
      "outputs": []
    },
    {
      "cell_type": "code",
      "source": [
        "(rows\n",
        " .map(lambda x: (x[1], x[2]))\n",
        " .groupByKey()\n",
        " .map(lambda x: {x[0]: list(x[1])})\n",
        " ).collect()"
      ],
      "metadata": {
        "id": "jwzyVi_NqxTo",
        "colab": {
          "base_uri": "https://localhost:8080/"
        },
        "outputId": "3b364008-f67d-4cb2-c858-285004dd8c6b"
      },
      "execution_count": null,
      "outputs": [
        {
          "output_type": "execute_result",
          "data": {
            "text/plain": [
              "[{'JAYDEN': ['KINGS', 'QUEENS']},\n",
              " {'ETHAN': ['QUEENS', 'KINGS']},\n",
              " {'SOPHIA': ['QUEENS']},\n",
              " {'DANIEL': ['QUEENS', 'KINGS']},\n",
              " {'ESTHER': ['KINGS']},\n",
              " {'ISABELLA': ['QUEENS']},\n",
              " {'AIDEN': ['KINGS']},\n",
              " {'NOAH': ['KINGS']},\n",
              " {'JOSEPH': ['KINGS']},\n",
              " {'DAVID': ['KINGS']},\n",
              " {'MOSHE': ['KINGS']},\n",
              " {'JACOB': ['KINGS', 'QUEENS']},\n",
              " {'LEAH': ['KINGS']},\n",
              " {'MATTHEW': ['QUEENS']}]"
            ]
          },
          "metadata": {},
          "execution_count": 149
        }
      ]
    },
    {
      "cell_type": "markdown",
      "source": [
        "###reduceByKey"
      ],
      "metadata": {
        "id": "v3XYYc2itaTy"
      }
    },
    {
      "cell_type": "code",
      "source": [
        "rows.take(20)"
      ],
      "metadata": {
        "id": "0UVt41PVtavp",
        "colab": {
          "base_uri": "https://localhost:8080/"
        },
        "outputId": "1a7ac18d-0cf8-47f0-9324-540042a3093c"
      },
      "execution_count": null,
      "outputs": [
        {
          "output_type": "execute_result",
          "data": {
            "text/plain": [
              "[['2013', 'DAVID', 'KINGS', 'M', '272'],\n",
              " ['2013', 'JAYDEN', 'KINGS', 'M', '268'],\n",
              " ['2013', 'JAYDEN', 'QUEENS', 'M', '219'],\n",
              " ['2013', 'MOSHE', 'KINGS', 'M', '219'],\n",
              " ['2013', 'ETHAN', 'QUEENS', 'M', '216'],\n",
              " ['2013', 'SOPHIA', 'QUEENS', 'F', '204'],\n",
              " ['2013', 'DANIEL', 'QUEENS', 'M', '203'],\n",
              " ['2013', 'JACOB', 'KINGS', 'M', '202'],\n",
              " ['2013', 'ESTHER', 'KINGS', 'F', '196'],\n",
              " ['2013', 'ETHAN', 'KINGS', 'M', '196'],\n",
              " ['2013', 'ISABELLA', 'QUEENS', 'F', '192'],\n",
              " ['2013', 'DANIEL', 'KINGS', 'M', '188'],\n",
              " ['2013', 'JACOB', 'QUEENS', 'M', '186'],\n",
              " ['2013', 'AIDEN', 'KINGS', 'M', '182'],\n",
              " ['2013', 'LEAH', 'KINGS', 'F', '179'],\n",
              " ['2013', 'NOAH', 'KINGS', 'M', '168'],\n",
              " ['2013', 'JOSEPH', 'KINGS', 'M', '166'],\n",
              " ['2013', 'MATTHEW', 'QUEENS', 'M', '161']]"
            ]
          },
          "metadata": {},
          "execution_count": 156
        }
      ]
    },
    {
      "cell_type": "code",
      "source": [
        "#Ile razy dane imię wystąpiło we wszystkich hrabstwach"
      ],
      "metadata": {
        "id": "kYJCcQqhtdNa"
      },
      "execution_count": null,
      "outputs": []
    },
    {
      "cell_type": "code",
      "source": [
        "?rows.reduceByKey()"
      ],
      "metadata": {
        "id": "4sxR4WvutfCJ",
        "colab": {
          "base_uri": "https://localhost:8080/"
        },
        "outputId": "efb6c99a-ff84-447c-a3bb-021ce27cd062"
      },
      "execution_count": null,
      "outputs": [
        {
          "output_type": "stream",
          "name": "stdout",
          "text": [
            "Object `rows.reduceByKey()` not found.\n"
          ]
        }
      ]
    },
    {
      "cell_type": "code",
      "source": [
        "(rows\n",
        " .map(lambda x: (x[1],int(x[4])))\n",
        " .reduceByKey(lambda x,y: x+y)\n",
        ").collect()"
      ],
      "metadata": {
        "id": "ZMOLjVhLtn7S",
        "colab": {
          "base_uri": "https://localhost:8080/"
        },
        "outputId": "a2ece379-40e8-465d-ae00-52f3208ee111"
      },
      "execution_count": null,
      "outputs": [
        {
          "output_type": "execute_result",
          "data": {
            "text/plain": [
              "[('JAYDEN', 487),\n",
              " ('ETHAN', 412),\n",
              " ('SOPHIA', 204),\n",
              " ('DANIEL', 391),\n",
              " ('ESTHER', 196),\n",
              " ('ISABELLA', 192),\n",
              " ('AIDEN', 182),\n",
              " ('NOAH', 168),\n",
              " ('JOSEPH', 166),\n",
              " ('DAVID', 272),\n",
              " ('MOSHE', 219),\n",
              " ('JACOB', 388),\n",
              " ('LEAH', 179),\n",
              " ('MATTHEW', 161)]"
            ]
          },
          "metadata": {},
          "execution_count": 158
        }
      ]
    },
    {
      "cell_type": "markdown",
      "source": [
        "###Reduce + flatMap"
      ],
      "metadata": {
        "id": "JP4XlFcSuw3w"
      }
    },
    {
      "cell_type": "code",
      "source": [
        "x1 = sc.parallelize(['kot','pies','zajac', 'niedzwiedz'])\n",
        "x2 = sc.parallelize(['wilk','pies','dzik', 'bocian'])"
      ],
      "metadata": {
        "id": "028zT-mpuxqY"
      },
      "execution_count": null,
      "outputs": []
    },
    {
      "cell_type": "code",
      "source": [
        "x1.reduce(lambda x,y: x + '_' + y)"
      ],
      "metadata": {
        "id": "rfIAZpWeuzip",
        "colab": {
          "base_uri": "https://localhost:8080/",
          "height": 35
        },
        "outputId": "56a4b149-1f34-452c-ab10-f0c877aaaa82"
      },
      "execution_count": null,
      "outputs": [
        {
          "output_type": "execute_result",
          "data": {
            "text/plain": [
              "'kot_pies_zajac_niedzwiedz'"
            ],
            "application/vnd.google.colaboratory.intrinsic+json": {
              "type": "string"
            }
          },
          "metadata": {},
          "execution_count": 160
        }
      ]
    },
    {
      "cell_type": "code",
      "source": [
        "#łączna liczba znaków we wszystkich wyrazach w x1"
      ],
      "metadata": {
        "id": "ksh9VBhJvIqd"
      },
      "execution_count": null,
      "outputs": []
    },
    {
      "cell_type": "code",
      "source": [
        "(x1\n",
        " .map(lambda x: [x, len(x)])\n",
        " .flatMap(lambda x: [x[1]])\n",
        ").reduce(lambda x, y: x + y)"
      ],
      "metadata": {
        "id": "2s815dB7vSsD",
        "colab": {
          "base_uri": "https://localhost:8080/"
        },
        "outputId": "adf2968c-af21-42a7-897b-2f8fe0769214"
      },
      "execution_count": null,
      "outputs": [
        {
          "output_type": "execute_result",
          "data": {
            "text/plain": [
              "22"
            ]
          },
          "metadata": {},
          "execution_count": 165
        }
      ]
    },
    {
      "cell_type": "markdown",
      "source": [
        "# Zajęcia 12.04.2023"
      ],
      "metadata": {
        "id": "CTJTh6LpYt1w"
      }
    },
    {
      "cell_type": "markdown",
      "source": [
        "###CountByKey"
      ],
      "metadata": {
        "id": "CsjCr0oEvikd"
      }
    },
    {
      "cell_type": "code",
      "source": [
        "x12 = x1.union(x2)\n",
        "x12.take(10)"
      ],
      "metadata": {
        "id": "bKy5LYKxvj_K",
        "colab": {
          "base_uri": "https://localhost:8080/"
        },
        "outputId": "f853fca5-61fc-458a-a0a3-205fe006c2f7"
      },
      "execution_count": null,
      "outputs": [
        {
          "output_type": "execute_result",
          "data": {
            "text/plain": [
              "['kot', 'pies', 'zajac', 'niedzwiedz', 'wilk', 'pies', 'dzik', 'bocian']"
            ]
          },
          "metadata": {},
          "execution_count": 166
        }
      ]
    },
    {
      "cell_type": "code",
      "source": [
        "(x12\n",
        " .map(lambda x: (x, 'wartosc-wymagane-pole'))\n",
        " ).collect()"
      ],
      "metadata": {
        "id": "j11Muv0CvmWY",
        "colab": {
          "base_uri": "https://localhost:8080/"
        },
        "outputId": "7e384e7b-abf3-455d-baf2-ad443f483746"
      },
      "execution_count": null,
      "outputs": [
        {
          "output_type": "execute_result",
          "data": {
            "text/plain": [
              "[('kot', 'wartosc-wymagane-pole'),\n",
              " ('pies', 'wartosc-wymagane-pole'),\n",
              " ('zajac', 'wartosc-wymagane-pole'),\n",
              " ('niedzwiedz', 'wartosc-wymagane-pole'),\n",
              " ('wilk', 'wartosc-wymagane-pole'),\n",
              " ('pies', 'wartosc-wymagane-pole'),\n",
              " ('dzik', 'wartosc-wymagane-pole'),\n",
              " ('bocian', 'wartosc-wymagane-pole')]"
            ]
          },
          "metadata": {},
          "execution_count": 167
        }
      ]
    },
    {
      "cell_type": "code",
      "source": [
        "(x12\n",
        " .map(lambda x: (x, 'wartosc-wymagane-pole'))\n",
        " ).countByKey()"
      ],
      "metadata": {
        "id": "mznBNBmjvoNc",
        "colab": {
          "base_uri": "https://localhost:8080/"
        },
        "outputId": "d11cf228-f5dd-4688-bacb-33dc8651a0fc"
      },
      "execution_count": null,
      "outputs": [
        {
          "output_type": "execute_result",
          "data": {
            "text/plain": [
              "defaultdict(int,\n",
              "            {'kot': 1,\n",
              "             'pies': 2,\n",
              "             'zajac': 1,\n",
              "             'niedzwiedz': 1,\n",
              "             'wilk': 1,\n",
              "             'dzik': 1,\n",
              "             'bocian': 1})"
            ]
          },
          "metadata": {},
          "execution_count": 168
        }
      ]
    },
    {
      "cell_type": "code",
      "source": [
        "slownik = (x12\n",
        " .map(lambda x: (x, 'wartosc-wymagane-pole'))\n",
        " ).countByKey()"
      ],
      "metadata": {
        "id": "UM-GW6OgwW27"
      },
      "execution_count": null,
      "outputs": []
    },
    {
      "cell_type": "code",
      "source": [
        "x12_dict_python = dict(slownik)\n",
        "x12_dict_python"
      ],
      "metadata": {
        "id": "K5ZwRaC8vwTX",
        "colab": {
          "base_uri": "https://localhost:8080/"
        },
        "outputId": "e6bdae9c-cfce-4103-8289-b8410f29a815"
      },
      "execution_count": null,
      "outputs": [
        {
          "output_type": "execute_result",
          "data": {
            "text/plain": [
              "{'kot': 1,\n",
              " 'pies': 2,\n",
              " 'zajac': 1,\n",
              " 'niedzwiedz': 1,\n",
              " 'wilk': 1,\n",
              " 'dzik': 1,\n",
              " 'bocian': 1}"
            ]
          },
          "metadata": {},
          "execution_count": 170
        }
      ]
    },
    {
      "cell_type": "code",
      "source": [
        "x12_dict_python['pies']"
      ],
      "metadata": {
        "id": "RYj5uRYbwUdH",
        "colab": {
          "base_uri": "https://localhost:8080/"
        },
        "outputId": "e7156ca9-d789-4447-f43b-e43ee62bff18"
      },
      "execution_count": null,
      "outputs": [
        {
          "output_type": "execute_result",
          "data": {
            "text/plain": [
              "2"
            ]
          },
          "metadata": {},
          "execution_count": 171
        }
      ]
    },
    {
      "cell_type": "markdown",
      "source": [
        "###Broadcast"
      ],
      "metadata": {
        "id": "5OvdzP3DwkZh"
      }
    },
    {
      "cell_type": "code",
      "source": [
        "my_local_dict = {'cityX': [1,2,3],\n",
        "                 'cityY': [4,5,6]}"
      ],
      "metadata": {
        "id": "rhDtcHB5wjmp"
      },
      "execution_count": null,
      "outputs": []
    },
    {
      "cell_type": "code",
      "source": [
        "my_rdd = sc.parallelize(['cityX','cityY'])\n",
        "my_rdd.collect()"
      ],
      "metadata": {
        "id": "C_uQWfUkwmTa",
        "colab": {
          "base_uri": "https://localhost:8080/"
        },
        "outputId": "a0a3dcc9-5a74-49ab-c1b4-de035b8443d2"
      },
      "execution_count": null,
      "outputs": [
        {
          "output_type": "execute_result",
          "data": {
            "text/plain": [
              "['cityX', 'cityY']"
            ]
          },
          "metadata": {},
          "execution_count": 173
        }
      ]
    },
    {
      "cell_type": "code",
      "source": [
        "my_rdd.map(lambda x: (x, my_local_dict[x][2])).collect() #Złe podejście"
      ],
      "metadata": {
        "id": "y7D8DU50wnd-",
        "colab": {
          "base_uri": "https://localhost:8080/"
        },
        "outputId": "5482bd1a-6252-4133-f345-c16b23d942c3"
      },
      "execution_count": null,
      "outputs": [
        {
          "output_type": "execute_result",
          "data": {
            "text/plain": [
              "[('cityX', 3), ('cityY', 6)]"
            ]
          },
          "metadata": {},
          "execution_count": 174
        }
      ]
    },
    {
      "cell_type": "code",
      "source": [
        "my_broadcasted_dict = sc.broadcast(my_local_dict)"
      ],
      "metadata": {
        "id": "0GZop-F_wqtK"
      },
      "execution_count": null,
      "outputs": []
    },
    {
      "cell_type": "code",
      "source": [
        "my_broadcasted_dict.value"
      ],
      "metadata": {
        "id": "i4c1bcSdwsVu",
        "colab": {
          "base_uri": "https://localhost:8080/"
        },
        "outputId": "756f27a6-3d50-4955-b05b-9416bde23008"
      },
      "execution_count": null,
      "outputs": [
        {
          "output_type": "execute_result",
          "data": {
            "text/plain": [
              "{'cityX': [1, 2, 3], 'cityY': [4, 5, 6]}"
            ]
          },
          "metadata": {},
          "execution_count": 176
        }
      ]
    },
    {
      "cell_type": "code",
      "source": [
        "my_rdd.map(lambda x: (x, my_broadcasted_dict.value[x][2])).collect() #Dobre podejście"
      ],
      "metadata": {
        "id": "tFkgSVdPwuLZ",
        "colab": {
          "base_uri": "https://localhost:8080/"
        },
        "outputId": "a577ad86-7c29-45f8-ca24-cd6401624319"
      },
      "execution_count": null,
      "outputs": [
        {
          "output_type": "execute_result",
          "data": {
            "text/plain": [
              "[('cityX', 3), ('cityY', 6)]"
            ]
          },
          "metadata": {},
          "execution_count": 177
        }
      ]
    },
    {
      "cell_type": "markdown",
      "source": [
        "###Accumulators"
      ],
      "metadata": {
        "id": "WWJi18qqx8_H"
      }
    },
    {
      "cell_type": "code",
      "source": [
        "accumulator = sc.accumulator(0)"
      ],
      "metadata": {
        "id": "bgfguvH2x9ZJ"
      },
      "execution_count": null,
      "outputs": []
    },
    {
      "cell_type": "code",
      "source": [
        "accumulator.value"
      ],
      "metadata": {
        "id": "MLzzbcHmyDLk"
      },
      "execution_count": null,
      "outputs": []
    },
    {
      "cell_type": "code",
      "source": [
        "sc.parallelize([1,2,3,4]).foreach(lambda x: accumulator.add(x))"
      ],
      "metadata": {
        "id": "KW1V7qUXyD9O"
      },
      "execution_count": null,
      "outputs": []
    },
    {
      "cell_type": "code",
      "source": [
        "accumulator.value"
      ],
      "metadata": {
        "id": "9iBLfPQKyFZm",
        "colab": {
          "base_uri": "https://localhost:8080/"
        },
        "outputId": "b52d6bde-d6b9-45c3-be5b-7d19e84c7226"
      },
      "execution_count": null,
      "outputs": [
        {
          "output_type": "execute_result",
          "data": {
            "text/plain": [
              "10"
            ]
          },
          "metadata": {},
          "execution_count": 11
        }
      ]
    },
    {
      "cell_type": "markdown",
      "source": [
        "###Zadanie 3 - wordcount\n",
        "1. Wczytaj plik TREASURE_ISLAND.txt z moodle do RDD\n",
        "2. wykonaj wordcount (jakie słowo ile razy wystąpiło)"
      ],
      "metadata": {
        "id": "dpVggmgQyTtM"
      }
    },
    {
      "cell_type": "code",
      "source": [
        "#kod\n",
        "!head -5 TREASURE_ISLAND.txt"
      ],
      "metadata": {
        "id": "EXgex05519Ba",
        "colab": {
          "base_uri": "https://localhost:8080/"
        },
        "outputId": "c772e47a-a643-4ce8-b6ed-9440c4525eb9"
      },
      "execution_count": null,
      "outputs": [
        {
          "output_type": "stream",
          "name": "stdout",
          "text": [
            "TREASURE ISLAND\r\n",
            "\r\n",
            " To\r\n",
            "S.L.O.,\r\n",
            "an American gentleman\r\n"
          ]
        }
      ]
    },
    {
      "cell_type": "code",
      "source": [
        "count = (sc.textFile('TREASURE_ISLAND.txt', 1)\n",
        "          . flatMap (lambda x : x.split (' '))\n",
        "          . map( lambda x : ( x , 1 ) )\n",
        "          . reduce By Key ( lambda x , y : x + y)\n",
        "          .saveAsTextFile('output'))"
      ],
      "metadata": {
        "colab": {
          "base_uri": "https://localhost:8080/",
          "height": 106
        },
        "id": "ym_XF-N9iwEU",
        "outputId": "7bd513cc-31b4-4b1b-a950-024627ffe716"
      },
      "execution_count": null,
      "outputs": [
        {
          "output_type": "error",
          "ename": "SyntaxError",
          "evalue": "invalid syntax. Perhaps you forgot a comma? (<ipython-input-21-8b13947ec499>, line 1)",
          "traceback": [
            "\u001b[0;36m  File \u001b[0;32m\"<ipython-input-21-8b13947ec499>\"\u001b[0;36m, line \u001b[0;32m1\u001b[0m\n\u001b[0;31m    count = (sc.textFile('TREASURE_ISLAND.txt', 1)\u001b[0m\n\u001b[0m             ^\u001b[0m\n\u001b[0;31mSyntaxError\u001b[0m\u001b[0;31m:\u001b[0m invalid syntax. Perhaps you forgot a comma?\n"
          ]
        }
      ]
    },
    {
      "cell_type": "code",
      "source": [
        "plik = sc.textFile('TREASURE_ISLAND.txt')"
      ],
      "metadata": {
        "id": "JXJZfhiwl7ja"
      },
      "execution_count": null,
      "outputs": []
    },
    {
      "cell_type": "code",
      "source": [
        "(plik\n",
        "  .flatMap(lambda x : x.split(' '))\n",
        "  .filter(lambda x : x != '')\n",
        "  .map(lambda x : x.lower())\n",
        "  .map(lambda x : (x, 1))\n",
        "  .reduceByKey(lambda x,y: x+y)\n",
        " ).take(10)"
      ],
      "metadata": {
        "colab": {
          "base_uri": "https://localhost:8080/"
        },
        "id": "5drZEn4CmRIu",
        "outputId": "e75aaae2-d424-4d52-c05f-3c4b1e3741b9"
      },
      "execution_count": null,
      "outputs": [
        {
          "output_type": "execute_result",
          "data": {
            "text/plain": [
              "[('treasure', 7),\n",
              " ('s.l.o.,', 1),\n",
              " ('an', 30),\n",
              " ('gentleman', 2),\n",
              " ('in', 222),\n",
              " ('whose', 1),\n",
              " ('following', 5),\n",
              " ('narrative', 5),\n",
              " ('designed,', 1),\n",
              " ('is', 44)]"
            ]
          },
          "metadata": {},
          "execution_count": 29
        }
      ]
    },
    {
      "cell_type": "markdown",
      "source": [
        "##Spark SQL (DataFrames)"
      ],
      "metadata": {
        "id": "S77gpQjWZD7V"
      }
    },
    {
      "cell_type": "code",
      "source": [
        "!head -5 people.txt"
      ],
      "metadata": {
        "id": "qD4LFSpjZFHS",
        "colab": {
          "base_uri": "https://localhost:8080/"
        },
        "outputId": "34a37469-bfd0-477e-c06c-dc6056fe7460"
      },
      "execution_count": null,
      "outputs": [
        {
          "output_type": "stream",
          "name": "stdout",
          "text": [
            "Name,Age\n",
            "Michael, 29\n",
            "Andy, 30\n",
            "Justin, 19\n",
            "Filip, 99\n"
          ]
        }
      ]
    },
    {
      "cell_type": "code",
      "source": [
        "spark"
      ],
      "metadata": {
        "id": "6TdDodUBdgYB",
        "colab": {
          "base_uri": "https://localhost:8080/",
          "height": 219
        },
        "outputId": "704bf306-b1a0-43c0-cdd3-a149212e84ae"
      },
      "execution_count": null,
      "outputs": [
        {
          "output_type": "execute_result",
          "data": {
            "text/plain": [
              "<pyspark.sql.session.SparkSession at 0x7df7802260b0>"
            ],
            "text/html": [
              "\n",
              "            <div>\n",
              "                <p><b>SparkSession - in-memory</b></p>\n",
              "                \n",
              "        <div>\n",
              "            <p><b>SparkContext</b></p>\n",
              "\n",
              "            <p><a href=\"http://416b4880b8f7:4040\">Spark UI</a></p>\n",
              "\n",
              "            <dl>\n",
              "              <dt>Version</dt>\n",
              "                <dd><code>v3.5.1</code></dd>\n",
              "              <dt>Master</dt>\n",
              "                <dd><code>local[*]</code></dd>\n",
              "              <dt>AppName</dt>\n",
              "                <dd><code>pyspark-shell</code></dd>\n",
              "            </dl>\n",
              "        </div>\n",
              "        \n",
              "            </div>\n",
              "        "
            ]
          },
          "metadata": {},
          "execution_count": 31
        }
      ]
    },
    {
      "cell_type": "code",
      "source": [
        "df = spark.read.csv('people.txt', header=True)"
      ],
      "metadata": {
        "id": "a9BLInEucqba"
      },
      "execution_count": null,
      "outputs": []
    },
    {
      "cell_type": "code",
      "source": [
        "type(df)"
      ],
      "metadata": {
        "id": "FdS6QAiAcrFC",
        "colab": {
          "base_uri": "https://localhost:8080/",
          "height": 187
        },
        "outputId": "0da0eb88-3f6f-4ce1-c7c8-e5ba1faf5cb2"
      },
      "execution_count": null,
      "outputs": [
        {
          "output_type": "execute_result",
          "data": {
            "text/plain": [
              "pyspark.sql.dataframe.DataFrame"
            ],
            "text/html": [
              "<div style=\"max-width:800px; border: 1px solid var(--colab-border-color);\"><style>\n",
              "      pre.function-repr-contents {\n",
              "        overflow-x: auto;\n",
              "        padding: 8px 12px;\n",
              "        max-height: 500px;\n",
              "      }\n",
              "\n",
              "      pre.function-repr-contents.function-repr-contents-collapsed {\n",
              "        cursor: pointer;\n",
              "        max-height: 100px;\n",
              "      }\n",
              "    </style>\n",
              "    <pre style=\"white-space: initial; background:\n",
              "         var(--colab-secondary-surface-color); padding: 8px 12px;\n",
              "         border-bottom: 1px solid var(--colab-border-color);\"><b>pyspark.sql.dataframe.DataFrame</b><br/>def __init__(jdf: JavaObject, sql_ctx: Union[&#x27;SQLContext&#x27;, &#x27;SparkSession&#x27;])</pre><pre class=\"function-repr-contents function-repr-contents-collapsed\" style=\"\"><a class=\"filepath\" style=\"display:none\" href=\"#\">/usr/local/lib/python3.10/dist-packages/pyspark/sql/dataframe.py</a>A distributed collection of data grouped into named columns.\n",
              "\n",
              ".. versionadded:: 1.3.0\n",
              "\n",
              ".. versionchanged:: 3.4.0\n",
              "    Supports Spark Connect.\n",
              "\n",
              "Examples\n",
              "--------\n",
              "A :class:`DataFrame` is equivalent to a relational table in Spark SQL,\n",
              "and can be created using various functions in :class:`SparkSession`:\n",
              "\n",
              "&gt;&gt;&gt; people = spark.createDataFrame([\n",
              "...     {&quot;deptId&quot;: 1, &quot;age&quot;: 40, &quot;name&quot;: &quot;Hyukjin Kwon&quot;, &quot;gender&quot;: &quot;M&quot;, &quot;salary&quot;: 50},\n",
              "...     {&quot;deptId&quot;: 1, &quot;age&quot;: 50, &quot;name&quot;: &quot;Takuya Ueshin&quot;, &quot;gender&quot;: &quot;M&quot;, &quot;salary&quot;: 100},\n",
              "...     {&quot;deptId&quot;: 2, &quot;age&quot;: 60, &quot;name&quot;: &quot;Xinrong Meng&quot;, &quot;gender&quot;: &quot;F&quot;, &quot;salary&quot;: 150},\n",
              "...     {&quot;deptId&quot;: 3, &quot;age&quot;: 20, &quot;name&quot;: &quot;Haejoon Lee&quot;, &quot;gender&quot;: &quot;M&quot;, &quot;salary&quot;: 200}\n",
              "... ])\n",
              "\n",
              "Once created, it can be manipulated using the various domain-specific-language\n",
              "(DSL) functions defined in: :class:`DataFrame`, :class:`Column`.\n",
              "\n",
              "To select a column from the :class:`DataFrame`, use the apply method:\n",
              "\n",
              "&gt;&gt;&gt; age_col = people.age\n",
              "\n",
              "A more concrete example:\n",
              "\n",
              "&gt;&gt;&gt; # To create DataFrame using SparkSession\n",
              "... department = spark.createDataFrame([\n",
              "...     {&quot;id&quot;: 1, &quot;name&quot;: &quot;PySpark&quot;},\n",
              "...     {&quot;id&quot;: 2, &quot;name&quot;: &quot;ML&quot;},\n",
              "...     {&quot;id&quot;: 3, &quot;name&quot;: &quot;Spark SQL&quot;}\n",
              "... ])\n",
              "\n",
              "&gt;&gt;&gt; people.filter(people.age &gt; 30).join(\n",
              "...     department, people.deptId == department.id).groupBy(\n",
              "...     department.name, &quot;gender&quot;).agg({&quot;salary&quot;: &quot;avg&quot;, &quot;age&quot;: &quot;max&quot;}).show()\n",
              "+-------+------+-----------+--------+\n",
              "|   name|gender|avg(salary)|max(age)|\n",
              "+-------+------+-----------+--------+\n",
              "|     ML|     F|      150.0|      60|\n",
              "|PySpark|     M|       75.0|      50|\n",
              "+-------+------+-----------+--------+\n",
              "\n",
              "Notes\n",
              "-----\n",
              "A DataFrame should only be created as described above. It should not be directly\n",
              "created via using the constructor.</pre>\n",
              "      <script>\n",
              "      if (google.colab.kernel.accessAllowed && google.colab.files && google.colab.files.view) {\n",
              "        for (const element of document.querySelectorAll('.filepath')) {\n",
              "          element.style.display = 'block'\n",
              "          element.onclick = (event) => {\n",
              "            event.preventDefault();\n",
              "            event.stopPropagation();\n",
              "            google.colab.files.view(element.textContent, 80);\n",
              "          };\n",
              "        }\n",
              "      }\n",
              "      for (const element of document.querySelectorAll('.function-repr-contents')) {\n",
              "        element.onclick = (event) => {\n",
              "          event.preventDefault();\n",
              "          event.stopPropagation();\n",
              "          element.classList.toggle('function-repr-contents-collapsed');\n",
              "        };\n",
              "      }\n",
              "      </script>\n",
              "      </div>"
            ]
          },
          "metadata": {},
          "execution_count": 33
        }
      ]
    },
    {
      "cell_type": "code",
      "source": [
        "df.show(100)"
      ],
      "metadata": {
        "id": "Of9QZYIGcseI",
        "colab": {
          "base_uri": "https://localhost:8080/"
        },
        "outputId": "55591f94-a6c4-4386-b08a-282aa78793ff"
      },
      "execution_count": null,
      "outputs": [
        {
          "output_type": "stream",
          "name": "stdout",
          "text": [
            "+-------+---+\n",
            "|   Name|Age|\n",
            "+-------+---+\n",
            "|Michael| 29|\n",
            "|   Andy| 30|\n",
            "| Justin| 19|\n",
            "|  Filip| 99|\n",
            "+-------+---+\n",
            "\n"
          ]
        }
      ]
    },
    {
      "cell_type": "code",
      "source": [
        "df.storageLevel.useMemory"
      ],
      "metadata": {
        "id": "jbapBCtcczEl",
        "colab": {
          "base_uri": "https://localhost:8080/"
        },
        "outputId": "3c3d60bd-5354-44d6-db79-53bcfa8be5b0"
      },
      "execution_count": null,
      "outputs": [
        {
          "output_type": "execute_result",
          "data": {
            "text/plain": [
              "False"
            ]
          },
          "metadata": {},
          "execution_count": 35
        }
      ]
    },
    {
      "cell_type": "code",
      "source": [
        "df.cache()"
      ],
      "metadata": {
        "id": "HS7dK_7Fdtdo",
        "colab": {
          "base_uri": "https://localhost:8080/"
        },
        "outputId": "bc9be04d-b0c2-4e8c-9afe-bc685bb3dfea"
      },
      "execution_count": null,
      "outputs": [
        {
          "output_type": "execute_result",
          "data": {
            "text/plain": [
              "DataFrame[Name: string, Age: string]"
            ]
          },
          "metadata": {},
          "execution_count": 36
        }
      ]
    },
    {
      "cell_type": "code",
      "source": [
        "df.storageLevel.useMemory"
      ],
      "metadata": {
        "id": "icATrcjAd255",
        "colab": {
          "base_uri": "https://localhost:8080/"
        },
        "outputId": "21a77b07-196f-40e4-cd64-c2cbceb6ff8c"
      },
      "execution_count": null,
      "outputs": [
        {
          "output_type": "execute_result",
          "data": {
            "text/plain": [
              "True"
            ]
          },
          "metadata": {},
          "execution_count": 37
        }
      ]
    },
    {
      "cell_type": "code",
      "source": [
        "import pyspark.sql.functions as f"
      ],
      "metadata": {
        "id": "RiL4nnEyd48z"
      },
      "execution_count": null,
      "outputs": []
    },
    {
      "cell_type": "code",
      "source": [
        "x = df.select('Age', df['Age']+2, f.col('Age')+2).toPandas() #3 sposoby na modyfikację kolumny"
      ],
      "metadata": {
        "id": "DIZrLboJd6rd"
      },
      "execution_count": null,
      "outputs": []
    },
    {
      "cell_type": "code",
      "source": [
        "x"
      ],
      "metadata": {
        "id": "-NcVD9b3eI0T",
        "colab": {
          "base_uri": "https://localhost:8080/",
          "height": 175
        },
        "outputId": "51773958-25cb-4143-f519-927544cc49b9"
      },
      "execution_count": null,
      "outputs": [
        {
          "output_type": "execute_result",
          "data": {
            "text/plain": [
              "   Age  (Age + 2)  (Age + 2)\n",
              "0   29       31.0       31.0\n",
              "1   30       32.0       32.0\n",
              "2   19       21.0       21.0\n",
              "3   99      101.0      101.0"
            ],
            "text/html": [
              "\n",
              "  <div id=\"df-9d768d92-9f6a-4468-810f-9117d4ef0ff4\" class=\"colab-df-container\">\n",
              "    <div>\n",
              "<style scoped>\n",
              "    .dataframe tbody tr th:only-of-type {\n",
              "        vertical-align: middle;\n",
              "    }\n",
              "\n",
              "    .dataframe tbody tr th {\n",
              "        vertical-align: top;\n",
              "    }\n",
              "\n",
              "    .dataframe thead th {\n",
              "        text-align: right;\n",
              "    }\n",
              "</style>\n",
              "<table border=\"1\" class=\"dataframe\">\n",
              "  <thead>\n",
              "    <tr style=\"text-align: right;\">\n",
              "      <th></th>\n",
              "      <th>Age</th>\n",
              "      <th>(Age + 2)</th>\n",
              "      <th>(Age + 2)</th>\n",
              "    </tr>\n",
              "  </thead>\n",
              "  <tbody>\n",
              "    <tr>\n",
              "      <th>0</th>\n",
              "      <td>29</td>\n",
              "      <td>31.0</td>\n",
              "      <td>31.0</td>\n",
              "    </tr>\n",
              "    <tr>\n",
              "      <th>1</th>\n",
              "      <td>30</td>\n",
              "      <td>32.0</td>\n",
              "      <td>32.0</td>\n",
              "    </tr>\n",
              "    <tr>\n",
              "      <th>2</th>\n",
              "      <td>19</td>\n",
              "      <td>21.0</td>\n",
              "      <td>21.0</td>\n",
              "    </tr>\n",
              "    <tr>\n",
              "      <th>3</th>\n",
              "      <td>99</td>\n",
              "      <td>101.0</td>\n",
              "      <td>101.0</td>\n",
              "    </tr>\n",
              "  </tbody>\n",
              "</table>\n",
              "</div>\n",
              "    <div class=\"colab-df-buttons\">\n",
              "\n",
              "  <div class=\"colab-df-container\">\n",
              "    <button class=\"colab-df-convert\" onclick=\"convertToInteractive('df-9d768d92-9f6a-4468-810f-9117d4ef0ff4')\"\n",
              "            title=\"Convert this dataframe to an interactive table.\"\n",
              "            style=\"display:none;\">\n",
              "\n",
              "  <svg xmlns=\"http://www.w3.org/2000/svg\" height=\"24px\" viewBox=\"0 -960 960 960\">\n",
              "    <path d=\"M120-120v-720h720v720H120Zm60-500h600v-160H180v160Zm220 220h160v-160H400v160Zm0 220h160v-160H400v160ZM180-400h160v-160H180v160Zm440 0h160v-160H620v160ZM180-180h160v-160H180v160Zm440 0h160v-160H620v160Z\"/>\n",
              "  </svg>\n",
              "    </button>\n",
              "\n",
              "  <style>\n",
              "    .colab-df-container {\n",
              "      display:flex;\n",
              "      gap: 12px;\n",
              "    }\n",
              "\n",
              "    .colab-df-convert {\n",
              "      background-color: #E8F0FE;\n",
              "      border: none;\n",
              "      border-radius: 50%;\n",
              "      cursor: pointer;\n",
              "      display: none;\n",
              "      fill: #1967D2;\n",
              "      height: 32px;\n",
              "      padding: 0 0 0 0;\n",
              "      width: 32px;\n",
              "    }\n",
              "\n",
              "    .colab-df-convert:hover {\n",
              "      background-color: #E2EBFA;\n",
              "      box-shadow: 0px 1px 2px rgba(60, 64, 67, 0.3), 0px 1px 3px 1px rgba(60, 64, 67, 0.15);\n",
              "      fill: #174EA6;\n",
              "    }\n",
              "\n",
              "    .colab-df-buttons div {\n",
              "      margin-bottom: 4px;\n",
              "    }\n",
              "\n",
              "    [theme=dark] .colab-df-convert {\n",
              "      background-color: #3B4455;\n",
              "      fill: #D2E3FC;\n",
              "    }\n",
              "\n",
              "    [theme=dark] .colab-df-convert:hover {\n",
              "      background-color: #434B5C;\n",
              "      box-shadow: 0px 1px 3px 1px rgba(0, 0, 0, 0.15);\n",
              "      filter: drop-shadow(0px 1px 2px rgba(0, 0, 0, 0.3));\n",
              "      fill: #FFFFFF;\n",
              "    }\n",
              "  </style>\n",
              "\n",
              "    <script>\n",
              "      const buttonEl =\n",
              "        document.querySelector('#df-9d768d92-9f6a-4468-810f-9117d4ef0ff4 button.colab-df-convert');\n",
              "      buttonEl.style.display =\n",
              "        google.colab.kernel.accessAllowed ? 'block' : 'none';\n",
              "\n",
              "      async function convertToInteractive(key) {\n",
              "        const element = document.querySelector('#df-9d768d92-9f6a-4468-810f-9117d4ef0ff4');\n",
              "        const dataTable =\n",
              "          await google.colab.kernel.invokeFunction('convertToInteractive',\n",
              "                                                    [key], {});\n",
              "        if (!dataTable) return;\n",
              "\n",
              "        const docLinkHtml = 'Like what you see? Visit the ' +\n",
              "          '<a target=\"_blank\" href=https://colab.research.google.com/notebooks/data_table.ipynb>data table notebook</a>'\n",
              "          + ' to learn more about interactive tables.';\n",
              "        element.innerHTML = '';\n",
              "        dataTable['output_type'] = 'display_data';\n",
              "        await google.colab.output.renderOutput(dataTable, element);\n",
              "        const docLink = document.createElement('div');\n",
              "        docLink.innerHTML = docLinkHtml;\n",
              "        element.appendChild(docLink);\n",
              "      }\n",
              "    </script>\n",
              "  </div>\n",
              "\n",
              "\n",
              "<div id=\"df-8206fd46-1d56-44cc-a258-aa1097c5526f\">\n",
              "  <button class=\"colab-df-quickchart\" onclick=\"quickchart('df-8206fd46-1d56-44cc-a258-aa1097c5526f')\"\n",
              "            title=\"Suggest charts\"\n",
              "            style=\"display:none;\">\n",
              "\n",
              "<svg xmlns=\"http://www.w3.org/2000/svg\" height=\"24px\"viewBox=\"0 0 24 24\"\n",
              "     width=\"24px\">\n",
              "    <g>\n",
              "        <path d=\"M19 3H5c-1.1 0-2 .9-2 2v14c0 1.1.9 2 2 2h14c1.1 0 2-.9 2-2V5c0-1.1-.9-2-2-2zM9 17H7v-7h2v7zm4 0h-2V7h2v10zm4 0h-2v-4h2v4z\"/>\n",
              "    </g>\n",
              "</svg>\n",
              "  </button>\n",
              "\n",
              "<style>\n",
              "  .colab-df-quickchart {\n",
              "      --bg-color: #E8F0FE;\n",
              "      --fill-color: #1967D2;\n",
              "      --hover-bg-color: #E2EBFA;\n",
              "      --hover-fill-color: #174EA6;\n",
              "      --disabled-fill-color: #AAA;\n",
              "      --disabled-bg-color: #DDD;\n",
              "  }\n",
              "\n",
              "  [theme=dark] .colab-df-quickchart {\n",
              "      --bg-color: #3B4455;\n",
              "      --fill-color: #D2E3FC;\n",
              "      --hover-bg-color: #434B5C;\n",
              "      --hover-fill-color: #FFFFFF;\n",
              "      --disabled-bg-color: #3B4455;\n",
              "      --disabled-fill-color: #666;\n",
              "  }\n",
              "\n",
              "  .colab-df-quickchart {\n",
              "    background-color: var(--bg-color);\n",
              "    border: none;\n",
              "    border-radius: 50%;\n",
              "    cursor: pointer;\n",
              "    display: none;\n",
              "    fill: var(--fill-color);\n",
              "    height: 32px;\n",
              "    padding: 0;\n",
              "    width: 32px;\n",
              "  }\n",
              "\n",
              "  .colab-df-quickchart:hover {\n",
              "    background-color: var(--hover-bg-color);\n",
              "    box-shadow: 0 1px 2px rgba(60, 64, 67, 0.3), 0 1px 3px 1px rgba(60, 64, 67, 0.15);\n",
              "    fill: var(--button-hover-fill-color);\n",
              "  }\n",
              "\n",
              "  .colab-df-quickchart-complete:disabled,\n",
              "  .colab-df-quickchart-complete:disabled:hover {\n",
              "    background-color: var(--disabled-bg-color);\n",
              "    fill: var(--disabled-fill-color);\n",
              "    box-shadow: none;\n",
              "  }\n",
              "\n",
              "  .colab-df-spinner {\n",
              "    border: 2px solid var(--fill-color);\n",
              "    border-color: transparent;\n",
              "    border-bottom-color: var(--fill-color);\n",
              "    animation:\n",
              "      spin 1s steps(1) infinite;\n",
              "  }\n",
              "\n",
              "  @keyframes spin {\n",
              "    0% {\n",
              "      border-color: transparent;\n",
              "      border-bottom-color: var(--fill-color);\n",
              "      border-left-color: var(--fill-color);\n",
              "    }\n",
              "    20% {\n",
              "      border-color: transparent;\n",
              "      border-left-color: var(--fill-color);\n",
              "      border-top-color: var(--fill-color);\n",
              "    }\n",
              "    30% {\n",
              "      border-color: transparent;\n",
              "      border-left-color: var(--fill-color);\n",
              "      border-top-color: var(--fill-color);\n",
              "      border-right-color: var(--fill-color);\n",
              "    }\n",
              "    40% {\n",
              "      border-color: transparent;\n",
              "      border-right-color: var(--fill-color);\n",
              "      border-top-color: var(--fill-color);\n",
              "    }\n",
              "    60% {\n",
              "      border-color: transparent;\n",
              "      border-right-color: var(--fill-color);\n",
              "    }\n",
              "    80% {\n",
              "      border-color: transparent;\n",
              "      border-right-color: var(--fill-color);\n",
              "      border-bottom-color: var(--fill-color);\n",
              "    }\n",
              "    90% {\n",
              "      border-color: transparent;\n",
              "      border-bottom-color: var(--fill-color);\n",
              "    }\n",
              "  }\n",
              "</style>\n",
              "\n",
              "  <script>\n",
              "    async function quickchart(key) {\n",
              "      const quickchartButtonEl =\n",
              "        document.querySelector('#' + key + ' button');\n",
              "      quickchartButtonEl.disabled = true;  // To prevent multiple clicks.\n",
              "      quickchartButtonEl.classList.add('colab-df-spinner');\n",
              "      try {\n",
              "        const charts = await google.colab.kernel.invokeFunction(\n",
              "            'suggestCharts', [key], {});\n",
              "      } catch (error) {\n",
              "        console.error('Error during call to suggestCharts:', error);\n",
              "      }\n",
              "      quickchartButtonEl.classList.remove('colab-df-spinner');\n",
              "      quickchartButtonEl.classList.add('colab-df-quickchart-complete');\n",
              "    }\n",
              "    (() => {\n",
              "      let quickchartButtonEl =\n",
              "        document.querySelector('#df-8206fd46-1d56-44cc-a258-aa1097c5526f button');\n",
              "      quickchartButtonEl.style.display =\n",
              "        google.colab.kernel.accessAllowed ? 'block' : 'none';\n",
              "    })();\n",
              "  </script>\n",
              "</div>\n",
              "    </div>\n",
              "  </div>\n"
            ],
            "application/vnd.google.colaboratory.intrinsic+json": {
              "type": "dataframe",
              "variable_name": "x",
              "summary": "{\n  \"name\": \"x\",\n  \"rows\": 4,\n  \"fields\": [\n    {\n      \"column\": \"Age\",\n      \"properties\": {\n        \"dtype\": \"string\",\n        \"num_unique_values\": 4,\n        \"samples\": [\n          \" 30\",\n          \" 99\",\n          \" 29\"\n        ],\n        \"semantic_type\": \"\",\n        \"description\": \"\"\n      }\n    },\n    {\n      \"column\": \"(Age + 2)\",\n      \"properties\": {\n        \"dtype\": \"number\",\n        \"std\": 36.83634980106833,\n        \"min\": 21.0,\n        \"max\": 101.0,\n        \"num_unique_values\": 4,\n        \"samples\": [\n          32.0,\n          101.0,\n          31.0\n        ],\n        \"semantic_type\": \"\",\n        \"description\": \"\"\n      }\n    },\n    {\n      \"column\": \"(Age + 2)\",\n      \"properties\": {\n        \"dtype\": \"number\",\n        \"std\": 36.83634980106833,\n        \"min\": 21.0,\n        \"max\": 101.0,\n        \"num_unique_values\": 4,\n        \"samples\": [\n          32.0,\n          101.0,\n          31.0\n        ],\n        \"semantic_type\": \"\",\n        \"description\": \"\"\n      }\n    }\n  ]\n}"
            }
          },
          "metadata": {},
          "execution_count": 40
        }
      ]
    },
    {
      "cell_type": "code",
      "source": [
        "df.show(100)"
      ],
      "metadata": {
        "id": "s5EpfTLPeKOl",
        "colab": {
          "base_uri": "https://localhost:8080/"
        },
        "outputId": "4b5119e5-6e34-49e6-9a22-ea8e67a245c8"
      },
      "execution_count": null,
      "outputs": [
        {
          "output_type": "stream",
          "name": "stdout",
          "text": [
            "+-------+---+\n",
            "|   Name|Age|\n",
            "+-------+---+\n",
            "|Michael| 29|\n",
            "|   Andy| 30|\n",
            "| Justin| 19|\n",
            "|  Filip| 99|\n",
            "+-------+---+\n",
            "\n"
          ]
        }
      ]
    },
    {
      "cell_type": "code",
      "source": [
        "(df\n",
        " .filter(f.col('Age') > 20)\n",
        " .filter(f.col('Name').startswith('F'))\n",
        " ).show(100)"
      ],
      "metadata": {
        "id": "-k0vFCaOfIH-",
        "colab": {
          "base_uri": "https://localhost:8080/"
        },
        "outputId": "bf767705-f5b1-4797-b2eb-6d982fbef209"
      },
      "execution_count": null,
      "outputs": [
        {
          "output_type": "stream",
          "name": "stdout",
          "text": [
            "+-----+---+\n",
            "| Name|Age|\n",
            "+-----+---+\n",
            "|Filip| 99|\n",
            "+-----+---+\n",
            "\n"
          ]
        }
      ]
    },
    {
      "cell_type": "code",
      "source": [
        "df.groupBy('Name').count().show()"
      ],
      "metadata": {
        "id": "ojGTi1n3fK08",
        "colab": {
          "base_uri": "https://localhost:8080/"
        },
        "outputId": "fc2712c0-ea18-4d22-a39e-5982271fc21d"
      },
      "execution_count": null,
      "outputs": [
        {
          "output_type": "stream",
          "name": "stdout",
          "text": [
            "+-------+-----+\n",
            "|   Name|count|\n",
            "+-------+-----+\n",
            "|Michael|    1|\n",
            "|  Filip|    1|\n",
            "|   Andy|    1|\n",
            "| Justin|    1|\n",
            "+-------+-----+\n",
            "\n"
          ]
        }
      ]
    },
    {
      "cell_type": "markdown",
      "source": [
        "###TempView / GlobalTempView (ala SQL)"
      ],
      "metadata": {
        "id": "mgDudeWfguSs"
      }
    },
    {
      "cell_type": "code",
      "source": [
        "df.createOrReplaceTempView('people')\n",
        "sqlDF = spark.sql(\"SELECT * FROM people WHERE Age>20 AND SUBSTR(Name,1,1)='F'\")\n",
        "sqlDF.show()"
      ],
      "metadata": {
        "id": "wGOWv-DMgcZY",
        "colab": {
          "base_uri": "https://localhost:8080/"
        },
        "outputId": "821fd997-418c-4f2b-a182-233c0cc8b581"
      },
      "execution_count": null,
      "outputs": [
        {
          "output_type": "stream",
          "name": "stdout",
          "text": [
            "+-----+---+\n",
            "| Name|Age|\n",
            "+-----+---+\n",
            "|Filip| 99|\n",
            "+-----+---+\n",
            "\n"
          ]
        }
      ]
    },
    {
      "cell_type": "code",
      "source": [
        "df.createOrReplaceGlobalTempView('people_g')\n",
        "sqlDF = spark.sql(\"SELECT * FROM global_temp.people_g WHERE Age>20 AND SUBSTR(Name,1,1)='F'\")\n",
        "sqlDF.show()"
      ],
      "metadata": {
        "id": "labfDzb-gwdX",
        "colab": {
          "base_uri": "https://localhost:8080/"
        },
        "outputId": "bbd38cf2-6dac-4aff-9be0-fff6d98319a8"
      },
      "execution_count": null,
      "outputs": [
        {
          "output_type": "stream",
          "name": "stdout",
          "text": [
            "+-----+---+\n",
            "| Name|Age|\n",
            "+-----+---+\n",
            "|Filip| 99|\n",
            "+-----+---+\n",
            "\n"
          ]
        }
      ]
    },
    {
      "cell_type": "markdown",
      "source": [
        "### rdd $\\mapsto$ DF"
      ],
      "metadata": {
        "id": "moJwOgKKhQOq"
      }
    },
    {
      "cell_type": "code",
      "source": [
        "lines = sc.textFile('people_noheader.txt')"
      ],
      "metadata": {
        "id": "jJ4-4mJFhWRu"
      },
      "execution_count": null,
      "outputs": []
    },
    {
      "cell_type": "code",
      "source": [
        "lines.take(10)"
      ],
      "metadata": {
        "id": "Ngu87hefhYnj",
        "colab": {
          "base_uri": "https://localhost:8080/"
        },
        "outputId": "7f19e07f-16f4-40ef-a629-c6f79f0ff7f0"
      },
      "execution_count": null,
      "outputs": [
        {
          "output_type": "execute_result",
          "data": {
            "text/plain": [
              "['Michael, 29', 'Andy, 30', 'Justin, 19', 'Filip, 99']"
            ]
          },
          "metadata": {},
          "execution_count": 47
        }
      ]
    },
    {
      "cell_type": "code",
      "source": [
        "parts = lines.map(lambda x: x.split(','))\n",
        "parts.take(10)"
      ],
      "metadata": {
        "id": "stzGItg3hZ8m",
        "colab": {
          "base_uri": "https://localhost:8080/"
        },
        "outputId": "75131942-eb10-458d-c284-c275031340b6"
      },
      "execution_count": null,
      "outputs": [
        {
          "output_type": "execute_result",
          "data": {
            "text/plain": [
              "[['Michael', ' 29'], ['Andy', ' 30'], ['Justin', ' 19'], ['Filip', ' 99']]"
            ]
          },
          "metadata": {},
          "execution_count": 48
        }
      ]
    },
    {
      "cell_type": "code",
      "source": [
        "parts = parts.map(lambda x: [x[0], int(x[1].strip())])\n",
        "parts.take(10)"
      ],
      "metadata": {
        "id": "9XlescsRh4u5",
        "colab": {
          "base_uri": "https://localhost:8080/"
        },
        "outputId": "ca79a1da-20e6-454b-f294-a5fb931cb17e"
      },
      "execution_count": null,
      "outputs": [
        {
          "output_type": "execute_result",
          "data": {
            "text/plain": [
              "[['Michael', 29], ['Andy', 30], ['Justin', 19], ['Filip', 99]]"
            ]
          },
          "metadata": {},
          "execution_count": 49
        }
      ]
    },
    {
      "cell_type": "code",
      "source": [
        "from pyspark.sql import Row"
      ],
      "metadata": {
        "id": "Ewo9gMlvh-WQ"
      },
      "execution_count": null,
      "outputs": []
    },
    {
      "cell_type": "code",
      "source": [
        "people = parts.map(lambda x: Row(Name=x[0], Age=x[1]))\n",
        "people.take(10)"
      ],
      "metadata": {
        "id": "L5oeBvOZiCTa",
        "colab": {
          "base_uri": "https://localhost:8080/"
        },
        "outputId": "529c9033-1756-4185-dcba-7dde741ca566"
      },
      "execution_count": null,
      "outputs": [
        {
          "output_type": "execute_result",
          "data": {
            "text/plain": [
              "[Row(Name='Michael', Age=29),\n",
              " Row(Name='Andy', Age=30),\n",
              " Row(Name='Justin', Age=19),\n",
              " Row(Name='Filip', Age=99)]"
            ]
          },
          "metadata": {},
          "execution_count": 51
        }
      ]
    },
    {
      "cell_type": "code",
      "source": [
        "type(people)"
      ],
      "metadata": {
        "id": "8h7aDvI9iDW8",
        "colab": {
          "base_uri": "https://localhost:8080/",
          "height": 204
        },
        "outputId": "0a04fe32-8a5f-4b0b-b73a-05129762f1eb"
      },
      "execution_count": null,
      "outputs": [
        {
          "output_type": "execute_result",
          "data": {
            "text/plain": [
              "pyspark.rdd.PipelinedRDD"
            ],
            "text/html": [
              "<div style=\"max-width:800px; border: 1px solid var(--colab-border-color);\"><style>\n",
              "      pre.function-repr-contents {\n",
              "        overflow-x: auto;\n",
              "        padding: 8px 12px;\n",
              "        max-height: 500px;\n",
              "      }\n",
              "\n",
              "      pre.function-repr-contents.function-repr-contents-collapsed {\n",
              "        cursor: pointer;\n",
              "        max-height: 100px;\n",
              "      }\n",
              "    </style>\n",
              "    <pre style=\"white-space: initial; background:\n",
              "         var(--colab-secondary-surface-color); padding: 8px 12px;\n",
              "         border-bottom: 1px solid var(--colab-border-color);\"><b>pyspark.rdd.PipelinedRDD</b><br/>def __init__(prev: RDD[T], func: Callable[[int, Iterable[T]], Iterable[U]], preservesPartitioning: bool=False, isFromBarrier: bool=False)</pre><pre class=\"function-repr-contents function-repr-contents-collapsed\" style=\"\"><a class=\"filepath\" style=\"display:none\" href=\"#\">/usr/local/lib/python3.10/dist-packages/pyspark/rdd.py</a>Examples\n",
              "--------\n",
              "Pipelined maps:\n",
              "\n",
              "&gt;&gt;&gt; rdd = sc.parallelize([1, 2, 3, 4])\n",
              "&gt;&gt;&gt; rdd.map(lambda x: 2 * x).cache().map(lambda x: 2 * x).collect()\n",
              "[4, 8, 12, 16]\n",
              "&gt;&gt;&gt; rdd.map(lambda x: 2 * x).map(lambda x: 2 * x).collect()\n",
              "[4, 8, 12, 16]\n",
              "\n",
              "Pipelined reduces:\n",
              "\n",
              "&gt;&gt;&gt; from operator import add\n",
              "&gt;&gt;&gt; rdd.map(lambda x: 2 * x).reduce(add)\n",
              "20\n",
              "&gt;&gt;&gt; rdd.flatMap(lambda x: [x, x]).reduce(add)\n",
              "20</pre>\n",
              "      <script>\n",
              "      if (google.colab.kernel.accessAllowed && google.colab.files && google.colab.files.view) {\n",
              "        for (const element of document.querySelectorAll('.filepath')) {\n",
              "          element.style.display = 'block'\n",
              "          element.onclick = (event) => {\n",
              "            event.preventDefault();\n",
              "            event.stopPropagation();\n",
              "            google.colab.files.view(element.textContent, 5395);\n",
              "          };\n",
              "        }\n",
              "      }\n",
              "      for (const element of document.querySelectorAll('.function-repr-contents')) {\n",
              "        element.onclick = (event) => {\n",
              "          event.preventDefault();\n",
              "          event.stopPropagation();\n",
              "          element.classList.toggle('function-repr-contents-collapsed');\n",
              "        };\n",
              "      }\n",
              "      </script>\n",
              "      </div>"
            ]
          },
          "metadata": {},
          "execution_count": 52
        }
      ]
    },
    {
      "cell_type": "code",
      "source": [
        "DFpeople = spark.createDataFrame(people)"
      ],
      "metadata": {
        "id": "jYDKWltxiE_E"
      },
      "execution_count": null,
      "outputs": []
    },
    {
      "cell_type": "code",
      "source": [
        "type(DFpeople)"
      ],
      "metadata": {
        "id": "NrSYzFrhiGa6",
        "colab": {
          "base_uri": "https://localhost:8080/",
          "height": 187
        },
        "outputId": "f2c23acb-dfb3-415c-fd47-92c4c65c89d7"
      },
      "execution_count": null,
      "outputs": [
        {
          "output_type": "execute_result",
          "data": {
            "text/plain": [
              "pyspark.sql.dataframe.DataFrame"
            ],
            "text/html": [
              "<div style=\"max-width:800px; border: 1px solid var(--colab-border-color);\"><style>\n",
              "      pre.function-repr-contents {\n",
              "        overflow-x: auto;\n",
              "        padding: 8px 12px;\n",
              "        max-height: 500px;\n",
              "      }\n",
              "\n",
              "      pre.function-repr-contents.function-repr-contents-collapsed {\n",
              "        cursor: pointer;\n",
              "        max-height: 100px;\n",
              "      }\n",
              "    </style>\n",
              "    <pre style=\"white-space: initial; background:\n",
              "         var(--colab-secondary-surface-color); padding: 8px 12px;\n",
              "         border-bottom: 1px solid var(--colab-border-color);\"><b>pyspark.sql.dataframe.DataFrame</b><br/>def __init__(jdf: JavaObject, sql_ctx: Union[&#x27;SQLContext&#x27;, &#x27;SparkSession&#x27;])</pre><pre class=\"function-repr-contents function-repr-contents-collapsed\" style=\"\"><a class=\"filepath\" style=\"display:none\" href=\"#\">/usr/local/lib/python3.10/dist-packages/pyspark/sql/dataframe.py</a>A distributed collection of data grouped into named columns.\n",
              "\n",
              ".. versionadded:: 1.3.0\n",
              "\n",
              ".. versionchanged:: 3.4.0\n",
              "    Supports Spark Connect.\n",
              "\n",
              "Examples\n",
              "--------\n",
              "A :class:`DataFrame` is equivalent to a relational table in Spark SQL,\n",
              "and can be created using various functions in :class:`SparkSession`:\n",
              "\n",
              "&gt;&gt;&gt; people = spark.createDataFrame([\n",
              "...     {&quot;deptId&quot;: 1, &quot;age&quot;: 40, &quot;name&quot;: &quot;Hyukjin Kwon&quot;, &quot;gender&quot;: &quot;M&quot;, &quot;salary&quot;: 50},\n",
              "...     {&quot;deptId&quot;: 1, &quot;age&quot;: 50, &quot;name&quot;: &quot;Takuya Ueshin&quot;, &quot;gender&quot;: &quot;M&quot;, &quot;salary&quot;: 100},\n",
              "...     {&quot;deptId&quot;: 2, &quot;age&quot;: 60, &quot;name&quot;: &quot;Xinrong Meng&quot;, &quot;gender&quot;: &quot;F&quot;, &quot;salary&quot;: 150},\n",
              "...     {&quot;deptId&quot;: 3, &quot;age&quot;: 20, &quot;name&quot;: &quot;Haejoon Lee&quot;, &quot;gender&quot;: &quot;M&quot;, &quot;salary&quot;: 200}\n",
              "... ])\n",
              "\n",
              "Once created, it can be manipulated using the various domain-specific-language\n",
              "(DSL) functions defined in: :class:`DataFrame`, :class:`Column`.\n",
              "\n",
              "To select a column from the :class:`DataFrame`, use the apply method:\n",
              "\n",
              "&gt;&gt;&gt; age_col = people.age\n",
              "\n",
              "A more concrete example:\n",
              "\n",
              "&gt;&gt;&gt; # To create DataFrame using SparkSession\n",
              "... department = spark.createDataFrame([\n",
              "...     {&quot;id&quot;: 1, &quot;name&quot;: &quot;PySpark&quot;},\n",
              "...     {&quot;id&quot;: 2, &quot;name&quot;: &quot;ML&quot;},\n",
              "...     {&quot;id&quot;: 3, &quot;name&quot;: &quot;Spark SQL&quot;}\n",
              "... ])\n",
              "\n",
              "&gt;&gt;&gt; people.filter(people.age &gt; 30).join(\n",
              "...     department, people.deptId == department.id).groupBy(\n",
              "...     department.name, &quot;gender&quot;).agg({&quot;salary&quot;: &quot;avg&quot;, &quot;age&quot;: &quot;max&quot;}).show()\n",
              "+-------+------+-----------+--------+\n",
              "|   name|gender|avg(salary)|max(age)|\n",
              "+-------+------+-----------+--------+\n",
              "|     ML|     F|      150.0|      60|\n",
              "|PySpark|     M|       75.0|      50|\n",
              "+-------+------+-----------+--------+\n",
              "\n",
              "Notes\n",
              "-----\n",
              "A DataFrame should only be created as described above. It should not be directly\n",
              "created via using the constructor.</pre>\n",
              "      <script>\n",
              "      if (google.colab.kernel.accessAllowed && google.colab.files && google.colab.files.view) {\n",
              "        for (const element of document.querySelectorAll('.filepath')) {\n",
              "          element.style.display = 'block'\n",
              "          element.onclick = (event) => {\n",
              "            event.preventDefault();\n",
              "            event.stopPropagation();\n",
              "            google.colab.files.view(element.textContent, 80);\n",
              "          };\n",
              "        }\n",
              "      }\n",
              "      for (const element of document.querySelectorAll('.function-repr-contents')) {\n",
              "        element.onclick = (event) => {\n",
              "          event.preventDefault();\n",
              "          event.stopPropagation();\n",
              "          element.classList.toggle('function-repr-contents-collapsed');\n",
              "        };\n",
              "      }\n",
              "      </script>\n",
              "      </div>"
            ]
          },
          "metadata": {},
          "execution_count": 54
        }
      ]
    },
    {
      "cell_type": "markdown",
      "source": [
        "###modyfikacja schema - sposob 1"
      ],
      "metadata": {
        "id": "7IwJFOW07mdS"
      }
    },
    {
      "cell_type": "code",
      "source": [
        "DFpeople.show()"
      ],
      "metadata": {
        "id": "PUpQNIPfiHvT",
        "colab": {
          "base_uri": "https://localhost:8080/"
        },
        "outputId": "b8c1452c-ca40-439a-9dc3-7b104450982a"
      },
      "execution_count": null,
      "outputs": [
        {
          "output_type": "stream",
          "name": "stdout",
          "text": [
            "+-------+---+\n",
            "|   Name|Age|\n",
            "+-------+---+\n",
            "|Michael| 29|\n",
            "|   Andy| 30|\n",
            "| Justin| 19|\n",
            "|  Filip| 99|\n",
            "+-------+---+\n",
            "\n"
          ]
        }
      ]
    },
    {
      "cell_type": "code",
      "source": [
        "DFpeople.printSchema()"
      ],
      "metadata": {
        "id": "tuOE1XTuiJBX",
        "colab": {
          "base_uri": "https://localhost:8080/"
        },
        "outputId": "16fd0eaf-39b1-4b20-f406-c1982740a253"
      },
      "execution_count": null,
      "outputs": [
        {
          "output_type": "stream",
          "name": "stdout",
          "text": [
            "root\n",
            " |-- Name: string (nullable = true)\n",
            " |-- Age: long (nullable = true)\n",
            "\n"
          ]
        }
      ]
    },
    {
      "cell_type": "code",
      "source": [
        "from pyspark.sql.types import *"
      ],
      "metadata": {
        "id": "F_c72a1SidEE"
      },
      "execution_count": null,
      "outputs": []
    },
    {
      "cell_type": "code",
      "source": [
        "fields = [StructField('Names', StringType()),\n",
        "          StructField('Age', IntegerType())]"
      ],
      "metadata": {
        "id": "98BCSSBHie1R"
      },
      "execution_count": null,
      "outputs": []
    },
    {
      "cell_type": "code",
      "source": [
        "schema = StructType(fields)"
      ],
      "metadata": {
        "id": "hmHItXVLigUt"
      },
      "execution_count": null,
      "outputs": []
    },
    {
      "cell_type": "code",
      "source": [
        "schema"
      ],
      "metadata": {
        "id": "USIPdS2vih3q",
        "colab": {
          "base_uri": "https://localhost:8080/"
        },
        "outputId": "32ba3b68-70c8-48e1-c547-e1dc7f28f063"
      },
      "execution_count": null,
      "outputs": [
        {
          "output_type": "execute_result",
          "data": {
            "text/plain": [
              "StructType([StructField('Names', StringType(), True), StructField('Age', IntegerType(), True)])"
            ]
          },
          "metadata": {},
          "execution_count": 60
        }
      ]
    },
    {
      "cell_type": "code",
      "source": [
        "DFpeople = spark.createDataFrame(people, schema)"
      ],
      "metadata": {
        "id": "FJ7c9bcUijbg"
      },
      "execution_count": null,
      "outputs": []
    },
    {
      "cell_type": "code",
      "source": [
        "DFpeople.printSchema()"
      ],
      "metadata": {
        "id": "55oOYF4hilWm",
        "colab": {
          "base_uri": "https://localhost:8080/"
        },
        "outputId": "fd631d0c-214e-45d1-822d-a24161bf9aee"
      },
      "execution_count": null,
      "outputs": [
        {
          "output_type": "stream",
          "name": "stdout",
          "text": [
            "root\n",
            " |-- Names: string (nullable = true)\n",
            " |-- Age: integer (nullable = true)\n",
            "\n"
          ]
        }
      ]
    },
    {
      "cell_type": "code",
      "source": [
        "DFpeople.show()"
      ],
      "metadata": {
        "id": "yrqXUT8iimuC",
        "colab": {
          "base_uri": "https://localhost:8080/"
        },
        "outputId": "3fef0e38-7c5e-4e6e-92f2-1c2b4a0fc247"
      },
      "execution_count": null,
      "outputs": [
        {
          "output_type": "stream",
          "name": "stdout",
          "text": [
            "+-------+---+\n",
            "|  Names|Age|\n",
            "+-------+---+\n",
            "|Michael| 29|\n",
            "|   Andy| 30|\n",
            "| Justin| 19|\n",
            "|  Filip| 99|\n",
            "+-------+---+\n",
            "\n"
          ]
        }
      ]
    },
    {
      "cell_type": "code",
      "source": [
        "DFpeople.createOrReplaceTempView('people')"
      ],
      "metadata": {
        "id": "-b9kP1E1in2s"
      },
      "execution_count": null,
      "outputs": []
    },
    {
      "cell_type": "code",
      "source": [
        "x = spark.sql(\"SELECT * FROM people WHERE AGE >=20 AND AGE <=40\")"
      ],
      "metadata": {
        "id": "L-5q9w7yipVo"
      },
      "execution_count": null,
      "outputs": []
    },
    {
      "cell_type": "code",
      "source": [
        "x.show()"
      ],
      "metadata": {
        "id": "mmgU9SvFirMf",
        "colab": {
          "base_uri": "https://localhost:8080/"
        },
        "outputId": "989b60ed-f721-490e-cec0-afbf50f74502"
      },
      "execution_count": null,
      "outputs": [
        {
          "output_type": "stream",
          "name": "stdout",
          "text": [
            "+-------+---+\n",
            "|  Names|Age|\n",
            "+-------+---+\n",
            "|Michael| 29|\n",
            "|   Andy| 30|\n",
            "+-------+---+\n",
            "\n"
          ]
        }
      ]
    },
    {
      "cell_type": "code",
      "source": [
        "DFpeople.printSchema()"
      ],
      "metadata": {
        "id": "Dv0FOj-gisaU",
        "colab": {
          "base_uri": "https://localhost:8080/"
        },
        "outputId": "8bf7da7c-83a7-4f24-ed23-5b342066cc46"
      },
      "execution_count": null,
      "outputs": [
        {
          "output_type": "stream",
          "name": "stdout",
          "text": [
            "root\n",
            " |-- Names: string (nullable = true)\n",
            " |-- Age: integer (nullable = true)\n",
            "\n"
          ]
        }
      ]
    },
    {
      "cell_type": "markdown",
      "source": [
        "###modyfikacja schema - sposob 2"
      ],
      "metadata": {
        "id": "h9M0o0pd7ydr"
      }
    },
    {
      "cell_type": "code",
      "source": [
        "import pyspark.sql.functions as f"
      ],
      "metadata": {
        "id": "sGB8ZVjhivQt"
      },
      "execution_count": null,
      "outputs": []
    },
    {
      "cell_type": "code",
      "source": [
        "df = (DFpeople\n",
        "      .withColumn('Age', f.col('Age').cast(StringType())))"
      ],
      "metadata": {
        "id": "kdUPTrcgixko"
      },
      "execution_count": null,
      "outputs": []
    },
    {
      "cell_type": "code",
      "source": [
        "df.printSchema()"
      ],
      "metadata": {
        "id": "IEJZ7GZjiynd",
        "colab": {
          "base_uri": "https://localhost:8080/"
        },
        "outputId": "b35d68fb-cc4c-4cdb-ae7a-43b1c9e9b73e"
      },
      "execution_count": null,
      "outputs": [
        {
          "output_type": "stream",
          "name": "stdout",
          "text": [
            "root\n",
            " |-- Names: string (nullable = true)\n",
            " |-- Age: string (nullable = true)\n",
            "\n"
          ]
        }
      ]
    },
    {
      "cell_type": "markdown",
      "source": [
        "###ładowanie df od razu ze zdefiniowana schema"
      ],
      "metadata": {
        "id": "YwxvNHhK72P3"
      }
    },
    {
      "cell_type": "code",
      "source": [
        "schema_for_people = StructType([StructField('Names', StringType()),\n",
        "                                StructField('Age', IntegerType())])"
      ],
      "metadata": {
        "id": "jg4XdOXR7Kmi"
      },
      "execution_count": null,
      "outputs": []
    },
    {
      "cell_type": "code",
      "source": [
        "df_with_schema = spark.read.csv(path='people_noheader.txt', schema=schema_for_people)"
      ],
      "metadata": {
        "id": "1CSLQIPiiztU"
      },
      "execution_count": null,
      "outputs": []
    },
    {
      "cell_type": "code",
      "source": [
        "df_with_schema.printSchema()"
      ],
      "metadata": {
        "id": "Zbyrn2OV79pw",
        "colab": {
          "base_uri": "https://localhost:8080/"
        },
        "outputId": "6e08579c-286b-4805-fb0a-b5d0c32b81e2"
      },
      "execution_count": null,
      "outputs": [
        {
          "output_type": "stream",
          "name": "stdout",
          "text": [
            "root\n",
            " |-- Names: string (nullable = true)\n",
            " |-- Age: integer (nullable = true)\n",
            "\n"
          ]
        }
      ]
    },
    {
      "cell_type": "markdown",
      "source": [
        "### DF $\\mapsto$ RDD"
      ],
      "metadata": {
        "id": "uPcQQSLgDGn_"
      }
    },
    {
      "cell_type": "code",
      "source": [
        "df_with_schema.rdd.take(10)"
      ],
      "metadata": {
        "id": "XNS_ogX9DJME",
        "colab": {
          "base_uri": "https://localhost:8080/"
        },
        "outputId": "e8ad3b99-8fba-46ba-87d6-d4aab06093bd"
      },
      "execution_count": null,
      "outputs": [
        {
          "output_type": "execute_result",
          "data": {
            "text/plain": [
              "[Row(Names='Michael', Age=None),\n",
              " Row(Names='Andy', Age=None),\n",
              " Row(Names='Justin', Age=None),\n",
              " Row(Names='Filip', Age=None)]"
            ]
          },
          "metadata": {},
          "execution_count": 74
        }
      ]
    },
    {
      "cell_type": "code",
      "source": [
        "names = df_with_schema.rdd.map(lambda x: x.Names).collect()"
      ],
      "metadata": {
        "id": "NBNyPvuzDKiW"
      },
      "execution_count": null,
      "outputs": []
    },
    {
      "cell_type": "code",
      "source": [
        "names"
      ],
      "metadata": {
        "id": "9SxpXhfyDMGe",
        "colab": {
          "base_uri": "https://localhost:8080/"
        },
        "outputId": "302d828d-17af-4e14-ea50-d38c3ea54fc6"
      },
      "execution_count": null,
      "outputs": [
        {
          "output_type": "execute_result",
          "data": {
            "text/plain": [
              "['Michael', 'Andy', 'Justin', 'Filip']"
            ]
          },
          "metadata": {},
          "execution_count": 76
        }
      ]
    },
    {
      "cell_type": "code",
      "source": [
        "names = df_with_schema.rdd.map(lambda x: x[0]).collect()"
      ],
      "metadata": {
        "id": "bZewicMhDOEW"
      },
      "execution_count": null,
      "outputs": []
    },
    {
      "cell_type": "code",
      "source": [
        "names"
      ],
      "metadata": {
        "id": "OeHNtN6ADPhZ",
        "colab": {
          "base_uri": "https://localhost:8080/"
        },
        "outputId": "ac365ec1-7493-48bd-b2ab-5a705d34a5d5"
      },
      "execution_count": null,
      "outputs": [
        {
          "output_type": "execute_result",
          "data": {
            "text/plain": [
              "['Michael', 'Andy', 'Justin', 'Filip']"
            ]
          },
          "metadata": {},
          "execution_count": 78
        }
      ]
    },
    {
      "cell_type": "code",
      "source": [
        "rdd_with_tuple = df_with_schema.rdd.map(lambda x: (x[0], x[1]))"
      ],
      "metadata": {
        "id": "W0Lq08sRD4D9"
      },
      "execution_count": null,
      "outputs": []
    },
    {
      "cell_type": "code",
      "source": [
        "rdd_with_tuple.take(5)"
      ],
      "metadata": {
        "id": "MtD8PK-1EDhu",
        "colab": {
          "base_uri": "https://localhost:8080/"
        },
        "outputId": "218f2ea0-2eba-4386-a7a6-a1e360dbe38b"
      },
      "execution_count": null,
      "outputs": [
        {
          "output_type": "execute_result",
          "data": {
            "text/plain": [
              "[('Michael', None), ('Andy', None), ('Justin', None), ('Filip', None)]"
            ]
          },
          "metadata": {},
          "execution_count": 80
        }
      ]
    },
    {
      "cell_type": "code",
      "source": [
        "type(rdd_with_tuple)"
      ],
      "metadata": {
        "id": "DHeTG7zgEFkE",
        "colab": {
          "base_uri": "https://localhost:8080/",
          "height": 204
        },
        "outputId": "cecf7750-42e6-4c8f-ffee-f4abdc127f3f"
      },
      "execution_count": null,
      "outputs": [
        {
          "output_type": "execute_result",
          "data": {
            "text/plain": [
              "pyspark.rdd.PipelinedRDD"
            ],
            "text/html": [
              "<div style=\"max-width:800px; border: 1px solid var(--colab-border-color);\"><style>\n",
              "      pre.function-repr-contents {\n",
              "        overflow-x: auto;\n",
              "        padding: 8px 12px;\n",
              "        max-height: 500px;\n",
              "      }\n",
              "\n",
              "      pre.function-repr-contents.function-repr-contents-collapsed {\n",
              "        cursor: pointer;\n",
              "        max-height: 100px;\n",
              "      }\n",
              "    </style>\n",
              "    <pre style=\"white-space: initial; background:\n",
              "         var(--colab-secondary-surface-color); padding: 8px 12px;\n",
              "         border-bottom: 1px solid var(--colab-border-color);\"><b>pyspark.rdd.PipelinedRDD</b><br/>def __init__(prev: RDD[T], func: Callable[[int, Iterable[T]], Iterable[U]], preservesPartitioning: bool=False, isFromBarrier: bool=False)</pre><pre class=\"function-repr-contents function-repr-contents-collapsed\" style=\"\"><a class=\"filepath\" style=\"display:none\" href=\"#\">/usr/local/lib/python3.10/dist-packages/pyspark/rdd.py</a>Examples\n",
              "--------\n",
              "Pipelined maps:\n",
              "\n",
              "&gt;&gt;&gt; rdd = sc.parallelize([1, 2, 3, 4])\n",
              "&gt;&gt;&gt; rdd.map(lambda x: 2 * x).cache().map(lambda x: 2 * x).collect()\n",
              "[4, 8, 12, 16]\n",
              "&gt;&gt;&gt; rdd.map(lambda x: 2 * x).map(lambda x: 2 * x).collect()\n",
              "[4, 8, 12, 16]\n",
              "\n",
              "Pipelined reduces:\n",
              "\n",
              "&gt;&gt;&gt; from operator import add\n",
              "&gt;&gt;&gt; rdd.map(lambda x: 2 * x).reduce(add)\n",
              "20\n",
              "&gt;&gt;&gt; rdd.flatMap(lambda x: [x, x]).reduce(add)\n",
              "20</pre>\n",
              "      <script>\n",
              "      if (google.colab.kernel.accessAllowed && google.colab.files && google.colab.files.view) {\n",
              "        for (const element of document.querySelectorAll('.filepath')) {\n",
              "          element.style.display = 'block'\n",
              "          element.onclick = (event) => {\n",
              "            event.preventDefault();\n",
              "            event.stopPropagation();\n",
              "            google.colab.files.view(element.textContent, 5395);\n",
              "          };\n",
              "        }\n",
              "      }\n",
              "      for (const element of document.querySelectorAll('.function-repr-contents')) {\n",
              "        element.onclick = (event) => {\n",
              "          event.preventDefault();\n",
              "          event.stopPropagation();\n",
              "          element.classList.toggle('function-repr-contents-collapsed');\n",
              "        };\n",
              "      }\n",
              "      </script>\n",
              "      </div>"
            ]
          },
          "metadata": {},
          "execution_count": 81
        }
      ]
    },
    {
      "cell_type": "markdown",
      "source": [
        "##Zadanie 4\n",
        "1. Załaduj plik pracownicy.csv z poprawnie zdefiniowaną strukturą i typami danych (schema)\n",
        "2. Dla każdego roku urodzenia występującego w danych wylicz średnią stawkę godzinową\n",
        "3. posortuj od najmłodszych lat do najstarszych\n",
        "4. Wynik zapisz do excela"
      ],
      "metadata": {
        "id": "p_jGnIjP-RUr"
      }
    },
    {
      "cell_type": "code",
      "source": [
        "#kod\n",
        "pracownicy = spark.read.option('sep', \";\").csv('pracownicy.csv', header=True)"
      ],
      "metadata": {
        "id": "5rfCBW7LCy_-"
      },
      "execution_count": null,
      "outputs": []
    },
    {
      "cell_type": "code",
      "source": [
        "pracownicy.show(10)"
      ],
      "metadata": {
        "colab": {
          "base_uri": "https://localhost:8080/"
        },
        "id": "H4e86B4qtNY0",
        "outputId": "fc8d8655-8945-467e-f275-cb833d14ad27"
      },
      "execution_count": null,
      "outputs": [
        {
          "output_type": "stream",
          "name": "stdout",
          "text": [
            "+-------+---------+---------------------------+-------------+\n",
            "|   Imie|Nazwisko |stawka godzinowa w dolarach|rok urodzenia|\n",
            "+-------+---------+---------------------------+-------------+\n",
            "| Maciej| Kowalski|                         78|         1944|\n",
            "|Michael| Kowalski|                         57|         1965|\n",
            "|    Ewa| Kowalska|                         23|         1999|\n",
            "|   John|    Nowak|                         12|         2020|\n",
            "|  Steve| Stevniak|                         67|         1955|\n",
            "|   Bill|    Gates|                         67|         1955|\n",
            "|   Jan | Kowalski|                         23|         1999|\n",
            "|   John|    Nowak|                         12|         2020|\n",
            "|  Steve| Stevniak|                         67|         1955|\n",
            "|   Bill|    Gates|                         67|         1955|\n",
            "+-------+---------+---------------------------+-------------+\n",
            "only showing top 10 rows\n",
            "\n"
          ]
        }
      ]
    },
    {
      "cell_type": "code",
      "source": [
        "kolumny = [StructField('Imie', StringType()),\n",
        "          StructField('Nazwisko', StringType()),\n",
        "          StructField('stawka godzinowa w dolarach', IntegerType()),\n",
        "          StructField('rok urodzenia', IntegerType())]"
      ],
      "metadata": {
        "id": "nESkEDAXtk5w"
      },
      "execution_count": null,
      "outputs": []
    },
    {
      "cell_type": "code",
      "source": [
        "schema = StructType(kolumny)"
      ],
      "metadata": {
        "id": "W34STfiFvHUi"
      },
      "execution_count": null,
      "outputs": []
    },
    {
      "cell_type": "code",
      "source": [
        "schema"
      ],
      "metadata": {
        "colab": {
          "base_uri": "https://localhost:8080/"
        },
        "id": "-A9D9v6FvNR6",
        "outputId": "11715d79-d066-4d8c-8f30-1aa995b89f9c"
      },
      "execution_count": null,
      "outputs": [
        {
          "output_type": "execute_result",
          "data": {
            "text/plain": [
              "StructType([StructField('Imie', StringType(), True), StructField('Nazwisko', StringType(), True), StructField('stawka godzinowa w dolarach', IntegerType(), True), StructField('rok urodzenia', IntegerType(), True)])"
            ]
          },
          "metadata": {},
          "execution_count": 100
        }
      ]
    },
    {
      "cell_type": "code",
      "source": [
        "from pyspark.sql.functions import avg"
      ],
      "metadata": {
        "id": "QcM2D6_Awb30"
      },
      "execution_count": null,
      "outputs": []
    },
    {
      "cell_type": "code",
      "source": [
        "stawka = (pracownicy\n",
        "          .groupBy(\"rok urodzenia\")\n",
        "          .agg(avg(\"stawka godzinowa w dolarach\").alias(\"średnia stawka godzinowa\"))\n",
        "          .orderBy(\"rok urodzenia\",ascending=False))"
      ],
      "metadata": {
        "id": "6cPuSHravTtz"
      },
      "execution_count": null,
      "outputs": []
    },
    {
      "cell_type": "code",
      "source": [
        "stawka.show(10)"
      ],
      "metadata": {
        "colab": {
          "base_uri": "https://localhost:8080/"
        },
        "id": "o87jqoKZwd5Q",
        "outputId": "d90231f4-876d-4167-b45b-96b8c572b442"
      },
      "execution_count": null,
      "outputs": [
        {
          "output_type": "stream",
          "name": "stdout",
          "text": [
            "+-------------+------------------------+\n",
            "|rok urodzenia|średnia stawka godzinowa|\n",
            "+-------------+------------------------+\n",
            "|         2020|                    12.6|\n",
            "|         1999|                    23.0|\n",
            "|         1965|                    57.0|\n",
            "|         1955|                    67.0|\n",
            "|         1944|                    78.0|\n",
            "+-------------+------------------------+\n",
            "\n"
          ]
        }
      ]
    },
    {
      "cell_type": "code",
      "source": [
        "wynik = stawka.toPandas().to_excel(\"wynik.xlsx\")\n"
      ],
      "metadata": {
        "id": "eIPswnOewi06"
      },
      "execution_count": null,
      "outputs": []
    },
    {
      "cell_type": "markdown",
      "source": [
        "#Zajęcia 25.04.2022"
      ],
      "metadata": {
        "id": "zL1n3RJYsqEK"
      }
    },
    {
      "cell_type": "markdown",
      "source": [
        "##UDF"
      ],
      "metadata": {
        "id": "D3Qn9Z-TyVLp"
      }
    },
    {
      "cell_type": "code",
      "source": [
        "df = spark.createDataFrame([(\"2022-04-25\", \"John Doe\", 21)], (\"date\", \"name\", \"age\"))\n",
        "df.show()"
      ],
      "metadata": {
        "id": "bxOCvsT2yVpp",
        "colab": {
          "base_uri": "https://localhost:8080/"
        },
        "outputId": "6577c648-9792-492c-f553-76ae08741e52"
      },
      "execution_count": 5,
      "outputs": [
        {
          "output_type": "stream",
          "name": "stdout",
          "text": [
            "+----------+--------+---+\n",
            "|      date|    name|age|\n",
            "+----------+--------+---+\n",
            "|2022-04-25|John Doe| 21|\n",
            "+----------+--------+---+\n",
            "\n"
          ]
        }
      ]
    },
    {
      "cell_type": "code",
      "source": [
        "#Jak wyciąć rok z daty?"
      ],
      "metadata": {
        "id": "xGXHoVYxyV1m"
      },
      "execution_count": null,
      "outputs": []
    },
    {
      "cell_type": "code",
      "source": [
        "from pyspark.sql.functions import udf\n",
        "import pyspark.sql.functions as f\n",
        "from pyspark.sql.types import *"
      ],
      "metadata": {
        "id": "yWeYDBGAyWBH"
      },
      "execution_count": 6,
      "outputs": []
    },
    {
      "cell_type": "code",
      "source": [
        "def f_do_wycinania_roku(x):\n",
        "  return x[:4]"
      ],
      "metadata": {
        "id": "lZIn4lLczR_8"
      },
      "execution_count": 7,
      "outputs": []
    },
    {
      "cell_type": "code",
      "source": [
        "udf_do_wycinania_roku = udf(f_do_wycinania_roku, StringType())"
      ],
      "metadata": {
        "id": "ufZekc2azSII"
      },
      "execution_count": 13,
      "outputs": []
    },
    {
      "cell_type": "code",
      "source": [
        "(df\n",
        " .withColumn('date', udf_do_wycinania_roku(f.col('date')))\n",
        " ).show()"
      ],
      "metadata": {
        "id": "3d4PJczOzWBl",
        "colab": {
          "base_uri": "https://localhost:8080/"
        },
        "outputId": "c6cd374a-9bfa-4f91-c41c-c96a186538b1"
      },
      "execution_count": 14,
      "outputs": [
        {
          "output_type": "stream",
          "name": "stdout",
          "text": [
            "+----+--------+---+\n",
            "|date|    name|age|\n",
            "+----+--------+---+\n",
            "|2022|John Doe| 21|\n",
            "+----+--------+---+\n",
            "\n"
          ]
        }
      ]
    },
    {
      "cell_type": "code",
      "source": [
        "#Jeżeli chcemy UDF wykorzystywać później w SQL to trzeba go zarejestrować (3.3 Registering PySpark UDF & use it on SQL -> https://sparkbyexamples.com/pyspark/pyspark-udf-user-defined-function/)"
      ],
      "metadata": {
        "id": "rSIlfm0i0EP4"
      },
      "execution_count": null,
      "outputs": []
    },
    {
      "cell_type": "code",
      "source": [
        "#\"\"\" Using UDF on SQL \"\"\"\n",
        "spark.udf.register(\"udf_do_wycinania_roku\", udf_do_wycinania_roku)\n",
        "df.createOrReplaceTempView(\"df\")\n",
        "spark.sql(\"select udf_do_wycinania_roku(date), name, age from df\").show()"
      ],
      "metadata": {
        "id": "ElWU5WjI0PrP",
        "colab": {
          "base_uri": "https://localhost:8080/"
        },
        "outputId": "b717fc22-85b5-44ba-b965-f7b972e20e89"
      },
      "execution_count": 15,
      "outputs": [
        {
          "output_type": "stream",
          "name": "stdout",
          "text": [
            "+---------------------------+--------+---+\n",
            "|udf_do_wycinania_roku(date)|    name|age|\n",
            "+---------------------------+--------+---+\n",
            "|                       2022|John Doe| 21|\n",
            "+---------------------------+--------+---+\n",
            "\n"
          ]
        }
      ]
    },
    {
      "cell_type": "markdown",
      "source": [
        "###Pagecounts dataset"
      ],
      "metadata": {
        "id": "sldAIB0XzhFh"
      }
    },
    {
      "cell_type": "code",
      "source": [
        "from pyspark.sql.types import *\n",
        "import pyspark.sql.functions as f"
      ],
      "metadata": {
        "id": "REQB_3agsyr_"
      },
      "execution_count": 16,
      "outputs": []
    },
    {
      "cell_type": "code",
      "source": [
        "!unzip pagecounts.zip"
      ],
      "metadata": {
        "id": "xZSgNowrs16y",
        "colab": {
          "base_uri": "https://localhost:8080/"
        },
        "outputId": "6246d124-ee96-482c-9eb0-3c4b14ec08e7"
      },
      "execution_count": 17,
      "outputs": [
        {
          "output_type": "stream",
          "name": "stdout",
          "text": [
            "Archive:  pagecounts.zip\n",
            "   creating: pagecounts/\n",
            "  inflating: pagecounts/part-00001   \n",
            "  inflating: pagecounts/part-00053   \n"
          ]
        }
      ]
    },
    {
      "cell_type": "code",
      "source": [
        "!head pagecounts/part-00001"
      ],
      "metadata": {
        "id": "EFTlSE1Ss8KN",
        "colab": {
          "base_uri": "https://localhost:8080/"
        },
        "outputId": "7aef7158-7f7c-4dd7-95c6-be1a2c0a9539"
      },
      "execution_count": 19,
      "outputs": [
        {
          "output_type": "stream",
          "name": "stdout",
          "text": [
            "20090505-000000 aa Main_Page 2 9980\n",
            "20090505-000000 ab %D0%90%D0%B8%D0%BD%D1%82%D0%B5%D1%80%D0%BD%D0%B5%D1%82 1 465\n",
            "20090505-000000 ab %D0%98%D1%85%D0%B0%D0%B4%D0%BE%D1%83_%D0%B0%D0%B4%D0%B0%D2%9F%D1%8C%D0%B0 1 16086\n",
            "20090505-000000 af.b Tuisblad 1 36236\n",
            "20090505-000000 af.d Tuisblad 4 189738\n",
            "20090505-000000 af.q Tuisblad 2 56143\n",
            "20090505-000000 af Afrika 1 46833\n",
            "20090505-000000 af Afrikaans 2 53577\n",
            "20090505-000000 af Australi%C3%AB 1 132432\n",
            "20090505-000000 af Barack_Obama 1 23368\n"
          ]
        }
      ]
    },
    {
      "cell_type": "code",
      "source": [
        "!head pagecounts/part-00053"
      ],
      "metadata": {
        "id": "JmIjoTThs-wa",
        "colab": {
          "base_uri": "https://localhost:8080/"
        },
        "outputId": "f523442c-0d1d-4ed5-d22e-baa349cc26d8"
      },
      "execution_count": 20,
      "outputs": [
        {
          "output_type": "stream",
          "name": "stdout",
          "text": [
            "20090507-040000 aa Main_Page 7 51309\n",
            "20090507-040000 ab %D0%90%D0%B8%D0%BD%D1%82%D0%B5%D1%80%D0%BD%D0%B5%D1%82 1 34069\n",
            "20090507-040000 ab %D0%98%D1%85%D0%B0%D0%B4%D0%BE%D1%83_%D0%B0%D0%B4%D0%B0%D2%9F%D1%8C%D0%B0 3 65763\n",
            "20090507-040000 af.b Tuisblad 1 36231\n",
            "20090507-040000 af.d Tuisblad 1 58960\n",
            "20090507-040000 af.q Tuisblad 1 44265\n",
            "20090507-040000 af Afrikaans 3 80838\n",
            "20090507-040000 af Australi%C3%AB 1 132433\n",
            "20090507-040000 af Ensiklopedie 2 60584\n",
            "20090507-040000 af Internet 1 48816\n"
          ]
        }
      ]
    },
    {
      "cell_type": "code",
      "source": [
        "pagecounts = sc.textFile('pagecounts')"
      ],
      "metadata": {
        "id": "Q4EFA54xs_TW"
      },
      "execution_count": 21,
      "outputs": []
    },
    {
      "cell_type": "code",
      "source": [
        "pagecounts.count()"
      ],
      "metadata": {
        "id": "pYpR_1gQtAjr",
        "colab": {
          "base_uri": "https://localhost:8080/"
        },
        "outputId": "a0773b61-c4ea-4221-a547-34c96fca2f9e"
      },
      "execution_count": 22,
      "outputs": [
        {
          "output_type": "execute_result",
          "data": {
            "text/plain": [
              "1398882"
            ]
          },
          "metadata": {},
          "execution_count": 22
        }
      ]
    },
    {
      "cell_type": "code",
      "source": [
        "pagecounts.take(10)"
      ],
      "metadata": {
        "id": "zyVaJmGntCxY",
        "colab": {
          "base_uri": "https://localhost:8080/"
        },
        "outputId": "15d3d157-55c6-4f98-80e4-9f8e883dc32e"
      },
      "execution_count": 23,
      "outputs": [
        {
          "output_type": "execute_result",
          "data": {
            "text/plain": [
              "['20090507-040000 aa Main_Page 7 51309',\n",
              " '20090507-040000 ab %D0%90%D0%B8%D0%BD%D1%82%D0%B5%D1%80%D0%BD%D0%B5%D1%82 1 34069',\n",
              " '20090507-040000 ab %D0%98%D1%85%D0%B0%D0%B4%D0%BE%D1%83_%D0%B0%D0%B4%D0%B0%D2%9F%D1%8C%D0%B0 3 65763',\n",
              " '20090507-040000 af.b Tuisblad 1 36231',\n",
              " '20090507-040000 af.d Tuisblad 1 58960',\n",
              " '20090507-040000 af.q Tuisblad 1 44265',\n",
              " '20090507-040000 af Afrikaans 3 80838',\n",
              " '20090507-040000 af Australi%C3%AB 1 132433',\n",
              " '20090507-040000 af Ensiklopedie 2 60584',\n",
              " '20090507-040000 af Internet 1 48816']"
            ]
          },
          "metadata": {},
          "execution_count": 23
        }
      ]
    },
    {
      "cell_type": "markdown",
      "source": [
        "##Zadanie 5\n",
        "Jakiego dnia ile było wejść a angielską wikipedię? Rozwiąż na dwa sposoby (wykorzystując czyste RDD oraz Dataframes)"
      ],
      "metadata": {
        "id": "Zz5o4gPotFOr"
      }
    },
    {
      "cell_type": "code",
      "source": [
        "#kod 1 (RDD)\n",
        "(pagecounts\n",
        "    .map(lambda x: x.split(' '))\n",
        "    .filter(lambda x: x[1] == 'en')\n",
        "    .map(lambda x: [x[0][:8], int(x[3])])\n",
        "    .reduceByKey(lambda x,y: x+y)\n",
        "    ).take(10)\n",
        ""
      ],
      "metadata": {
        "id": "55FegrLgtHFA",
        "colab": {
          "base_uri": "https://localhost:8080/"
        },
        "outputId": "2311d4fd-1a5a-4d58-9c4e-320962c97ec0"
      },
      "execution_count": 43,
      "outputs": [
        {
          "output_type": "execute_result",
          "data": {
            "text/plain": [
              "[('20090507', 6175726), ('20090505', 7076855)]"
            ]
          },
          "metadata": {},
          "execution_count": 43
        }
      ]
    },
    {
      "cell_type": "code",
      "source": [
        "#kod 2 (Dataframes)\n",
        "dataframes = spark.read.csv('pagecounts', sep=' ')"
      ],
      "metadata": {
        "id": "Yh_E4hRsuEHg"
      },
      "execution_count": 51,
      "outputs": []
    },
    {
      "cell_type": "code",
      "source": [
        "dataframes.show(10)"
      ],
      "metadata": {
        "colab": {
          "base_uri": "https://localhost:8080/"
        },
        "id": "zMAcgQsftk74",
        "outputId": "d110799b-ca07-459a-8cd4-811b42f60808"
      },
      "execution_count": 69,
      "outputs": [
        {
          "output_type": "stream",
          "name": "stdout",
          "text": [
            "+---------------+----+--------------------+---+------+\n",
            "|            _c0| _c1|                 _c2|_c3|   _c4|\n",
            "+---------------+----+--------------------+---+------+\n",
            "|20090505-000000|  aa|           Main_Page|  2|  9980|\n",
            "|20090505-000000|  ab|%D0%90%D0%B8%D0%B...|  1|   465|\n",
            "|20090505-000000|  ab|%D0%98%D1%85%D0%B...|  1| 16086|\n",
            "|20090505-000000|af.b|            Tuisblad|  1| 36236|\n",
            "|20090505-000000|af.d|            Tuisblad|  4|189738|\n",
            "|20090505-000000|af.q|            Tuisblad|  2| 56143|\n",
            "|20090505-000000|  af|              Afrika|  1| 46833|\n",
            "|20090505-000000|  af|           Afrikaans|  2| 53577|\n",
            "|20090505-000000|  af|      Australi%C3%AB|  1|132432|\n",
            "|20090505-000000|  af|        Barack_Obama|  1| 23368|\n",
            "+---------------+----+--------------------+---+------+\n",
            "only showing top 10 rows\n",
            "\n"
          ]
        }
      ]
    },
    {
      "cell_type": "code",
      "source": [],
      "metadata": {
        "id": "Z4StDtUJvx-p"
      },
      "execution_count": null,
      "outputs": []
    },
    {
      "cell_type": "code",
      "source": [
        "fields =  [StructField('data', StringType()),\n",
        "          StructField('jezyk', StringType()),\n",
        "          StructField('strona', StringType()),\n",
        "          StructField('wyswietlenia', IntegerType()),\n",
        "          StructField('nie wiem', StringType())]\n",
        "schema=StructType(fields)"
      ],
      "metadata": {
        "id": "mlhGjO9iyKPb"
      },
      "execution_count": 65,
      "outputs": []
    },
    {
      "cell_type": "code",
      "source": [
        "def f_ucinanie(x):\n",
        "  return x[:8]"
      ],
      "metadata": {
        "id": "jgblvrC5wNGI"
      },
      "execution_count": 66,
      "outputs": []
    },
    {
      "cell_type": "code",
      "source": [
        "udf_do_wycinania_znakow = udf(f_ucinanie, StringType())"
      ],
      "metadata": {
        "id": "D7yCjETCxEjs"
      },
      "execution_count": 67,
      "outputs": []
    },
    {
      "cell_type": "code",
      "source": [
        "dataframes.df = spark.read.csv(path='pagecounts', sep=' ', schema=schema)"
      ],
      "metadata": {
        "id": "bxRc2M8Oy5dE"
      },
      "execution_count": 70,
      "outputs": []
    },
    {
      "cell_type": "code",
      "source": [
        "(dataframes.df\n",
        " .filter(f.col('jezyk') == 'en')\n",
        " .select(f.col('data'),f.col('wyswietlenia'))\n",
        " .withColumn('data', udf_do_wycinania_znakow(f.col('data')))\n",
        " .groupBy('data')\n",
        " .sum('wyswietlenia')\n",
        ").show(10)"
      ],
      "metadata": {
        "colab": {
          "base_uri": "https://localhost:8080/"
        },
        "id": "-PCLSy0muHKO",
        "outputId": "5e11eeba-2442-4469-d33c-20a7c1f092bd"
      },
      "execution_count": 71,
      "outputs": [
        {
          "output_type": "stream",
          "name": "stdout",
          "text": [
            "+--------+-----------------+\n",
            "|    data|sum(wyswietlenia)|\n",
            "+--------+-----------------+\n",
            "|20090505|          7076855|\n",
            "|20090507|          6175726|\n",
            "+--------+-----------------+\n",
            "\n"
          ]
        }
      ]
    },
    {
      "cell_type": "markdown",
      "source": [
        "##Zadanie 6\n",
        "1. Wczytaj wiki_sample.parquet (moodle)\n",
        "2. Odpowiedz na pytanie którzy użytkownicy edytowali najwięcej stron na wikipedii (top 5)?\n",
        "3. Wykonaj zadanie na dwa sposoby (Dataframe SQL oraz Dataframe programmatic API)"
      ],
      "metadata": {
        "id": "DJzetiAzG_ck"
      }
    },
    {
      "cell_type": "code",
      "source": [
        "#kod"
      ],
      "metadata": {
        "id": "EUdmeaECGpAE"
      },
      "execution_count": null,
      "outputs": []
    },
    {
      "cell_type": "markdown",
      "source": [
        "#Zajęcia 04.05.2022"
      ],
      "metadata": {
        "id": "qrJMjdpjpprS"
      }
    },
    {
      "cell_type": "markdown",
      "source": [
        "##Funkcje agregujące"
      ],
      "metadata": {
        "id": "IJLLZVEzJHb1"
      }
    },
    {
      "cell_type": "code",
      "source": [
        "df = spark.read.csv('sales_info.csv', inferSchema=True, header=True)"
      ],
      "metadata": {
        "id": "35V8DHbhJHxn"
      },
      "execution_count": null,
      "outputs": []
    },
    {
      "cell_type": "code",
      "source": [
        "df.show()"
      ],
      "metadata": {
        "id": "lqSjAzvzJKf2"
      },
      "execution_count": null,
      "outputs": []
    },
    {
      "cell_type": "code",
      "source": [
        "df.printSchema()"
      ],
      "metadata": {
        "id": "lX_pdFQeJL2j"
      },
      "execution_count": null,
      "outputs": []
    },
    {
      "cell_type": "code",
      "source": [
        "df.orderBy(['Company', 'Sales']).show()"
      ],
      "metadata": {
        "id": "7szICcjyJNRQ"
      },
      "execution_count": null,
      "outputs": []
    },
    {
      "cell_type": "code",
      "source": [
        "df.orderBy([f.col('Company'), f.col('Sales').desc()]).show()"
      ],
      "metadata": {
        "id": "jzylGdqHJQNv"
      },
      "execution_count": null,
      "outputs": []
    },
    {
      "cell_type": "code",
      "source": [
        "df.groupBy('Company').max().show()"
      ],
      "metadata": {
        "id": "CvGk93ziJRkB"
      },
      "execution_count": null,
      "outputs": []
    },
    {
      "cell_type": "code",
      "source": [
        "df.groupBy('Company').min().show()"
      ],
      "metadata": {
        "id": "ladHHJ8hJS-D"
      },
      "execution_count": null,
      "outputs": []
    },
    {
      "cell_type": "code",
      "source": [
        "df.groupBy('Company').sum().show()"
      ],
      "metadata": {
        "id": "7oh0h7J1JUXW"
      },
      "execution_count": null,
      "outputs": []
    },
    {
      "cell_type": "code",
      "source": [
        "(df\n",
        " .groupBy('Company')\n",
        " .agg(f.min('Sales').alias('MIN'),\n",
        "      f.max('Sales').alias('MAX'),\n",
        "      f.avg('Sales'),\n",
        "      f.stddev('Sales'))\n",
        ").withColumn('stddev_samp(Sales)', f.round(f.col('stddev_samp(Sales)'), 2)).show()"
      ],
      "metadata": {
        "id": "UrhJgLXaJV6g"
      },
      "execution_count": null,
      "outputs": []
    },
    {
      "cell_type": "markdown",
      "source": [
        "##Funkcje okienkowe"
      ],
      "metadata": {
        "id": "az-qzQI6JbR7"
      }
    },
    {
      "cell_type": "markdown",
      "source": [
        "Sources: https://sparkbyexamples.com/pyspark/pyspark-window-functions/ , https://databricks.com/blog/2015/07/15/introducing-window-functions-in-spark-sql.html\n",
        "\n",
        "Window functions explained: https://www.youtube.com/watch?v=wH6RaEWuiDQ (polecam!)"
      ],
      "metadata": {
        "id": "JUyys4_MJd0m"
      }
    },
    {
      "cell_type": "code",
      "source": [
        "import sys\n",
        "from pyspark.sql.window import Window"
      ],
      "metadata": {
        "id": "qgmpSFtSJbr7"
      },
      "execution_count": null,
      "outputs": []
    },
    {
      "cell_type": "code",
      "source": [
        "simpleData = ((\"James\", \"Sales\", 3000), \\\n",
        "    (\"Michael\", \"Sales\", 4600),  \\\n",
        "    (\"Robert\", \"Sales\", 4100),   \\\n",
        "    (\"Maria\", \"Finance\", 3000),  \\\n",
        "    (\"James\", \"Sales\", 3000),    \\\n",
        "    (\"Scott\", \"Finance\", 3300),  \\\n",
        "    (\"Jen\", \"Finance\", 3900),    \\\n",
        "    (\"Jeff\", \"Marketing\", 3000), \\\n",
        "    (\"Kumar\", \"Marketing\", 2000),\\\n",
        "    (\"Saif\", \"Sales\", 4100) \\\n",
        "  )"
      ],
      "metadata": {
        "id": "pH7HNH_oJgxl"
      },
      "execution_count": null,
      "outputs": []
    },
    {
      "cell_type": "code",
      "source": [
        "columns= [\"employee_name\", \"department\", \"salary\"]\n",
        "df = spark.createDataFrame(data = simpleData, schema = columns)\n",
        "df.printSchema()\n",
        "df.show(truncate=False)\n",
        "df.createOrReplaceTempView(\"df\")"
      ],
      "metadata": {
        "id": "tQOysxoXJh10"
      },
      "execution_count": null,
      "outputs": []
    },
    {
      "cell_type": "markdown",
      "source": [
        "###row_number()"
      ],
      "metadata": {
        "id": "Wv6Mjl2qJkce"
      }
    },
    {
      "cell_type": "code",
      "source": [
        "from pyspark.sql.functions import row_number"
      ],
      "metadata": {
        "id": "tNpsti1aJky8"
      },
      "execution_count": null,
      "outputs": []
    },
    {
      "cell_type": "code",
      "source": [
        "windowSpec = (Window\n",
        "              .partitionBy(f.col('department'))\n",
        "              .orderBy(f.col('salary').desc())\n",
        "              )"
      ],
      "metadata": {
        "id": "L4hp5mZCJmvN"
      },
      "execution_count": null,
      "outputs": []
    },
    {
      "cell_type": "code",
      "source": [
        "df.withColumn('row_number', row_number().over(windowSpec)).show()"
      ],
      "metadata": {
        "id": "6Lrk68E7JnhY"
      },
      "execution_count": null,
      "outputs": []
    },
    {
      "cell_type": "code",
      "source": [
        "sqlDF = spark.sql(\"\"\"SELECT employee_name, department, salary,\n",
        "                     row_number() OVER(PARTITION BY department ORDER BY salary DESC) AS row_number\n",
        "                     FROM df\n",
        "\"\"\")\n",
        "\n",
        "sqlDF.show()"
      ],
      "metadata": {
        "id": "luZkI2a9JpUD"
      },
      "execution_count": null,
      "outputs": []
    },
    {
      "cell_type": "markdown",
      "source": [
        "###rank()"
      ],
      "metadata": {
        "id": "e6VB6DahJqr6"
      }
    },
    {
      "cell_type": "code",
      "source": [
        "from pyspark.sql.functions import rank"
      ],
      "metadata": {
        "id": "d8NFemxbJrXj"
      },
      "execution_count": null,
      "outputs": []
    },
    {
      "cell_type": "code",
      "source": [
        "df.withColumn(\"rank\", rank().over(windowSpec)).show()"
      ],
      "metadata": {
        "id": "7HBOsYwzJtBB"
      },
      "execution_count": null,
      "outputs": []
    },
    {
      "cell_type": "code",
      "source": [
        "sqlDF = spark.sql(\"\"\"SELECT employee_name, department, salary,\n",
        "                     rank() OVER(PARTITION BY department ORDER BY salary DESC) AS rank\n",
        "                     FROM df\n",
        "\"\"\")\n",
        "\n",
        "sqlDF.show()"
      ],
      "metadata": {
        "id": "3aqgkyuKJvFd"
      },
      "execution_count": null,
      "outputs": []
    },
    {
      "cell_type": "markdown",
      "source": [
        "###dense_rank()"
      ],
      "metadata": {
        "id": "s-hRPO2BJwo2"
      }
    },
    {
      "cell_type": "code",
      "source": [
        "from pyspark.sql.functions import dense_rank\n",
        "df.withColumn(\"dense_rank\", dense_rank().over(windowSpec)).show()"
      ],
      "metadata": {
        "id": "yjEPydH6Jw4j"
      },
      "execution_count": null,
      "outputs": []
    },
    {
      "cell_type": "code",
      "source": [
        "sqlDF = spark.sql(\"\"\"SELECT employee_name, department, salary,\n",
        "                     dense_rank() OVER(PARTITION BY department ORDER BY salary DESC) AS dense_rank\n",
        "                     FROM df\n",
        "\"\"\")\n",
        "\n",
        "sqlDF.show()"
      ],
      "metadata": {
        "id": "_X9gjhTAJ1Zo"
      },
      "execution_count": null,
      "outputs": []
    },
    {
      "cell_type": "markdown",
      "source": [
        "###min(), max()"
      ],
      "metadata": {
        "id": "Z6Ex5WP6Jyqh"
      }
    },
    {
      "cell_type": "code",
      "source": [
        "df.withColumn(\"min_departament\", f.min('salary').over(windowSpec.rangeBetween(-sys.maxsize, sys.maxsize))).show()"
      ],
      "metadata": {
        "id": "eBq_Cr5kJ4F5"
      },
      "execution_count": null,
      "outputs": []
    },
    {
      "cell_type": "code",
      "source": [
        "sqlDF = spark.sql(\"\"\" SELECT employee_name, department, salary,\n",
        "                      min(salary) OVER(PARTITION BY department ORDER BY salary DESC RANGE BETWEEN UNBOUNDED PRECEDING AND UNBOUNDED FOLLOWING) as min_salary\n",
        "                      FROM df\n",
        "\"\"\")\n",
        "sqlDF.show()"
      ],
      "metadata": {
        "id": "il6AEEDvJ50j"
      },
      "execution_count": null,
      "outputs": []
    },
    {
      "cell_type": "markdown",
      "source": [
        "###LAG()"
      ],
      "metadata": {
        "id": "xVfltmVYKKfn"
      }
    },
    {
      "cell_type": "code",
      "source": [
        "import pyspark.sql.functions as f"
      ],
      "metadata": {
        "id": "Ja9o8ndoKK8M"
      },
      "execution_count": null,
      "outputs": []
    },
    {
      "cell_type": "code",
      "source": [
        "windowSpec = (Window\n",
        "              .partitionBy(f.col('department'))\n",
        "              .orderBy(f.col('salary').desc())\n",
        "              )"
      ],
      "metadata": {
        "id": "XCMyRZphKL3-"
      },
      "execution_count": null,
      "outputs": []
    },
    {
      "cell_type": "code",
      "source": [
        "from pyspark.sql.functions import lag"
      ],
      "metadata": {
        "id": "Rjz7tM3lKMwg"
      },
      "execution_count": null,
      "outputs": []
    },
    {
      "cell_type": "code",
      "source": [
        "df.withColumn(\"lag_salary\", lag(\"salary\", 1).over(windowSpec)).show()"
      ],
      "metadata": {
        "id": "7GvwkwdxKN_R"
      },
      "execution_count": null,
      "outputs": []
    },
    {
      "cell_type": "code",
      "source": [
        "sqlDF = spark.sql(\"\"\"SELECT employee_name, department, salary,\n",
        "                     LAG(salary) OVER(PARTITION BY department ORDER BY salary DESC) as lag_salary\n",
        "                     FROM df\n",
        "\n",
        "\"\"\")"
      ],
      "metadata": {
        "id": "baSoyo9MKPzD"
      },
      "execution_count": null,
      "outputs": []
    },
    {
      "cell_type": "code",
      "source": [
        "sqlDF.show(10)"
      ],
      "metadata": {
        "id": "PfRCOC60KQ5Y"
      },
      "execution_count": null,
      "outputs": []
    },
    {
      "cell_type": "markdown",
      "source": [
        "###LEAD()"
      ],
      "metadata": {
        "id": "wSSPsM9mKSUk"
      }
    },
    {
      "cell_type": "code",
      "source": [
        "from pyspark.sql.functions import lead"
      ],
      "metadata": {
        "id": "VnZlPZ1tKSnU"
      },
      "execution_count": null,
      "outputs": []
    },
    {
      "cell_type": "code",
      "source": [
        "df.withColumn(\"lead_salary\", lead(\"salary\", 2).over(windowSpec)).show()"
      ],
      "metadata": {
        "id": "5s-kdjzuKVio"
      },
      "execution_count": null,
      "outputs": []
    },
    {
      "cell_type": "code",
      "source": [
        "#SQL: https://www.youtube.com/watch?v=tNdJKrwQKIU"
      ],
      "metadata": {
        "id": "Jv0TL0FnKYHQ"
      },
      "execution_count": null,
      "outputs": []
    },
    {
      "cell_type": "markdown",
      "source": [
        "##Zadanie 7\n",
        "1. wczytaj plik bonuses.csv\n",
        "2. stwórz tabelę o kolumnach employee_id, year, max_quarter_bonus, min_quarter_bonus, total_bonus, total_bonus_previous_year, total_bonus_2_years_ago"
      ],
      "metadata": {
        "id": "LKuJI71j4TUi"
      }
    },
    {
      "cell_type": "code",
      "source": [
        "#kod"
      ],
      "metadata": {
        "id": "TQoJ_IAw4L9K"
      },
      "execution_count": null,
      "outputs": []
    },
    {
      "cell_type": "markdown",
      "source": [
        "#Zajęcia 09.05.2022"
      ],
      "metadata": {
        "id": "kOZ-g7XjxAjt"
      }
    },
    {
      "cell_type": "markdown",
      "source": [
        "##Machine Learning"
      ],
      "metadata": {
        "id": "l7ac7a17xF40"
      }
    },
    {
      "cell_type": "markdown",
      "source": [
        "##Colaborative Filtering\n",
        "Dla chętnych: https://www.youtube.com/watch?v=ZspR5PZemcs"
      ],
      "metadata": {
        "id": "P_tkBF4dxt0w"
      }
    },
    {
      "cell_type": "code",
      "source": [
        "!unzip ml-100k.zip"
      ],
      "metadata": {
        "id": "gwsYut7pxuNO"
      },
      "execution_count": null,
      "outputs": []
    },
    {
      "cell_type": "code",
      "source": [
        "#u.data     -- The full u data set, 100000 ratings by 943 users on 1682 items.\n",
        "#              Each user has rated at least 20 movies.  Users and items are\n",
        "#              numbered consecutively from 1.  The data is randomly\n",
        "#              ordered. This is a tab separated list of\n",
        "#\t         user id | item id | rating | timestamp.\n",
        "#              The time stamps are unix seconds since 1/1/1970 UTC"
      ],
      "metadata": {
        "id": "bTR4l5-tx1Yr"
      },
      "execution_count": null,
      "outputs": []
    },
    {
      "cell_type": "code",
      "source": [
        "!head -5 ml-100k/u.data"
      ],
      "metadata": {
        "id": "9EiBuH6kx21I"
      },
      "execution_count": null,
      "outputs": []
    },
    {
      "cell_type": "code",
      "source": [
        "ratings_data = spark.read.csv(\"ml-100k/u.data\", sep=\"\t\", header=False, inferSchema=True)"
      ],
      "metadata": {
        "id": "rDmwXrUix4tR"
      },
      "execution_count": null,
      "outputs": []
    },
    {
      "cell_type": "code",
      "source": [
        "from pyspark.sql.types import *"
      ],
      "metadata": {
        "id": "OGb1STJVx522"
      },
      "execution_count": null,
      "outputs": []
    },
    {
      "cell_type": "code",
      "source": [
        "fields = [StructField('user_id', IntegerType()),\n",
        "          StructField('item_id', IntegerType()),\n",
        "          StructField('rating', IntegerType()),\n",
        "          StructField('timestamp', IntegerType())\n",
        "          ]"
      ],
      "metadata": {
        "id": "PI0BymC_x7XA"
      },
      "execution_count": null,
      "outputs": []
    },
    {
      "cell_type": "code",
      "source": [
        "schema = StructType(fields)"
      ],
      "metadata": {
        "id": "8wGgM6I7x8ak"
      },
      "execution_count": null,
      "outputs": []
    },
    {
      "cell_type": "code",
      "source": [
        "ratings_data = spark.read.csv(\"ml-100k/u.data\", sep=\"\t\", header=False, schema=schema)"
      ],
      "metadata": {
        "id": "V2vkChLNx843"
      },
      "execution_count": null,
      "outputs": []
    },
    {
      "cell_type": "code",
      "source": [
        "ratings_data.show(10)"
      ],
      "metadata": {
        "id": "xdhuUCjvx963"
      },
      "execution_count": null,
      "outputs": []
    },
    {
      "cell_type": "code",
      "source": [
        "(train, test) = ratings_data.randomSplit([0.8, 0.2])"
      ],
      "metadata": {
        "id": "22AN7UBcx-6j"
      },
      "execution_count": null,
      "outputs": []
    },
    {
      "cell_type": "code",
      "source": [
        "from pyspark.ml.evaluation import RegressionEvaluator\n",
        "from pyspark.ml.recommendation import ALS\n",
        "from pyspark.sql import Row"
      ],
      "metadata": {
        "id": "31DXIt0ryABz"
      },
      "execution_count": null,
      "outputs": []
    },
    {
      "cell_type": "code",
      "source": [
        "#https://spark.apache.org/docs/latest/api/python/reference/api/pyspark.ml.recommendation.ALS.html#pyspark.ml.recommendation.ALS\n",
        "als = ALS(maxIter=5, rank=20, regParam=0.01, userCol=\"user_id\", itemCol=\"item_id\", ratingCol=\"rating\", coldStartStrategy=\"drop\")"
      ],
      "metadata": {
        "id": "9dW4yRI0yD-o"
      },
      "execution_count": null,
      "outputs": []
    },
    {
      "cell_type": "code",
      "source": [
        "model = als.fit(train)"
      ],
      "metadata": {
        "id": "SYek0RMHyFaE"
      },
      "execution_count": null,
      "outputs": []
    },
    {
      "cell_type": "code",
      "source": [
        "predictions = model.transform(test)"
      ],
      "metadata": {
        "id": "4YLW_Mj8yGYD"
      },
      "execution_count": null,
      "outputs": []
    },
    {
      "cell_type": "code",
      "source": [
        "predictions.show(10)"
      ],
      "metadata": {
        "id": "l3XBWAZhyHf8"
      },
      "execution_count": null,
      "outputs": []
    },
    {
      "cell_type": "code",
      "source": [
        "evaluator = RegressionEvaluator(metricName=\"rmse\", labelCol=\"rating\", predictionCol=\"prediction\")"
      ],
      "metadata": {
        "id": "kIVSbtk4yJqN"
      },
      "execution_count": null,
      "outputs": []
    },
    {
      "cell_type": "code",
      "source": [
        "rmse = evaluator.evaluate(predictions)"
      ],
      "metadata": {
        "id": "HMDTUvVbyK4h"
      },
      "execution_count": null,
      "outputs": []
    },
    {
      "cell_type": "code",
      "source": [
        "print(f\"Root-mean-square error = {rmse}\")"
      ],
      "metadata": {
        "id": "_5NKGhQyyMBT"
      },
      "execution_count": null,
      "outputs": []
    },
    {
      "cell_type": "code",
      "source": [
        "#top 10 movies for each user\n",
        "userRecs = model.recommendForAllUsers(10)"
      ],
      "metadata": {
        "id": "i54vac2OyNb_"
      },
      "execution_count": null,
      "outputs": []
    },
    {
      "cell_type": "code",
      "source": [
        "userRecs.show(10, False)"
      ],
      "metadata": {
        "id": "WgY525pRyOrV"
      },
      "execution_count": null,
      "outputs": []
    },
    {
      "cell_type": "code",
      "source": [
        "#top 10 user for each movie\n",
        "movieRecs = model.recommendForAllItems(10)"
      ],
      "metadata": {
        "id": "RGrHTVVVyP0i"
      },
      "execution_count": null,
      "outputs": []
    },
    {
      "cell_type": "code",
      "source": [
        "movieRecs.show(10, False)"
      ],
      "metadata": {
        "id": "9sM43cAZyQ5J"
      },
      "execution_count": null,
      "outputs": []
    },
    {
      "cell_type": "markdown",
      "source": [
        "##Classification\n",
        "###Decision Trees"
      ],
      "metadata": {
        "id": "kTofA2eX3_b2"
      }
    },
    {
      "cell_type": "code",
      "source": [
        "!unzip train.csv.zip"
      ],
      "metadata": {
        "id": "Y-J-Oh_i4C0j"
      },
      "execution_count": null,
      "outputs": []
    },
    {
      "cell_type": "code",
      "source": [
        "data = spark.read.csv(\"train.csv\", header=True, inferSchema=True, sep=\",\")"
      ],
      "metadata": {
        "id": "BbMlgg9X4Efn"
      },
      "execution_count": null,
      "outputs": []
    },
    {
      "cell_type": "code",
      "source": [
        "data.show(10)"
      ],
      "metadata": {
        "id": "DJUoJiqW4FrR"
      },
      "execution_count": null,
      "outputs": []
    },
    {
      "cell_type": "code",
      "source": [
        "(train, test) = data.randomSplit([0.8, 0.2])"
      ],
      "metadata": {
        "id": "I7jxe1mMC23a"
      },
      "execution_count": null,
      "outputs": []
    },
    {
      "cell_type": "markdown",
      "source": [
        "|y|x1|x2|x3\n",
        "|-|-|-|-|\n",
        "|5|1|2|3|\n",
        "|3|5|6|7|\n",
        "\n",
        "|y|X_i|\n",
        "|-|---|\n",
        "|5|[1,2,3]|\n",
        "|3|[5,6,7]|"
      ],
      "metadata": {
        "id": "eoyHaEjk45--"
      }
    },
    {
      "cell_type": "code",
      "source": [
        "from pyspark.ml.feature import VectorAssembler\n",
        "assembler = VectorAssembler(inputCols=[x for x in data.columns if x not in ['Id', 'Cover_Type']], outputCol='features')"
      ],
      "metadata": {
        "id": "zTCMkUyQ4Gq1"
      },
      "execution_count": null,
      "outputs": []
    },
    {
      "cell_type": "code",
      "source": [
        "df_assemled_preview = assembler.transform(train)"
      ],
      "metadata": {
        "id": "Ti-vYAWp4IEZ"
      },
      "execution_count": null,
      "outputs": []
    },
    {
      "cell_type": "code",
      "source": [
        "df_assemled_preview.show(10)"
      ],
      "metadata": {
        "id": "QykXzwgi4Jcj"
      },
      "execution_count": null,
      "outputs": []
    },
    {
      "cell_type": "code",
      "source": [
        "df_assemled_preview.rdd.take(1)"
      ],
      "metadata": {
        "id": "kBR1WIH54KlZ"
      },
      "execution_count": null,
      "outputs": []
    },
    {
      "cell_type": "code",
      "source": [
        "from pyspark.ml.feature import StringIndexer\n",
        "labelIndexer = StringIndexer(inputCol='Cover_Type', outputCol='label').fit(data)"
      ],
      "metadata": {
        "id": "wD9Jrewx4OKz"
      },
      "execution_count": null,
      "outputs": []
    },
    {
      "cell_type": "code",
      "source": [
        "df_indexed_prview = labelIndexer.transform(train)\n",
        "df_indexed_prview.show(10)"
      ],
      "metadata": {
        "id": "SyiBseKjDBeK"
      },
      "execution_count": null,
      "outputs": []
    },
    {
      "cell_type": "code",
      "source": [
        "from pyspark.ml.classification import DecisionTreeClassifier"
      ],
      "metadata": {
        "id": "KxLbHPN84PG0"
      },
      "execution_count": null,
      "outputs": []
    },
    {
      "cell_type": "code",
      "source": [
        "dt = DecisionTreeClassifier(impurity='gini',\n",
        "                            maxDepth=5,\n",
        "                            maxBins=32,\n",
        "                            featuresCol='features',\n",
        "                            labelCol='label')"
      ],
      "metadata": {
        "id": "zMF-xqzB4QNo"
      },
      "execution_count": null,
      "outputs": []
    },
    {
      "cell_type": "code",
      "source": [
        "from pyspark.ml import Pipeline"
      ],
      "metadata": {
        "id": "DpCJLNyY4RII"
      },
      "execution_count": null,
      "outputs": []
    },
    {
      "cell_type": "code",
      "source": [
        "pipeline = Pipeline(stages=[assembler, labelIndexer, dt])"
      ],
      "metadata": {
        "id": "V0NRjjyG4SA1"
      },
      "execution_count": null,
      "outputs": []
    },
    {
      "cell_type": "code",
      "source": [
        "model_pipeline = pipeline.fit(train)"
      ],
      "metadata": {
        "id": "s6G_iuyM4TLb"
      },
      "execution_count": null,
      "outputs": []
    },
    {
      "cell_type": "code",
      "source": [
        "model_pipeline.stages"
      ],
      "metadata": {
        "id": "sm3mMoTADGXT"
      },
      "execution_count": null,
      "outputs": []
    },
    {
      "cell_type": "code",
      "source": [
        "treeModel = model_pipeline.stages[2]"
      ],
      "metadata": {
        "id": "cGJPoVTv4VEV"
      },
      "execution_count": null,
      "outputs": []
    },
    {
      "cell_type": "code",
      "source": [
        "treeModel"
      ],
      "metadata": {
        "id": "_a3u4FdQ4WFB"
      },
      "execution_count": null,
      "outputs": []
    },
    {
      "cell_type": "code",
      "source": [
        "print(treeModel.toDebugString)"
      ],
      "metadata": {
        "id": "H2tr6ir_4XD8"
      },
      "execution_count": null,
      "outputs": []
    },
    {
      "cell_type": "code",
      "source": [
        "predictions = model_pipeline.transform(test)"
      ],
      "metadata": {
        "id": "s6stkr574YK4"
      },
      "execution_count": null,
      "outputs": []
    },
    {
      "cell_type": "code",
      "source": [
        "predictions.show(10, False)"
      ],
      "metadata": {
        "id": "obtsqQRf4Z4x"
      },
      "execution_count": null,
      "outputs": []
    },
    {
      "cell_type": "code",
      "source": [
        "from pyspark.ml.evaluation import MulticlassClassificationEvaluator"
      ],
      "metadata": {
        "id": "ME1k9bCp4a8S"
      },
      "execution_count": null,
      "outputs": []
    },
    {
      "cell_type": "code",
      "source": [
        "evaluator = MulticlassClassificationEvaluator(labelCol=\"label\", predictionCol=\"prediction\", metricName='accuracy')"
      ],
      "metadata": {
        "id": "m9nD7vr64b97"
      },
      "execution_count": null,
      "outputs": []
    },
    {
      "cell_type": "code",
      "source": [
        "accuracy = evaluator.evaluate(predictions)"
      ],
      "metadata": {
        "id": "szG6HwXA4c57"
      },
      "execution_count": null,
      "outputs": []
    },
    {
      "cell_type": "code",
      "source": [
        "print(accuracy)"
      ],
      "metadata": {
        "id": "rZ_zHCp54d6o"
      },
      "execution_count": null,
      "outputs": []
    },
    {
      "cell_type": "markdown",
      "source": [
        "##Random Forest"
      ],
      "metadata": {
        "id": "VwmEArk566-1"
      }
    },
    {
      "cell_type": "markdown",
      "source": [
        "##Zadanie 8\n",
        "Do tego samego zbioru danych stworz model klasyfikacji oparty na Random Forest (https://spark.apache.org/docs/3.1.1/api/python/reference/api/pyspark.ml.classification.RandomForestClassifier.html). Postaraj się zrobić go w formie \"pipeline\"."
      ],
      "metadata": {
        "id": "BxNrtO7D7RXM"
      }
    },
    {
      "cell_type": "code",
      "source": [
        "#kod"
      ],
      "metadata": {
        "id": "fb-aRPrf69nk"
      },
      "execution_count": null,
      "outputs": []
    },
    {
      "cell_type": "markdown",
      "source": [
        "#Zajęcia 16.05.2022\n",
        "omowic labelConverter + hyperparameter tuning"
      ],
      "metadata": {
        "id": "gzjrIQVwaon0"
      }
    },
    {
      "cell_type": "markdown",
      "source": [
        "##Hyperparameter Tuning"
      ],
      "metadata": {
        "id": "85536XB37pIp"
      }
    },
    {
      "cell_type": "markdown",
      "source": [
        "###Random Forest"
      ],
      "metadata": {
        "id": "uxJY8sbL71FC"
      }
    },
    {
      "cell_type": "code",
      "source": [
        "train.cache()\n",
        "test.cache()"
      ],
      "metadata": {
        "id": "XomQuQVJ7280"
      },
      "execution_count": null,
      "outputs": []
    },
    {
      "cell_type": "code",
      "source": [
        "train.count()\n",
        "test.count()"
      ],
      "metadata": {
        "id": "WRdd7xb475HO"
      },
      "execution_count": null,
      "outputs": []
    },
    {
      "cell_type": "code",
      "source": [
        "from pyspark.ml.tuning import CrossValidator, ParamGridBuilder"
      ],
      "metadata": {
        "id": "OBT3ZL9y76HV"
      },
      "execution_count": null,
      "outputs": []
    },
    {
      "cell_type": "code",
      "source": [
        "paramGrid = (ParamGridBuilder()\n",
        "  .addGrid(rf.numTrees, [10, 20])\n",
        "  .addGrid(rf.maxDepth, [30])\n",
        "  .addGrid(rf.maxBins, [100])\n",
        "  .addGrid(rf.impurity, ['entropy'])\n",
        "  .build()\n",
        ")"
      ],
      "metadata": {
        "id": "7phL0gqI78d-"
      },
      "execution_count": null,
      "outputs": []
    },
    {
      "cell_type": "code",
      "source": [
        "paramGrid"
      ],
      "metadata": {
        "id": "yIbRbC_u7-Gh"
      },
      "execution_count": null,
      "outputs": []
    },
    {
      "cell_type": "code",
      "source": [
        "pipeline = Pipeline(stages=[assembler, labelIndexer, rf, labelConverter])"
      ],
      "metadata": {
        "id": "x3roTWXG7-e6"
      },
      "execution_count": null,
      "outputs": []
    },
    {
      "cell_type": "code",
      "source": [
        "crossval = CrossValidator(estimator=pipeline,\n",
        "                          estimatorParamMaps=paramGrid,\n",
        "                          evaluator=evaluator,\n",
        "                          numFolds=3) # use 10 folds in practice"
      ],
      "metadata": {
        "id": "lcIDmVhW7_iE"
      },
      "execution_count": null,
      "outputs": []
    },
    {
      "cell_type": "code",
      "source": [
        "# Run cross-validation, and choose the best set of parameters.\n",
        "cvModel = crossval.fit(train)"
      ],
      "metadata": {
        "id": "yBdZpaXr8AnY"
      },
      "execution_count": null,
      "outputs": []
    },
    {
      "cell_type": "code",
      "source": [
        "cvModel.bestModel"
      ],
      "metadata": {
        "id": "T-Daq-em8Bug"
      },
      "execution_count": null,
      "outputs": []
    },
    {
      "cell_type": "code",
      "source": [
        "params = [{p.name: v for p, v in m.items()} for m in cvModel.getEstimatorParamMaps()]\n",
        "params"
      ],
      "metadata": {
        "id": "GlJHDUHD8Duh"
      },
      "execution_count": null,
      "outputs": []
    },
    {
      "cell_type": "code",
      "source": [
        "cvModel.avgMetrics"
      ],
      "metadata": {
        "id": "pz28Xpsa8E34"
      },
      "execution_count": null,
      "outputs": []
    },
    {
      "cell_type": "code",
      "source": [
        "best_model = cvModel.bestModel"
      ],
      "metadata": {
        "id": "3W72yPIi8G5O"
      },
      "execution_count": null,
      "outputs": []
    },
    {
      "cell_type": "code",
      "source": [
        "predictions_test = best_model.transform(test)"
      ],
      "metadata": {
        "id": "OOKTQ6Kv8H89"
      },
      "execution_count": null,
      "outputs": []
    },
    {
      "cell_type": "code",
      "source": [
        "accuracy_test = evaluator.evaluate(predictions_test)"
      ],
      "metadata": {
        "id": "hmakSJgn8JCd"
      },
      "execution_count": null,
      "outputs": []
    },
    {
      "cell_type": "code",
      "source": [
        "print(f\"Accuracy test: {accuracy_test}\")"
      ],
      "metadata": {
        "id": "Wa-Y4o8-8KHN"
      },
      "execution_count": null,
      "outputs": []
    },
    {
      "cell_type": "code",
      "source": [
        "predictions_train = best_model.transform(train)\n",
        "accuracy_train = evaluator.evaluate(predictions_train)\n",
        "print(f\"Accuracy train: {accuracy_train}\")"
      ],
      "metadata": {
        "id": "Gbja2AGr8LNj"
      },
      "execution_count": null,
      "outputs": []
    },
    {
      "cell_type": "markdown",
      "source": [
        "##Zadanie 9\n",
        "Zaimplementuj hyperparameter tuning dla drzew decyzyjnych. Parametry:\n",
        "\n",
        "impurity, [\"entropy\"];\n",
        "maxDepth, [10, 30];\n",
        "maxBins, [30, 300, 100];"
      ],
      "metadata": {
        "id": "e4NnOr8o8O9a"
      }
    },
    {
      "cell_type": "code",
      "source": [
        "#kod"
      ],
      "metadata": {
        "id": "hsx4OR9v8dae"
      },
      "execution_count": null,
      "outputs": []
    },
    {
      "cell_type": "markdown",
      "source": [
        "##Clustering\n",
        "Based on: https://towardsdatascience.com/k-means-clustering-using-pyspark-on-big-data-6214beacdc8b\n",
        "K-Means explained: https://www.youtube.com/watch?v=4b5d3muPQmA"
      ],
      "metadata": {
        "id": "_lHVXThxIZUK"
      }
    },
    {
      "cell_type": "code",
      "source": [
        "!unzip archive.zip"
      ],
      "metadata": {
        "id": "aRP32wCCIbj1"
      },
      "execution_count": null,
      "outputs": []
    },
    {
      "cell_type": "code",
      "source": [
        "data_customer=spark.read.csv('CC GENERAL.csv', header=True, inferSchema=True)\n",
        "data_customer.printSchema()"
      ],
      "metadata": {
        "id": "LivEfEfDIdZQ"
      },
      "execution_count": null,
      "outputs": []
    },
    {
      "cell_type": "code",
      "source": [
        "data_customer=data_customer.na.drop()"
      ],
      "metadata": {
        "id": "FNZgxXjkIhBf"
      },
      "execution_count": null,
      "outputs": []
    },
    {
      "cell_type": "code",
      "source": [
        "from pyspark.ml.feature import VectorAssembler\n",
        "data_customer.columns\n",
        "assemble=VectorAssembler(inputCols=[\n",
        " 'BALANCE',\n",
        " 'BALANCE_FREQUENCY',\n",
        " 'PURCHASES',\n",
        " 'ONEOFF_PURCHASES',\n",
        " 'INSTALLMENTS_PURCHASES',\n",
        " 'CASH_ADVANCE',\n",
        " 'PURCHASES_FREQUENCY',\n",
        " 'ONEOFF_PURCHASES_FREQUENCY',\n",
        " 'PURCHASES_INSTALLMENTS_FREQUENCY',\n",
        " 'CASH_ADVANCE_FREQUENCY',\n",
        " 'CASH_ADVANCE_TRX',\n",
        " 'PURCHASES_TRX',\n",
        " 'CREDIT_LIMIT',\n",
        " 'PAYMENTS',\n",
        " 'MINIMUM_PAYMENTS',\n",
        " 'PRC_FULL_PAYMENT',\n",
        " 'TENURE'], outputCol='features')\n",
        "assembled_data=assemble.transform(data_customer)\n",
        "assembled_data.show(2)"
      ],
      "metadata": {
        "id": "qpHgtlclIifQ"
      },
      "execution_count": null,
      "outputs": []
    },
    {
      "cell_type": "code",
      "source": [
        "from pyspark.ml.feature import StandardScaler\n",
        "scale=StandardScaler(inputCol='features',outputCol='standardized')\n",
        "data_scale=scale.fit(assembled_data)\n",
        "data_scale_output=data_scale.transform(assembled_data)\n",
        "data_scale_output.show(2)"
      ],
      "metadata": {
        "id": "Foaqq4vxIjeE"
      },
      "execution_count": null,
      "outputs": []
    },
    {
      "cell_type": "code",
      "source": [
        "from pyspark.ml.clustering import KMeans\n",
        "from pyspark.ml.evaluation import ClusteringEvaluator\n",
        "silhouette_score=[]\n",
        "evaluator = ClusteringEvaluator(predictionCol='prediction', featuresCol='standardized', \\\n",
        "                                metricName='silhouette', distanceMeasure='squaredEuclidean')\n",
        "for i in range(2,10):\n",
        "\n",
        "    KMeans_algo=KMeans(featuresCol='standardized', k=i)\n",
        "\n",
        "    KMeans_fit=KMeans_algo.fit(data_scale_output)\n",
        "\n",
        "    output=KMeans_fit.transform(data_scale_output)\n",
        "\n",
        "\n",
        "\n",
        "    score=evaluator.evaluate(output)\n",
        "\n",
        "    silhouette_score.append(score)\n",
        "\n",
        "    print(\"Silhouette Score:\",score)"
      ],
      "metadata": {
        "id": "bq327Rd7Ikxv"
      },
      "execution_count": null,
      "outputs": []
    },
    {
      "cell_type": "code",
      "source": [
        "#Visualizing the silhouette scores in a plot\n",
        "import matplotlib.pyplot as plt\n",
        "fig, ax = plt.subplots(1,1, figsize =(8,6))\n",
        "ax.plot(range(2,10),silhouette_score)\n",
        "ax.set_xlabel('k')\n",
        "ax.set_ylabel('cost')"
      ],
      "metadata": {
        "id": "MGLGYK9nImYt"
      },
      "execution_count": null,
      "outputs": []
    },
    {
      "cell_type": "code",
      "source": [
        "KMeans_algo=KMeans(featuresCol='standardized', k=3)\n",
        "KMeans_fit=KMeans_algo.fit(data_scale_output)\n",
        "output=KMeans_fit.transform(data_scale_output)\n",
        "output.show(10)"
      ],
      "metadata": {
        "id": "83dHwa2oIo2p"
      },
      "execution_count": null,
      "outputs": []
    },
    {
      "cell_type": "code",
      "source": [
        "from pyspark.ml.feature import PCA\n",
        "import matplotlib.pyplot as plt\n",
        "\n",
        "pca = PCA(k=3, inputCol=\"features\", outputCol=\"pcaFeatures\")\n",
        "model = pca.fit(data_scale_output)\n",
        "\n",
        "result = model.transform(data_scale_output).select(\"pcaFeatures\")\n",
        "pandasDf = result.toPandas()\n",
        "dataX = []\n",
        "dataY = []\n",
        "\n",
        "for vec in pandasDf.values:\n",
        "  dataX.extend([vec[0][0]])\n",
        "  dataY.extend([vec[0][1]])\n",
        "plt.scatter(dataX, dataY)\n",
        "plt.show()"
      ],
      "metadata": {
        "id": "jgwk7ErEIqBO"
      },
      "execution_count": null,
      "outputs": []
    },
    {
      "cell_type": "markdown",
      "source": [
        "#Zajęcia 23.05.2022"
      ],
      "metadata": {
        "id": "_oaytOfo-i2H"
      }
    },
    {
      "cell_type": "markdown",
      "source": [
        "##Data Science How-To: Using Apache Spark for Sports Analytics\n",
        "based on: https://tanzu.vmware.com/content/blog/how-data-science-assists-sports"
      ],
      "metadata": {
        "id": "K1NusFNB-l9r"
      }
    },
    {
      "cell_type": "code",
      "source": [
        "!unzip data.zip"
      ],
      "metadata": {
        "id": "0jfzmN6o_fTm"
      },
      "execution_count": null,
      "outputs": []
    },
    {
      "cell_type": "code",
      "source": [
        "df = spark.read.option('header','true')\\\n",
        "          .option('inferSchema','true')\\\n",
        "          .csv('data/season_totals.csv')"
      ],
      "metadata": {
        "id": "ITDn-MlpA-iN"
      },
      "execution_count": null,
      "outputs": []
    },
    {
      "cell_type": "code",
      "source": [
        "df.limit(5).show()"
      ],
      "metadata": {
        "id": "273GFUgCBAkw"
      },
      "execution_count": null,
      "outputs": []
    },
    {
      "cell_type": "code",
      "source": [
        "import pyspark.sql.functions as f"
      ],
      "metadata": {
        "id": "scY7Kk_iBCCB"
      },
      "execution_count": null,
      "outputs": []
    },
    {
      "cell_type": "code",
      "source": [
        "df.orderBy(f.col('pts').desc()).limit(10).show()"
      ],
      "metadata": {
        "id": "0jkn22NwBDbG"
      },
      "execution_count": null,
      "outputs": []
    },
    {
      "cell_type": "code",
      "source": [
        "#Ile było prób rzutu za 3 punkty na 36 minut"
      ],
      "metadata": {
        "id": "CxU-v7JVBFDJ"
      },
      "execution_count": null,
      "outputs": []
    },
    {
      "cell_type": "code",
      "source": [
        "fga_py = (df\n",
        "          .groupBy('yr')\n",
        "          .agg(f.sum('mp'), #minutes played (wszystkie rozegrane minuty wszystkich graczy)\n",
        "               f.sum('fg3a')) #attempts\n",
        "          .select(f.col('yr'), (36*f.col('sum(fg3a)')/f.col('sum(mp)')).alias('fg3a_p36m'))\n",
        "          .orderBy('yr')\n",
        "               )\n",
        "fga_py.show(10)"
      ],
      "metadata": {
        "id": "3Kr5z-T8BGZa"
      },
      "execution_count": null,
      "outputs": []
    },
    {
      "cell_type": "code",
      "source": [
        "from matplotlib import pyplot as plt\n",
        "import seaborn as sns\n",
        "\n",
        "sns.set_style(\"white\")\n",
        "sns.set_color_codes()\n",
        "\n",
        "plt.figure(figsize=(20,10))\n",
        "plt.style.use('fivethirtyeight')\n",
        "\n",
        "_df = fga_py.toPandas()\n",
        "plt.plot(_df.yr,_df.fg3a_p36m, color = '#00a79c')\n",
        "plt.xlabel('Year')\n",
        "plt.title('Player average 3-point attempts (per 36 minutes)')\n",
        "plt.annotate('3 pointer introduced', xy=(1980, .5), xytext=(1981, 1.1), fontsize = 12,\n",
        "            arrowprops=dict(facecolor='grey', shrink=0.05, linewidth = 2))\n",
        "plt.annotate('NBA moved in 3-point line', xy=(1996, 2.4), xytext=(1991.5, 2.7), fontsize = 12,\n",
        "            arrowprops=dict(facecolor='grey', shrink=0.05, linewidth = 2))\n",
        "plt.annotate('NBA moved back\\n3-point line', xy=(1998, 2.), xytext=(1998.5, 2.4), fontsize = 12, arrowprops=dict(facecolor='grey', shrink=0.05, linewidth = 2))\n",
        "plt.show()"
      ],
      "metadata": {
        "id": "saTfWfgPBHiD"
      },
      "execution_count": null,
      "outputs": []
    },
    {
      "cell_type": "markdown",
      "source": [
        "###Zadanie 10\n",
        "Regresja liniowa w Sparku - ile będzie rzutów na koniec 2022? Użyj Regresji Logistycznej"
      ],
      "metadata": {
        "id": "_mgNGXqmBRx4"
      }
    },
    {
      "cell_type": "code",
      "source": [
        "#kod"
      ],
      "metadata": {
        "id": "0OrT8BuRBJLx"
      },
      "execution_count": null,
      "outputs": []
    },
    {
      "cell_type": "markdown",
      "source": [
        "###Heatmap 3-point shoots"
      ],
      "metadata": {
        "id": "TZaDgZ4FCTj0"
      }
    },
    {
      "cell_type": "code",
      "source": [
        "#statystyki skąd rzuty\n",
        "df = spark.read.csv(path='data/shot_charts_top_10/1000_plus_shot_charts_2011_2016.csv', header=True, inferSchema=True)"
      ],
      "metadata": {
        "id": "Wjc_VrCJCY-N"
      },
      "execution_count": null,
      "outputs": []
    },
    {
      "cell_type": "code",
      "source": [
        "df.cache()\n",
        "df.count()"
      ],
      "metadata": {
        "id": "BcvJjGE7Cf6I"
      },
      "execution_count": null,
      "outputs": []
    },
    {
      "cell_type": "code",
      "source": [
        "df.show()"
      ],
      "metadata": {
        "id": "omzaSYxnChNV"
      },
      "execution_count": null,
      "outputs": []
    },
    {
      "cell_type": "code",
      "source": [
        "from nba_utils import draw_3pt_piechart,plot_shot_chart\n",
        "import numpy as np\n",
        "player = 'Stephen Curry'\n",
        "yr = '2016'\n",
        "df_steph = df.filter(f'''name == \"{player}\"\n",
        "                        and yr == {yr}\n",
        "                        and y < 400''')\n",
        "#https://www.programiz.com/python-programming/list-comprehension\n",
        "\n",
        "x = np.array([v[0] for v in df_steph.select('x').collect()])\n",
        "y = np.array([v[0] for v in df_steph.select('y').collect()])\n",
        "p=plot_shot_chart(x, y, gridsize = 30,\n",
        "                      kind='hex')\n",
        "# p.savefig('results/steph_curry_2016_shotchart.png')\n",
        "plt.show()"
      ],
      "metadata": {
        "id": "90y-VPNXCicV"
      },
      "execution_count": null,
      "outputs": []
    },
    {
      "cell_type": "code",
      "source": [
        "import warnings\n",
        "warnings.simplefilter(\"ignore\")"
      ],
      "metadata": {
        "id": "6xIgFLkDCj9m"
      },
      "execution_count": null,
      "outputs": []
    },
    {
      "cell_type": "code",
      "source": [
        "df.show(5)"
      ],
      "metadata": {
        "id": "xCVClxrWIXEj"
      },
      "execution_count": null,
      "outputs": []
    },
    {
      "cell_type": "code",
      "source": [
        "def is_corner_3(xy):\n",
        "    '''Want to identify corner 3 point attempts'''\n",
        "    x,y = xy\n",
        "    return int((abs(x) >= 220) and (y < 92.5))\n",
        "\n",
        "def is_normal_3(xycorner3):\n",
        "    '''Want to identify normal (not corner 3) point attempts'''\n",
        "    x,y,corner3 = xycorner3\n",
        "    radius = 475/2.\n",
        "    y_3pt = np.sqrt(np.square(radius) - np.square(x))\n",
        "    return int(y > max(92.5,y_3pt) and not corner3)"
      ],
      "metadata": {
        "id": "IMMmgn28IYVp"
      },
      "execution_count": null,
      "outputs": []
    },
    {
      "cell_type": "code",
      "source": [
        "from pyspark.sql.functions import array,udf\n",
        "from pyspark.sql.types import IntegerType\n",
        "\n",
        "corner_3_udf = udf(is_corner_3, IntegerType())\n",
        "normal_3_udf = udf(is_normal_3, IntegerType())\n",
        "\n",
        "df2 = df.withColumn('corner_3', corner_3_udf(array([df.x,df.y])))\n",
        "df3 = df2.withColumn('normal_3', normal_3_udf(array([df2.x,df2.y,df2.corner_3])))\n",
        "df4 = df3.withColumn('is_a_3', df3.corner_3 + df3.normal_3)\n",
        "\n",
        "df = df4\n",
        "df.cache()"
      ],
      "metadata": {
        "id": "Ud9NSgiEIadX"
      },
      "execution_count": null,
      "outputs": []
    },
    {
      "cell_type": "code",
      "source": [
        "from pyspark.sql.functions import mean\n",
        "from nba_utils import draw_3pt_piechart,plot_shot_chart\n",
        "\n",
        "# make shot charts for all years\n",
        "midrange_thresh = 8\n",
        "in_half_court = 'y <= 400 and abs(x) <= 250'\n",
        "addl_filter = f'shot_distance > {midrange_thresh}'\n",
        "for yr in range(2011,2016+1):\n",
        "    df_yr = df.filter(f'''{in_half_court}\n",
        "                         and yr == {yr}\n",
        "                         and {addl_filter}''')\n",
        "    x = np.array([v[0] for v in df_yr.select('x').collect()])\n",
        "    y = np.array([v[0] for v in df_yr.select('y').collect()])\n",
        "    p = plot_shot_chart(x,y, gridsize = 30, kind = 'hex', label = yr)\n",
        "    p.fig.suptitle('Evolution of the 3 point shot', x = .19, y = 0.86, size = 20, fontweight= 'bold')\n",
        "\n",
        "    per_3 = df_yr.select(mean(df_yr.is_a_3)).take(1)[0][0]\n",
        "    per_midrange = 1 - per_3\n",
        "    draw_3pt_piechart(per_3, per_midrange)\n",
        "    plt.show()\n",
        "#     p.savefig('results/all_years/{}.png'.format(yr))\n",
        "#     plt.close()"
      ],
      "metadata": {
        "id": "rnXjacT8ClcD"
      },
      "execution_count": null,
      "outputs": []
    },
    {
      "cell_type": "markdown",
      "source": [
        "###Shots efficiency"
      ],
      "metadata": {
        "id": "6cRQoCCZCwLf"
      }
    },
    {
      "cell_type": "code",
      "source": [
        "from pyspark.sql.functions import count, when\n",
        "\n",
        "shot_acc = df.groupBy('shot_distance','corner_3','normal_3','is_a_3')\\\n",
        "             .agg(count('*').alias('num_attempts'),mean(df.shot_made_flag).alias('shot_accuracy'))\\\n",
        "             .withColumn('points_per_shot',when(f.col('is_a_3') == 1, f.col('shot_accuracy')*3)\n",
        "                                           .otherwise(f.col('shot_accuracy')*2)\n",
        "                        )\\\n",
        "             .filter('num_attempts > 5')\\\n",
        "             .orderBy('shot_distance')\\\n",
        "             .toPandas()"
      ],
      "metadata": {
        "id": "62Wyn_COCyaH"
      },
      "execution_count": null,
      "outputs": []
    },
    {
      "cell_type": "code",
      "source": [
        "df.show(3)"
      ],
      "metadata": {
        "id": "dA6kQ-3YC-zY"
      },
      "execution_count": null,
      "outputs": []
    },
    {
      "cell_type": "code",
      "source": [
        "shot_acc"
      ],
      "metadata": {
        "id": "nyjaD1DzDASo"
      },
      "execution_count": null,
      "outputs": []
    },
    {
      "cell_type": "code",
      "source": [
        "plt.style.use('fivethirtyeight')\n",
        "plt.figure(figsize = (10,6))\n",
        "\n",
        "def plot_acc_vs_dist(df,kwargs = {}):\n",
        "    plt.plot(df.shot_distance, df.points_per_shot, **kwargs)\n",
        "\n",
        "plot_acc_vs_dist(shot_acc.query('is_a_3 == False'), {'color' : '#008fd5'})\n",
        "plot_acc_vs_dist(shot_acc.query('is_a_3 == True'), {'color' : '#008fd5'})\n",
        "plt.title('Shot value vs. shot distance, 2011-2016 seasons\\n Players with 1000+ attempts in a season')\n",
        "plt.xlim(0,30)\n",
        "plt.xlabel('Shot Distance (ft)')\n",
        "plt.ylabel('Points per shot')\n",
        "plt.annotate('high efficiency 2s', xy=(2., 1.15), xytext=(4.5, 1.28),\n",
        "            arrowprops=dict(facecolor='grey', shrink=0.05))\n",
        "plt.annotate('high efficiency 3s', xy=(22, 1.15), xytext=(14.5, 1.15),\n",
        "            arrowprops=dict(facecolor='grey', shrink=0.05))\n",
        "plt.text(22, 1.25, 'corner 3s', fontsize = 12)\n",
        "#plt.savefig('results/pps.png')"
      ],
      "metadata": {
        "id": "0NKJj3sVDBvX"
      },
      "execution_count": null,
      "outputs": []
    }
  ],
  "metadata": {
    "colab": {
      "provenance": [],
      "toc_visible": true,
      "include_colab_link": true
    },
    "kernelspec": {
      "display_name": "Python 3",
      "name": "python3"
    }
  },
  "nbformat": 4,
  "nbformat_minor": 0
}